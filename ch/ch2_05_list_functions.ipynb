{
  "nbformat": 4,
  "nbformat_minor": 0,
  "metadata": {
    "colab": {
      "name": "ch2_05_list_functions.ipynb",
      "provenance": [],
      "include_colab_link": true
    },
    "kernelspec": {
      "name": "python3",
      "display_name": "Python 3"
    }
  },
  "cells": [
    {
      "cell_type": "markdown",
      "metadata": {
        "id": "view-in-github",
        "colab_type": "text"
      },
      "source": [
        "<a href=\"https://colab.research.google.com/github/Gyunnni/SM12/blob/master/ch/ch2_05_list_functions.ipynb\" target=\"_parent\"><img src=\"https://colab.research.google.com/assets/colab-badge.svg\" alt=\"Open In Colab\"/></a>"
      ]
    },
    {
      "cell_type": "markdown",
      "metadata": {
        "id": "i84KrsUoX_B1",
        "colab_type": "text"
      },
      "source": [
        "#ch2_05_list_functions.py"
      ]
    },
    {
      "cell_type": "markdown",
      "metadata": {
        "id": "-QAAo6rIYUmA",
        "colab_type": "text"
      },
      "source": [
        "##리스트: 내부 함수 이용"
      ]
    },
    {
      "cell_type": "markdown",
      "metadata": {
        "id": "I1nG59I8Yy3G",
        "colab_type": "text"
      },
      "source": [
        "### 리스트에 요소 추가(append)"
      ]
    },
    {
      "cell_type": "code",
      "metadata": {
        "colab_type": "code",
        "id": "XjvLbPNqZAk3",
        "outputId": "a5e96267-428a-4a30-d505-240ffa7979f9",
        "colab": {
          "base_uri": "https://localhost:8080/",
          "height": 52
        }
      },
      "source": [
        "a = [1, 2, 3]\n",
        "a.append(4)\n",
        "print(a)\n",
        "# 리스트 안에는 어떤 자료형도 추가할 수 있다.\n",
        "# 리스트에 다시 리스트를 추가한 결과\n",
        "a.append([5, 6])\n",
        "print(a)\n"
      ],
      "execution_count": 0,
      "outputs": [
        {
          "output_type": "stream",
          "text": [
            "[1, 2, 3, 4]\n",
            "[1, 2, 3, 4, [5, 6]]\n"
          ],
          "name": "stdout"
        }
      ]
    },
    {
      "cell_type": "markdown",
      "metadata": {
        "id": "sFb7kzScZH09",
        "colab_type": "text"
      },
      "source": [
        "###리스트 정렬(sort)"
      ]
    },
    {
      "cell_type": "code",
      "metadata": {
        "id": "tnJLVBk1ZG_k",
        "colab_type": "code",
        "outputId": "192e1c7d-267c-4b2b-ac19-767ec5f9b227",
        "colab": {
          "base_uri": "https://localhost:8080/",
          "height": 52
        }
      },
      "source": [
        "a = [1, 4, 3, 2]\n",
        "a.sort()\n",
        "print(a)\n",
        "\n",
        "s = [\"a\", \"c\", \"b\"]\n",
        "s.sort()\n",
        "print(s)\n",
        "#\n"
      ],
      "execution_count": 0,
      "outputs": [
        {
          "output_type": "stream",
          "text": [
            "[1, 2, 3, 4]\n",
            "['a', 'b', 'c']\n"
          ],
          "name": "stdout"
        }
      ]
    },
    {
      "cell_type": "markdown",
      "metadata": {
        "id": "eLzUP7K0ZaT7",
        "colab_type": "text"
      },
      "source": [
        "### 리스트 뒤집기(reverse)"
      ]
    },
    {
      "cell_type": "code",
      "metadata": {
        "id": "-eMWyCw4ZZmM",
        "colab_type": "code",
        "outputId": "6eb40560-5b4c-4c61-b04c-a657fc758f1a",
        "colab": {
          "base_uri": "https://localhost:8080/",
          "height": 34
        }
      },
      "source": [
        "\n",
        "#\n",
        "a = [\"a\", \"c\", \"b\"]\n",
        "a.reverse()\n",
        "print(a)\n",
        "#\n"
      ],
      "execution_count": 0,
      "outputs": [
        {
          "output_type": "stream",
          "text": [
            "['b', 'c', 'a']\n"
          ],
          "name": "stdout"
        }
      ]
    },
    {
      "cell_type": "markdown",
      "metadata": {
        "id": "HEZXvtFaZfYt",
        "colab_type": "text"
      },
      "source": [
        "### 위치 반환(index)"
      ]
    },
    {
      "cell_type": "code",
      "metadata": {
        "id": "FWUc06qWZemo",
        "colab_type": "code",
        "outputId": "c1114f1c-f987-4add-ebaa-2c57d00aa176",
        "colab": {
          "base_uri": "https://localhost:8080/",
          "height": 70
        }
      },
      "source": [
        "\n",
        "#\n",
        "a = [1, 2, 3]\n",
        "print(a.index(3)) #3이 몇번 째 index에 위치하는지\n",
        "print(a.index(1))\n",
        "#print(a.index(0)) 0은 없으므로 오류가 발생!!\n",
        "\n",
        "s = [\"a\", \"c\", \"b\"]\n",
        "#s.index(3)  # Error\n",
        "#s.index(a)  # Error\n",
        "s.index(\"a\")\n",
        "\n",
        "#\n"
      ],
      "execution_count": 0,
      "outputs": [
        {
          "output_type": "stream",
          "text": [
            "2\n",
            "0\n"
          ],
          "name": "stdout"
        },
        {
          "output_type": "execute_result",
          "data": {
            "text/plain": [
              "0"
            ]
          },
          "metadata": {
            "tags": []
          },
          "execution_count": 5
        }
      ]
    },
    {
      "cell_type": "markdown",
      "metadata": {
        "id": "22aXbwPHZkC-",
        "colab_type": "text"
      },
      "source": [
        "### 리스트에 요소 삽입(insert)"
      ]
    },
    {
      "cell_type": "code",
      "metadata": {
        "id": "c84rzBjdZjXv",
        "colab_type": "code",
        "outputId": "c3baf75d-088a-4802-81e5-8f79f684d7ca",
        "colab": {
          "base_uri": "https://localhost:8080/",
          "height": 52
        }
      },
      "source": [
        "a = [1, 2, 3]\n",
        "a.insert(0, 4)\n",
        "print(a)\n",
        "a.insert(3, 5)\n",
        "print(a)\n"
      ],
      "execution_count": 0,
      "outputs": [
        {
          "output_type": "stream",
          "text": [
            "[4, 1, 2, 3]\n",
            "[4, 1, 2, 5, 3]\n"
          ],
          "name": "stdout"
        }
      ]
    },
    {
      "cell_type": "markdown",
      "metadata": {
        "id": "lWKZKSh7aGoS",
        "colab_type": "text"
      },
      "source": [
        "\n",
        "### 리스트 요소 제거(remove)\n"
      ]
    },
    {
      "cell_type": "code",
      "metadata": {
        "id": "MQ950jd0aF10",
        "colab_type": "code",
        "outputId": "8945e32f-caf2-45fb-9c6a-c6303f19df3a",
        "colab": {
          "base_uri": "https://localhost:8080/",
          "height": 52
        }
      },
      "source": [
        "a = [1, 2, 3, 1, 2, 3]\n",
        "a.remove(3)\n",
        "print(a)\n",
        "# 3을 리스트 a에서 완전히 제거\n",
        "\n",
        "a.remove(3)\n",
        "print(a)\n",
        "#a.remove(3) "
      ],
      "execution_count": 0,
      "outputs": [
        {
          "output_type": "stream",
          "text": [
            "[1, 2, 1, 2, 3]\n",
            "[1, 2, 1, 2]\n"
          ],
          "name": "stdout"
        }
      ]
    },
    {
      "cell_type": "markdown",
      "metadata": {
        "id": "Ht_16k_2bAOO",
        "colab_type": "text"
      },
      "source": [
        "### 리스트 요소 끄집어내기(pop)"
      ]
    },
    {
      "cell_type": "code",
      "metadata": {
        "id": "65naJK7EaSek",
        "colab_type": "code",
        "outputId": "43df5dc2-0999-4757-d4ca-fb6958a818bc",
        "colab": {
          "base_uri": "https://localhost:8080/",
          "height": 34
        }
      },
      "source": [
        "a = [1, 2, 3]\n",
        "#a[2] + \"hi\"  # TypeError\n",
        "str(a[2]) + \"hi\"\n",
        "#\n"
      ],
      "execution_count": 0,
      "outputs": [
        {
          "output_type": "execute_result",
          "data": {
            "text/plain": [
              "'3hi'"
            ]
          },
          "metadata": {
            "tags": []
          },
          "execution_count": 13
        }
      ]
    },
    {
      "cell_type": "markdown",
      "metadata": {
        "id": "3rfE60GObLZa",
        "colab_type": "text"
      },
      "source": [
        "### 리스트의 수정과 삭제"
      ]
    },
    {
      "cell_type": "code",
      "metadata": {
        "id": "peo_JBPBbKkG",
        "colab_type": "code",
        "outputId": "5c50db52-75db-458b-f5de-ebd687d1c494",
        "colab": {
          "base_uri": "https://localhost:8080/",
          "height": 52
        }
      },
      "source": [
        "a = [1, 2, 3]\n",
        "# pop()은 리스트의 맨 마지막 요소를 돌려주고 그 요소는 삭제한다.\n",
        "a.pop()\n",
        "print(a)\n",
        "#\n",
        "a = [1, 2, 3]\n",
        "# pop(x)는 리스트의 index가 x인 요소를 돌려주고 그 요소는 삭제한다.\n",
        "a.pop(1)\n",
        "print(a)\n",
        "#a.pop(2)  IndexError\n",
        "\n",
        "#"
      ],
      "execution_count": 0,
      "outputs": [
        {
          "output_type": "stream",
          "text": [
            "[1, 2]\n",
            "[1, 3]\n"
          ],
          "name": "stdout"
        }
      ]
    },
    {
      "cell_type": "markdown",
      "metadata": {
        "id": "XjTwy3eAbgpY",
        "colab_type": "text"
      },
      "source": [
        "\n",
        "### 리스트에 포함된 요소 x의 개수 세기(count)"
      ]
    },
    {
      "cell_type": "code",
      "metadata": {
        "id": "AW9cQ-Wxbe4O",
        "colab_type": "code",
        "outputId": "ef93bfdd-0168-44c4-d1b8-1435b59a8622",
        "colab": {
          "base_uri": "https://localhost:8080/",
          "height": 34
        }
      },
      "source": [
        "a = [1, 2, 3, 1]\n",
        "print(a.count(1))"
      ],
      "execution_count": 0,
      "outputs": [
        {
          "output_type": "stream",
          "text": [
            "2\n"
          ],
          "name": "stdout"
        }
      ]
    },
    {
      "cell_type": "markdown",
      "metadata": {
        "id": "DL_an0WWblzC",
        "colab_type": "text"
      },
      "source": [
        "### 리스트 확장(extend)"
      ]
    },
    {
      "cell_type": "code",
      "metadata": {
        "id": "0qRGmzPHblEt",
        "colab_type": "code",
        "outputId": "dbb53be9-fe26-41c8-9d5c-421f73e9f0c4",
        "colab": {
          "base_uri": "https://localhost:8080/",
          "height": 70
        }
      },
      "source": [
        "a = [1, 2, 3]\n",
        "a.extend([4, 5])\n",
        "print(a)  # a.extend([4, 5])는 a += [4, 5]와 동일\n",
        "\n",
        "b = [6, 7]\n",
        "a.extend(b)\n",
        "print(a)\n",
        "\n",
        "#\n",
        "#\n",
        "\"\"\"\n",
        "Author: redwoods\n",
        "파이썬 코드: ch2_05_list_functions.py\n",
        "\"\"\"\n"
      ],
      "execution_count": 0,
      "outputs": [
        {
          "output_type": "stream",
          "text": [
            "[1, 2, 3, 4, 5]\n",
            "[1, 2, 3, 4, 5, 6, 7]\n"
          ],
          "name": "stdout"
        },
        {
          "output_type": "execute_result",
          "data": {
            "text/plain": [
              "'\\nAuthor: redwoods\\n파이썬 코드: ch2_05_list_functions.py\\n'"
            ]
          },
          "metadata": {
            "tags": []
          },
          "execution_count": 16
        }
      ]
    },
    {
      "cell_type": "code",
      "metadata": {
        "id": "Z7qL13xObrr_",
        "colab_type": "code",
        "colab": {}
      },
      "source": [
        ""
      ],
      "execution_count": 0,
      "outputs": []
    }
  ]
}