{
  "nbformat": 4,
  "nbformat_minor": 0,
  "metadata": {
    "colab": {
      "name": "sm12_ch06_exercise.ipynb",
      "provenance": [],
      "collapsed_sections": [],
      "include_colab_link": true
    },
    "kernelspec": {
      "name": "python3",
      "display_name": "Python 3"
    }
  },
  "cells": [
    {
      "cell_type": "markdown",
      "metadata": {
        "id": "view-in-github",
        "colab_type": "text"
      },
      "source": [
        "<a href=\"https://colab.research.google.com/github/Gyunnni/SM12/blob/master/sm12_ch06_exercise.ipynb\" target=\"_parent\"><img src=\"https://colab.research.google.com/assets/colab-badge.svg\" alt=\"Open In Colab\"/></a>"
      ]
    },
    {
      "cell_type": "markdown",
      "metadata": {
        "id": "7hMkxQKhV-Dm",
        "colab_type": "text"
      },
      "source": [
        "## 06-1 내가 프로그램을 만들 수 있을까?\n",
        "입력받는 값은? 2\n",
        "\n",
        "출력하는 값은? 2단(2, 4, 6, 8, …, 18)\n",
        "\n",
        "결과는 연속된 자료형이니까 리스트!"
      ]
    },
    {
      "cell_type": "code",
      "metadata": {
        "id": "xeADjbavVsCZ",
        "colab_type": "code",
        "colab": {}
      },
      "source": [
        "def GuGu(n):\n",
        "    result = []\n",
        "    i = 1\n",
        "    while i < 10:\n",
        "        result.append(n * i)\n",
        "        i = i + 1\n",
        "    return result\n",
        "    "
      ],
      "execution_count": 0,
      "outputs": []
    },
    {
      "cell_type": "code",
      "metadata": {
        "id": "jKtXXpwLVy2C",
        "colab_type": "code",
        "colab": {
          "base_uri": "https://localhost:8080/",
          "height": 34
        },
        "outputId": "4932ccbc-aff2-4dd4-a24e-6a431076c8c6"
      },
      "source": [
        "print(GuGu(2))"
      ],
      "execution_count": 4,
      "outputs": [
        {
          "output_type": "stream",
          "text": [
            "[2, 4, 6, 8, 10, 12, 14, 16, 18]\n"
          ],
          "name": "stdout"
        }
      ]
    },
    {
      "cell_type": "markdown",
      "metadata": {
        "id": "ISgwFWtsWP-M",
        "colab_type": "text"
      },
      "source": [
        "## 06-2 3과 5의 배수 합하기\n",
        "10 미만의 자연수에서 3과 5의 배수를 구하면 3, 5, 6, 9이다. 이들의 총합은 23이다.\n",
        "\n",
        "1000 미만의 자연수에서 3의 배수와 5의 배수의 총합을 구하라."
      ]
    },
    {
      "cell_type": "code",
      "metadata": {
        "id": "64dj7yXuV3O3",
        "colab_type": "code",
        "colab": {
          "base_uri": "https://localhost:8080/",
          "height": 34
        },
        "outputId": "a3f498f3-c342-45c9-f06a-f6b379066283"
      },
      "source": [
        "result = 0\n",
        "for n in range(1, 1000):\n",
        "    if n % 3 == 0 or n % 5 == 0: \n",
        "        result += n\n",
        "print(result)"
      ],
      "execution_count": 5,
      "outputs": [
        {
          "output_type": "stream",
          "text": [
            "233168\n"
          ],
          "name": "stdout"
        }
      ]
    },
    {
      "cell_type": "markdown",
      "metadata": {
        "id": "YjGyTlr2Wb60",
        "colab_type": "text"
      },
      "source": [
        "## 06-3 게시판 페이징하기\n",
        "\n",
        "함수 이름은? getTotalPage\n",
        "\n",
        "입력 받는 값은? 게시물의 총 건수(m), 한 페이지에 보여줄 게시물 수(n)\n",
        "\n",
        "출력하는 값은? 총 페이지수"
      ]
    },
    {
      "cell_type": "code",
      "metadata": {
        "id": "hVI7f0xmWUve",
        "colab_type": "code",
        "colab": {
          "base_uri": "https://localhost:8080/",
          "height": 87
        },
        "outputId": "20d8b84d-7272-462a-dd5b-33c9b4b154bb"
      },
      "source": [
        "def getTotalPage(m, n):\n",
        "    if m % n == 0:\n",
        "        return m // n\n",
        "    else:\n",
        "        return m // n + 1\n",
        "\n",
        "print(getTotalPage(5, 10))\n",
        "print(getTotalPage(15, 10))\n",
        "print(getTotalPage(25, 10))\n",
        "print(getTotalPage(30, 10))\n",
        "#총건수가 30이고 한 페이지에 보여줄 건수가 10이라면 당연히 총 페이지 수는 3이 되어야 한다."
      ],
      "execution_count": 8,
      "outputs": [
        {
          "output_type": "stream",
          "text": [
            "1\n",
            "2\n",
            "3\n",
            "3\n"
          ],
          "name": "stdout"
        }
      ]
    },
    {
      "cell_type": "markdown",
      "metadata": {
        "id": "9iumJ7P-dkyu",
        "colab_type": "text"
      },
      "source": [
        "## 06-4 간단한 메모장 만들기\n",
        "필요한 기능은? 메모 추가하기, 메모 조회하기\n",
        "\n",
        "입력 받는 값은? 메모 내용, 프로그램 실행 옵션\n",
        "\n",
        "출력하는 값은? memo.txt\n",
        "\n",
        "python memo.py -a \"Life is too short\""
      ]
    },
    {
      "cell_type": "code",
      "metadata": {
        "id": "8O4W193mWjE5",
        "colab_type": "code",
        "colab": {}
      },
      "source": [
        "\n",
        "option = sys.argv[1]\n",
        "\n",
        "if option == '-a':\n",
        "    memo = sys.argv[2]\n",
        "    f = open('memo.txt', 'a')\n",
        "    f.write(memo)\n",
        "    f.write('\\n')\n",
        "    f.close()\n",
        "elif option == '-v':\n",
        "    f = open('memo.txt')\n",
        "    memo = f.read()\n",
        "    f.close()\n",
        "    print(memo)"
      ],
      "execution_count": 0,
      "outputs": []
    },
    {
      "cell_type": "markdown",
      "metadata": {
        "id": "wuCPAJyDd5Os",
        "colab_type": "text"
      },
      "source": [
        "sys.argv는 프로그램 실행 시 입력된 값들을 읽어 들일 수 있는 파이썬 라이브러리이다. \n",
        "\n",
        "// sys.argv[0]는 입력 받은 값 중에서 파이썬 프로그램명인 memo.py이므로 우리가 만들고자 하는 기능에는 필요 없는 값이다. \n",
        "\n",
        "// 그리고 순서대로 sys.argv[1]은 프로그램 실행 옵션값이 되고 sys.argv[2]는 메모 내용이 된다.\n",
        "\n",
        " memo.py를 작성했다면 다음과 같은 명령을 수행해 보자."
      ]
    },
    {
      "cell_type": "code",
      "metadata": {
        "id": "YFfO8urQeH_P",
        "colab_type": "code",
        "colab": {
          "base_uri": "https://localhost:8080/",
          "height": 34
        },
        "outputId": "62c3cb26-0c65-45c3-8ebc-d323121f9c4a"
      },
      "source": [
        "run memo.py -a \"Life is too short\""
      ],
      "execution_count": 15,
      "outputs": [
        {
          "output_type": "stream",
          "text": [
            "ERROR:root:File `'memo.py'` not found.\n"
          ],
          "name": "stderr"
        }
      ]
    },
    {
      "cell_type": "code",
      "metadata": {
        "id": "LmIuak3Ndzsu",
        "colab_type": "code",
        "colab": {
          "base_uri": "https://localhost:8080/",
          "height": 34
        },
        "outputId": "681621b8-cda4-4e9f-cc24-92fa2830fb7b"
      },
      "source": [
        "run memo.py -a \"You need python\""
      ],
      "execution_count": 12,
      "outputs": [
        {
          "output_type": "stream",
          "text": [
            "ERROR:root:File `'memo.py'` not found.\n"
          ],
          "name": "stderr"
        }
      ]
    },
    {
      "cell_type": "code",
      "metadata": {
        "id": "DGPwhrYseLEr",
        "colab_type": "code",
        "colab": {
          "base_uri": "https://localhost:8080/",
          "height": 34
        },
        "outputId": "fb5eaddc-64d0-4dd6-b5be-ce171c934859"
      },
      "source": [
        "run memo.py -v"
      ],
      "execution_count": 13,
      "outputs": [
        {
          "output_type": "stream",
          "text": [
            "ERROR:root:File `'memo.py'` not found.\n"
          ],
          "name": "stderr"
        }
      ]
    },
    {
      "cell_type": "code",
      "metadata": {
        "id": "oP3YuY8ueNCS",
        "colab_type": "code",
        "colab": {}
      },
      "source": [
        "import sys\n",
        "\n",
        "option = sys.argv[1]\n",
        "\n",
        "if option == '-a':\n",
        "    memo = sys.argv[2:]\n",
        "    with open('memo.txt', 'a') as f:\n",
        "        for i in memo:\n",
        "            f.write(i + '\\n')\n",
        "elif option == '-v':\n",
        "    with open('memo.txt') as f:\n",
        "       memo = f.read()\n",
        "    print(memo)"
      ],
      "execution_count": 0,
      "outputs": []
    },
    {
      "cell_type": "code",
      "metadata": {
        "id": "al-aeUj4eSfr",
        "colab_type": "code",
        "colab": {}
      },
      "source": [
        "run memo.py -a \"Life is too short\" \"You need python\""
      ],
      "execution_count": 0,
      "outputs": []
    },
    {
      "cell_type": "code",
      "metadata": {
        "id": "vew9wl4FeW50",
        "colab_type": "code",
        "colab": {}
      },
      "source": [
        "run memo.py -v"
      ],
      "execution_count": 0,
      "outputs": []
    },
    {
      "cell_type": "markdown",
      "metadata": {
        "id": "QgpaG4FOeZNJ",
        "colab_type": "text"
      },
      "source": [
        "## 06-5 탭을 4개의 공백으로 바꾸기"
      ]
    },
    {
      "cell_type": "code",
      "metadata": {
        "id": "4V7fzjoQfa1-",
        "colab_type": "code",
        "colab": {
          "base_uri": "https://localhost:8080/",
          "height": 239
        },
        "outputId": "2777f406-8a26-4666-f8d2-86ef52721bba"
      },
      "source": [
        "import sys\n",
        "\n",
        "src = sys.argv[1]\n",
        "dst = sys.argv[2]\n",
        "\n",
        "f = open(src)\n",
        "tab_content = f.read()\n",
        "f.close()\n",
        "\n",
        "space_content = tab_content.replace(\"\\t\", \" \"*4)\n",
        "\n",
        "f = open(dst, 'w')\n",
        "f.write(space_content)\n",
        "f.close()"
      ],
      "execution_count": 17,
      "outputs": [
        {
          "output_type": "error",
          "ename": "FileNotFoundError",
          "evalue": "ignored",
          "traceback": [
            "\u001b[0;31m---------------------------------------------------------------------------\u001b[0m",
            "\u001b[0;31mFileNotFoundError\u001b[0m                         Traceback (most recent call last)",
            "\u001b[0;32m<ipython-input-17-9eaaec152718>\u001b[0m in \u001b[0;36m<module>\u001b[0;34m()\u001b[0m\n\u001b[1;32m      4\u001b[0m \u001b[0mdst\u001b[0m \u001b[0;34m=\u001b[0m \u001b[0msys\u001b[0m\u001b[0;34m.\u001b[0m\u001b[0margv\u001b[0m\u001b[0;34m[\u001b[0m\u001b[0;36m2\u001b[0m\u001b[0;34m]\u001b[0m\u001b[0;34m\u001b[0m\u001b[0;34m\u001b[0m\u001b[0m\n\u001b[1;32m      5\u001b[0m \u001b[0;34m\u001b[0m\u001b[0m\n\u001b[0;32m----> 6\u001b[0;31m \u001b[0mf\u001b[0m \u001b[0;34m=\u001b[0m \u001b[0mopen\u001b[0m\u001b[0;34m(\u001b[0m\u001b[0msrc\u001b[0m\u001b[0;34m)\u001b[0m\u001b[0;34m\u001b[0m\u001b[0;34m\u001b[0m\u001b[0m\n\u001b[0m\u001b[1;32m      7\u001b[0m \u001b[0mtab_content\u001b[0m \u001b[0;34m=\u001b[0m \u001b[0mf\u001b[0m\u001b[0;34m.\u001b[0m\u001b[0mread\u001b[0m\u001b[0;34m(\u001b[0m\u001b[0;34m)\u001b[0m\u001b[0;34m\u001b[0m\u001b[0;34m\u001b[0m\u001b[0m\n\u001b[1;32m      8\u001b[0m \u001b[0mf\u001b[0m\u001b[0;34m.\u001b[0m\u001b[0mclose\u001b[0m\u001b[0;34m(\u001b[0m\u001b[0;34m)\u001b[0m\u001b[0;34m\u001b[0m\u001b[0;34m\u001b[0m\u001b[0m\n",
            "\u001b[0;31mFileNotFoundError\u001b[0m: [Errno 2] No such file or directory: '-f'"
          ]
        }
      ]
    },
    {
      "cell_type": "code",
      "metadata": {
        "id": "BVCbdksKfqsi",
        "colab_type": "code",
        "colab": {
          "base_uri": "https://localhost:8080/",
          "height": 34
        },
        "outputId": "1efaf0da-ba0d-4e39-cd82-0ab9261b0242"
      },
      "source": [
        "run tabto4.py a.txt b.txt"
      ],
      "execution_count": 18,
      "outputs": [
        {
          "output_type": "stream",
          "text": [
            "ERROR:root:File `'tabto4.py'` not found.\n"
          ],
          "name": "stderr"
        }
      ]
    },
    {
      "cell_type": "code",
      "metadata": {
        "id": "K1Kjrrssfsx3",
        "colab_type": "code",
        "colab": {}
      },
      "source": [
        "with open('a.txt', 'r') as f:\n",
        "    print(f.read())\n",
        "\n",
        "print()\n",
        "\n",
        "with open('b.txt', 'r') as f:\n",
        "    print(f.read())"
      ],
      "execution_count": 0,
      "outputs": []
    },
    {
      "cell_type": "code",
      "metadata": {
        "id": "C1LZ7XqHfwbb",
        "colab_type": "code",
        "colab": {}
      },
      "source": [
        "import sys\n",
        "\n",
        "src = sys.argv[1]\n",
        "dst = sys.argv[2]\n",
        "\n",
        "with open(src) as f:\n",
        "    tab_content = f.read()\n",
        "\n",
        "space_content = tab_content.replace(\"\\t\", \" \"*4)\n",
        "\n",
        "with open(dst, 'w') as f:\n",
        "    f.write(space_content)"
      ],
      "execution_count": 0,
      "outputs": []
    },
    {
      "cell_type": "code",
      "metadata": {
        "id": "tFidPUiZf0RS",
        "colab_type": "code",
        "colab": {}
      },
      "source": [
        "run tabto4.py a.txt b.txt"
      ],
      "execution_count": 0,
      "outputs": []
    },
    {
      "cell_type": "code",
      "metadata": {
        "id": "t4K7sc-_f3_9",
        "colab_type": "code",
        "colab": {}
      },
      "source": [
        "with open('a.txt', 'r') as f:\n",
        "    print(f.read())\n",
        "\n",
        "print()\n",
        "\n",
        "with open('b.txt', 'r') as f:\n",
        "    print(f.read())"
      ],
      "execution_count": 0,
      "outputs": []
    }
  ]
}