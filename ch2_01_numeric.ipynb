{
  "nbformat": 4,
  "nbformat_minor": 0,
  "metadata": {
    "colab": {
      "name": "ch2_01_numeric.ipynb",
      "provenance": [],
      "include_colab_link": true
    },
    "kernelspec": {
      "name": "python3",
      "display_name": "Python 3"
    }
  },
  "cells": [
    {
      "cell_type": "markdown",
      "metadata": {
        "id": "view-in-github",
        "colab_type": "text"
      },
      "source": [
        "<a href=\"https://colab.research.google.com/github/Gyunnni/SM12/blob/master/ch2_01_numeric.ipynb\" target=\"_parent\"><img src=\"https://colab.research.google.com/assets/colab-badge.svg\" alt=\"Open In Colab\"/></a>"
      ]
    },
    {
      "cell_type": "markdown",
      "metadata": {
        "id": "DoeONNwekbO7",
        "colab_type": "text"
      },
      "source": [
        "# 파이썬 데이터형 : 숫자형**굵은 텍스트**"
      ]
    },
    {
      "cell_type": "code",
      "metadata": {
        "id": "RRLKWBBakQBx",
        "colab_type": "code",
        "colab": {
          "base_uri": "https://localhost:8080/",
          "height": 53
        },
        "outputId": "a5124905-4dc1-4909-ddec-c22b371ec2c6"
      },
      "source": [
        "# ch2_01_numeric.py\n",
        "#\n",
        "print(\"숫자형: 정수\")\n",
        "a = 123\n",
        "print(a)\n"
      ],
      "execution_count": 13,
      "outputs": [
        {
          "output_type": "stream",
          "text": [
            "숫자형: 정수\n",
            "123\n"
          ],
          "name": "stdout"
        }
      ]
    },
    {
      "cell_type": "code",
      "metadata": {
        "id": "qOglvzOfmjUR",
        "colab_type": "code",
        "colab": {
          "base_uri": "https://localhost:8080/",
          "height": 35
        },
        "outputId": "5b5b584b-8bc1-4f1a-f2d7-b4fe9e7e442f"
      },
      "source": [
        "a = -178\n",
        "b = 0\n",
        "a,b"
      ],
      "execution_count": 14,
      "outputs": [
        {
          "output_type": "execute_result",
          "data": {
            "text/plain": [
              "(-178, 0)"
            ]
          },
          "metadata": {
            "tags": []
          },
          "execution_count": 14
        }
      ]
    },
    {
      "cell_type": "code",
      "metadata": {
        "id": "YsSnyDFEmMtb",
        "colab_type": "code",
        "colab": {
          "base_uri": "https://localhost:8080/",
          "height": 53
        },
        "outputId": "c5bc6054-1843-45df-8ccf-e9f84b32eaa7"
      },
      "source": [
        "print(\"숫자형: 실수\")\n",
        "a = 1.2\n",
        "b = -3.48\n",
        "c = 4.24e10\n",
        "d = 4.24e-10\n",
        "\n",
        "a,b,c,d"
      ],
      "execution_count": 15,
      "outputs": [
        {
          "output_type": "stream",
          "text": [
            "숫자형: 실수\n"
          ],
          "name": "stdout"
        },
        {
          "output_type": "execute_result",
          "data": {
            "text/plain": [
              "(1.2, -3.48, 42400000000.0, 4.24e-10)"
            ]
          },
          "metadata": {
            "tags": []
          },
          "execution_count": 15
        }
      ]
    },
    {
      "cell_type": "code",
      "metadata": {
        "id": "6m0zXM4imsI0",
        "colab_type": "code",
        "colab": {
          "base_uri": "https://localhost:8080/",
          "height": 53
        },
        "outputId": "41ba46e2-a49a-4a66-fade-756ea04b91e9"
      },
      "source": [
        "print(\"숫자형: 8진수와 16진수\")\n",
        "#진수로 표현한다.\n",
        "#o는 8진수, x:16진수 b:2진수\n",
        "a = 0o177\n",
        "b = 0x8FF  \n",
        "c = 0xABC\n",
        "a,b,c"
      ],
      "execution_count": 18,
      "outputs": [
        {
          "output_type": "stream",
          "text": [
            "숫자형: 8진수와 16진수\n"
          ],
          "name": "stdout"
        },
        {
          "output_type": "execute_result",
          "data": {
            "text/plain": [
              "(127, 2303, 2748)"
            ]
          },
          "metadata": {
            "tags": []
          },
          "execution_count": 18
        }
      ]
    },
    {
      "cell_type": "code",
      "metadata": {
        "id": "FPKdsMF9m4aI",
        "colab_type": "code",
        "colab": {
          "base_uri": "https://localhost:8080/",
          "height": 53
        },
        "outputId": "f3c5c1b5-a8c3-4e83-f84c-98fa7178efdf"
      },
      "source": [
        "print(\"숫자형: 연산자와 연산\")\n",
        "#python의 7칙 연산\n",
        "a = 3\n",
        "b = 4\n",
        "c = a + b\n",
        "d = a * b\n",
        "e = a / b\n",
        "f = a ** b\n",
        "#a의 지수가 됨 \n",
        "h = a % b\n",
        "i = a // b\n",
        "j = 14 // 3\n",
        "k = 14 % 3\n",
        "\n",
        "a,b,c,d,e,f,h,i,j,k"
      ],
      "execution_count": 20,
      "outputs": [
        {
          "output_type": "stream",
          "text": [
            "숫자형: 연산자와 연산\n"
          ],
          "name": "stdout"
        },
        {
          "output_type": "execute_result",
          "data": {
            "text/plain": [
              "(3, 4, 7, 12, 0.75, 81, 3, 0, 4, 2)"
            ]
          },
          "metadata": {
            "tags": []
          },
          "execution_count": 20
        }
      ]
    },
    {
      "cell_type": "code",
      "metadata": {
        "id": "q60GhUBLnTpw",
        "colab_type": "code",
        "colab": {}
      },
      "source": [
        ""
      ],
      "execution_count": 0,
      "outputs": []
    }
  ]
}