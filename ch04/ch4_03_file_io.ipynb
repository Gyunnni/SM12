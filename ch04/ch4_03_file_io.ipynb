{
  "nbformat": 4,
  "nbformat_minor": 0,
  "metadata": {
    "colab": {
      "name": "Untitled1.ipynb",
      "provenance": [],
      "include_colab_link": true
    },
    "kernelspec": {
      "name": "python3",
      "display_name": "Python 3"
    }
  },
  "cells": [
    {
      "cell_type": "markdown",
      "metadata": {
        "id": "view-in-github",
        "colab_type": "text"
      },
      "source": [
        "<a href=\"https://colab.research.google.com/github/Gyunnni/SM12/blob/master/ch04/ch4_03_file_io.ipynb\" target=\"_parent\"><img src=\"https://colab.research.google.com/assets/colab-badge.svg\" alt=\"Open In Colab\"/></a>"
      ]
    },
    {
      "cell_type": "markdown",
      "metadata": {
        "id": "aHUkN_ZHR7sd",
        "colab_type": "text"
      },
      "source": [
        "##  ch4_03_file_io.py"
      ]
    },
    {
      "cell_type": "markdown",
      "metadata": {
        "id": "Cv8TYopfR-dN",
        "colab_type": "text"
      },
      "source": [
        "### 파일 읽고 쓰기\n",
        "\n",
        "파일을 통한 입출력 방법에 대해 알아보자."
      ]
    },
    {
      "cell_type": "markdown",
      "metadata": {
        "id": "mFY2g_mzSBvX",
        "colab_type": "text"
      },
      "source": [
        "### 파일 쓰기(생성하기)\n",
        "\n",
        "파일 객체 = open(파일 이름, 파일 열기 모드)\n",
        "\n",
        " 파일열기모드\n",
        "r\t읽기모드 - 파일을 읽기만 할 때 사용\n",
        "\n",
        "w\t쓰기모드 - 파일에 내용을 쓸 때 사용\n",
        "\n",
        "a\t추가모드 - 파일의 마지막에 새로운 내용을 추가 시킬 때 사용"
      ]
    },
    {
      "cell_type": "code",
      "metadata": {
        "id": "Np2hSIIwSS6o",
        "colab_type": "code",
        "colab": {}
      },
      "source": [
        "f = open(\"새파일.txt\", \"w\")\n",
        "f.close()"
      ],
      "execution_count": 0,
      "outputs": []
    },
    {
      "cell_type": "markdown",
      "metadata": {
        "id": "KJWQwv2ESW5d",
        "colab_type": "text"
      },
      "source": [
        "#### 다른 폴더에 파일 생성"
      ]
    },
    {
      "cell_type": "code",
      "metadata": {
        "id": "HrRs8TrbR-Km",
        "colab_type": "code",
        "colab": {}
      },
      "source": [
        "\"\"\"\n",
        "f = open(\"C:/doit/새파일.txt\", 'w')\n",
        "f.close()\n",
        "\"\"\""
      ],
      "execution_count": 0,
      "outputs": []
    },
    {
      "cell_type": "markdown",
      "metadata": {
        "id": "QzF82DOTSbGP",
        "colab_type": "text"
      },
      "source": [
        "### 파일을 쓰기 모드로 열어 출력값 적기\n",
        "\n",
        "프로그램의 출력값을 파일에 직접 써 보자."
      ]
    },
    {
      "cell_type": "markdown",
      "metadata": {
        "id": "02zp-P2YSeuQ",
        "colab_type": "text"
      },
      "source": [
        "#### 모니터에 출력"
      ]
    },
    {
      "cell_type": "code",
      "metadata": {
        "id": "sxrQtzt9R5eR",
        "colab_type": "code",
        "colab": {
          "base_uri": "https://localhost:8080/",
          "height": 377
        },
        "outputId": "01edb9b0-14dc-499c-f2cf-374958c20810"
      },
      "source": [
        "for i in range(1, 11):\n",
        "    data = \"%d번째 줄입니다.\\n\" % i\n",
        "    print(data)"
      ],
      "execution_count": 2,
      "outputs": [
        {
          "output_type": "stream",
          "text": [
            "1번째 줄입니다.\n",
            "\n",
            "2번째 줄입니다.\n",
            "\n",
            "3번째 줄입니다.\n",
            "\n",
            "4번째 줄입니다.\n",
            "\n",
            "5번째 줄입니다.\n",
            "\n",
            "6번째 줄입니다.\n",
            "\n",
            "7번째 줄입니다.\n",
            "\n",
            "8번째 줄입니다.\n",
            "\n",
            "9번째 줄입니다.\n",
            "\n",
            "10번째 줄입니다.\n",
            "\n"
          ],
          "name": "stdout"
        }
      ]
    },
    {
      "cell_type": "markdown",
      "metadata": {
        "id": "66HUNf4eSjFi",
        "colab_type": "text"
      },
      "source": [
        "#### 파일에 기록(출력)\n",
        "\n",
        "writedata.py"
      ]
    },
    {
      "cell_type": "code",
      "metadata": {
        "id": "hn8GeIKkShRb",
        "colab_type": "code",
        "colab": {}
      },
      "source": [
        "f = open(\"./새파일.txt\", \"w\")\n",
        "for i in range(1, 11):\n",
        "    data = \"%d번째 줄입니다.\\n\" % i\n",
        "    f.write(data)\n",
        "\n",
        "\n",
        "f.close()\n"
      ],
      "execution_count": 0,
      "outputs": []
    },
    {
      "cell_type": "markdown",
      "metadata": {
        "id": "b75HKMedSqJ8",
        "colab_type": "text"
      },
      "source": [
        "출력 파일의 한글이 깨지면\n",
        "\n",
        "파일 > 기본설정 > 설정 > Files: Auto Guess Encoding 을 지정(check)"
      ]
    },
    {
      "cell_type": "markdown",
      "metadata": {
        "id": "VY053-BzSsz9",
        "colab_type": "text"
      },
      "source": [
        "### 파일 읽기\n",
        "\n",
        "파일 객체 = open(파일 이름, 파일 열기 모드)\n",
        "\n",
        "파일읽기\n",
        "\n",
        "readline() 함수 이용하기\n",
        "\n",
        "readlines 함수 사용하기\n",
        "\n",
        "read 함수 사용하기"
      ]
    },
    {
      "cell_type": "markdown",
      "metadata": {
        "id": "5-PED3t6S3GS",
        "colab_type": "text"
      },
      "source": [
        "###  1. readline() 함수\n",
        "\n",
        "readline_test.py"
      ]
    },
    {
      "cell_type": "code",
      "metadata": {
        "id": "yk7EnEXYSn2n",
        "colab_type": "code",
        "colab": {
          "base_uri": "https://localhost:8080/",
          "height": 53
        },
        "outputId": "8e73225e-2036-4572-d734-01d5b411281c"
      },
      "source": [
        "f = open(\"새파일.txt\", \"r\")\n",
        "line = f.readline()\n",
        "print(line)\n",
        "f.close()"
      ],
      "execution_count": 4,
      "outputs": [
        {
          "output_type": "stream",
          "text": [
            "1번째 줄입니다.\n",
            "\n"
          ],
          "name": "stdout"
        }
      ]
    },
    {
      "cell_type": "markdown",
      "metadata": {
        "id": "nZRE9P_RS74U",
        "colab_type": "text"
      },
      "source": [
        "readline_all.py"
      ]
    },
    {
      "cell_type": "code",
      "metadata": {
        "id": "BoytVleCS6Ft",
        "colab_type": "code",
        "colab": {
          "base_uri": "https://localhost:8080/",
          "height": 377
        },
        "outputId": "a6d30fa2-cecd-40e0-9293-05458f77b51f"
      },
      "source": [
        "f = open(\"새파일.txt\", \"r\")\n",
        "while True:\n",
        "    line = f.readline()\n",
        "    if not line:\n",
        "        break\n",
        "    print(line)\n",
        "f.close()"
      ],
      "execution_count": 5,
      "outputs": [
        {
          "output_type": "stream",
          "text": [
            "1번째 줄입니다.\n",
            "\n",
            "2번째 줄입니다.\n",
            "\n",
            "3번째 줄입니다.\n",
            "\n",
            "4번째 줄입니다.\n",
            "\n",
            "5번째 줄입니다.\n",
            "\n",
            "6번째 줄입니다.\n",
            "\n",
            "7번째 줄입니다.\n",
            "\n",
            "8번째 줄입니다.\n",
            "\n",
            "9번째 줄입니다.\n",
            "\n",
            "10번째 줄입니다.\n",
            "\n"
          ],
          "name": "stdout"
        }
      ]
    },
    {
      "cell_type": "markdown",
      "metadata": {
        "id": "MDhRm9b0TDF4",
        "colab_type": "text"
      },
      "source": [
        "#### 사용자 입력을 이용한 화면 출력"
      ]
    },
    {
      "cell_type": "code",
      "metadata": {
        "id": "qjJpL9FaS_sI",
        "colab_type": "code",
        "colab": {
          "base_uri": "https://localhost:8080/",
          "height": 215
        },
        "outputId": "7830af3c-15f7-4931-a373-9dafeda412c0"
      },
      "source": [
        "while 1:\n",
        "    data = input()\n",
        "    if not data:\n",
        "        break\n",
        "    print(data)"
      ],
      "execution_count": 6,
      "outputs": [
        {
          "output_type": "stream",
          "text": [
            "12\n",
            "12\n",
            "12\n",
            "12\n",
            "33\n",
            "33\n",
            "44\n",
            "44\n",
            "55\n",
            "55\n",
            "\n"
          ],
          "name": "stdout"
        }
      ]
    },
    {
      "cell_type": "markdown",
      "metadata": {
        "id": "nRptCRPiTOQP",
        "colab_type": "text"
      },
      "source": [
        "### 2. readlines() 함수"
      ]
    },
    {
      "cell_type": "code",
      "metadata": {
        "id": "S-XqSNy-TE6I",
        "colab_type": "code",
        "colab": {
          "base_uri": "https://localhost:8080/",
          "height": 377
        },
        "outputId": "608a56cd-b8df-4370-a332-a483efabb7aa"
      },
      "source": [
        "f = open(\"새파일.txt\", \"r\")\n",
        "lines = f.readlines()\n",
        "for line in lines:\n",
        "    print(line)  # , end=\"\")\n",
        "f.close()"
      ],
      "execution_count": 7,
      "outputs": [
        {
          "output_type": "stream",
          "text": [
            "1번째 줄입니다.\n",
            "\n",
            "2번째 줄입니다.\n",
            "\n",
            "3번째 줄입니다.\n",
            "\n",
            "4번째 줄입니다.\n",
            "\n",
            "5번째 줄입니다.\n",
            "\n",
            "6번째 줄입니다.\n",
            "\n",
            "7번째 줄입니다.\n",
            "\n",
            "8번째 줄입니다.\n",
            "\n",
            "9번째 줄입니다.\n",
            "\n",
            "10번째 줄입니다.\n",
            "\n"
          ],
          "name": "stdout"
        }
      ]
    },
    {
      "cell_type": "markdown",
      "metadata": {
        "id": "i-OTSGcMTSIo",
        "colab_type": "text"
      },
      "source": [
        "### 3. readl() 함수"
      ]
    },
    {
      "cell_type": "code",
      "metadata": {
        "id": "f37yh12yTQm0",
        "colab_type": "code",
        "colab": {
          "base_uri": "https://localhost:8080/",
          "height": 215
        },
        "outputId": "71e7f872-a7ce-4562-c5d5-2d59a922b361"
      },
      "source": [
        "f = open(\"새파일.txt\", \"r\")\n",
        "data = f.read()\n",
        "print(data)\n",
        "f.close()"
      ],
      "execution_count": 8,
      "outputs": [
        {
          "output_type": "stream",
          "text": [
            "1번째 줄입니다.\n",
            "2번째 줄입니다.\n",
            "3번째 줄입니다.\n",
            "4번째 줄입니다.\n",
            "5번째 줄입니다.\n",
            "6번째 줄입니다.\n",
            "7번째 줄입니다.\n",
            "8번째 줄입니다.\n",
            "9번째 줄입니다.\n",
            "10번째 줄입니다.\n",
            "\n"
          ],
          "name": "stdout"
        }
      ]
    },
    {
      "cell_type": "markdown",
      "metadata": {
        "id": "vpiEKqgnTXMa",
        "colab_type": "text"
      },
      "source": [
        "### 파일에 새로운 내용 추가하기\n",
        "\n",
        "파일에 원래 있던 값을 유지하면서 단지 새로운 값만 추가\n",
        "\n",
        "파일을 추가 모드('a')로 열고 쓴다."
      ]
    },
    {
      "cell_type": "markdown",
      "metadata": {
        "id": "ZNNjFTCoTc7E",
        "colab_type": "text"
      },
      "source": [
        "#### adddata.py"
      ]
    },
    {
      "cell_type": "code",
      "metadata": {
        "id": "Wvny5e2XTULe",
        "colab_type": "code",
        "colab": {}
      },
      "source": [
        "f = open(\"새파일.txt\", \"a\")\n",
        "for i in range(11, 20):\n",
        "    data = \"%d번째 줄입니다.\\n\" % i\n",
        "    f.write(data)\n",
        "f.close()"
      ],
      "execution_count": 0,
      "outputs": []
    },
    {
      "cell_type": "markdown",
      "metadata": {
        "id": "YpGhOj5UTgON",
        "colab_type": "text"
      },
      "source": [
        "#### 수정된 파일 확인"
      ]
    },
    {
      "cell_type": "code",
      "metadata": {
        "id": "ipAdm7ULTe-T",
        "colab_type": "code",
        "colab": {
          "base_uri": "https://localhost:8080/",
          "height": 377
        },
        "outputId": "891711a9-6829-46a1-8f6e-a0916f0462ed"
      },
      "source": [
        "f = open(\"새파일.txt\", \"r\")\n",
        "data = f.read()\n",
        "print(data)\n",
        "f.close()"
      ],
      "execution_count": 10,
      "outputs": [
        {
          "output_type": "stream",
          "text": [
            "1번째 줄입니다.\n",
            "2번째 줄입니다.\n",
            "3번째 줄입니다.\n",
            "4번째 줄입니다.\n",
            "5번째 줄입니다.\n",
            "6번째 줄입니다.\n",
            "7번째 줄입니다.\n",
            "8번째 줄입니다.\n",
            "9번째 줄입니다.\n",
            "10번째 줄입니다.\n",
            "11번째 줄입니다.\n",
            "12번째 줄입니다.\n",
            "13번째 줄입니다.\n",
            "14번째 줄입니다.\n",
            "15번째 줄입니다.\n",
            "16번째 줄입니다.\n",
            "17번째 줄입니다.\n",
            "18번째 줄입니다.\n",
            "19번째 줄입니다.\n",
            "\n"
          ],
          "name": "stdout"
        }
      ]
    },
    {
      "cell_type": "markdown",
      "metadata": {
        "id": "Wl7ptbiWTkAf",
        "colab_type": "text"
      },
      "source": [
        "### with문과 함께 사용하기\n",
        "\n",
        "with문을 사용하면 with 블록을 벗어나는 순간\n",
        "\n",
        "열린 파일 객체 f가 자동으로 close 된다."
      ]
    },
    {
      "cell_type": "code",
      "metadata": {
        "id": "y3lCrqC7TinB",
        "colab_type": "code",
        "colab": {}
      },
      "source": [
        "f = open(\"foo.txt\", \"w\")\n",
        "f.write(\"Life is too short, you need python\")\n",
        "f.close()\n",
        "\n",
        "with open(\"foo1.txt\", \"w\") as f:\n",
        "    f.write(\"Life is too short, you need python\")"
      ],
      "execution_count": 0,
      "outputs": []
    },
    {
      "cell_type": "markdown",
      "metadata": {
        "id": "-bu8yCNhTtGK",
        "colab_type": "text"
      },
      "source": [
        "### sys 모듈로 매개변수 주기"
      ]
    },
    {
      "cell_type": "code",
      "metadata": {
        "id": "oa2NwFDjTpAw",
        "colab_type": "code",
        "colab": {}
      },
      "source": [
        "\"\"\"\n",
        "#sys1.py\n",
        "import sys\n",
        "\n",
        "args = sys.argv[1:]\n",
        "for i in args:\n",
        "    print(i)\n",
        "\"\"\""
      ],
      "execution_count": 0,
      "outputs": []
    },
    {
      "cell_type": "code",
      "metadata": {
        "id": "Cjn_sXypTxBj",
        "colab_type": "code",
        "colab": {}
      },
      "source": [
        "\"\"\"\n",
        "#sys2.py\n",
        "import sys\n",
        "args = sys.argv[1:]\n",
        "for i in args:\n",
        "    print(i.upper(), end=' ')\n",
        "\"\"\""
      ],
      "execution_count": 0,
      "outputs": []
    }
  ]
}