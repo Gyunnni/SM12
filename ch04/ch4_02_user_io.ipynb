{
  "nbformat": 4,
  "nbformat_minor": 0,
  "metadata": {
    "colab": {
      "name": "ch4_02_user_io.ipynb",
      "provenance": [],
      "include_colab_link": true
    },
    "kernelspec": {
      "name": "python3",
      "display_name": "Python 3"
    }
  },
  "cells": [
    {
      "cell_type": "markdown",
      "metadata": {
        "id": "view-in-github",
        "colab_type": "text"
      },
      "source": [
        "<a href=\"https://colab.research.google.com/github/Gyunnni/SM12/blob/master/ch04/ch4_02_user_io.ipynb\" target=\"_parent\"><img src=\"https://colab.research.google.com/assets/colab-badge.svg\" alt=\"Open In Colab\"/></a>"
      ]
    },
    {
      "cell_type": "markdown",
      "metadata": {
        "id": "Alg0ED_KRBnp",
        "colab_type": "text"
      },
      "source": [
        "## ch4_02_user_io.py"
      ]
    },
    {
      "cell_type": "markdown",
      "metadata": {
        "id": "kPvN4QOXRFi_",
        "colab_type": "text"
      },
      "source": [
        "### 사용자 입력과 출력\n",
        "\n",
        "사용자의 입력을 받는 방법과 출력하는 방법"
      ]
    },
    {
      "cell_type": "markdown",
      "metadata": {
        "id": "lAuHdileRJPT",
        "colab_type": "text"
      },
      "source": [
        "### 사용자 입력\n",
        "\n",
        "사용자가 입력한 값을 어떤 변수에 대입"
      ]
    },
    {
      "cell_type": "markdown",
      "metadata": {
        "id": "VKVKfXQVRMw0",
        "colab_type": "text"
      },
      "source": [
        "### input의 사용"
      ]
    },
    {
      "cell_type": "code",
      "metadata": {
        "id": "LMHN39vIQ-lB",
        "colab_type": "code",
        "colab": {
          "base_uri": "https://localhost:8080/",
          "height": 53
        },
        "outputId": "9117db69-d6d9-477e-e29f-160149b19068"
      },
      "source": [
        "a = input()\n",
        "# Life is too short, you need python\n",
        "a"
      ],
      "execution_count": 1,
      "outputs": [
        {
          "output_type": "stream",
          "text": [
            " Life is too short, you need python\n"
          ],
          "name": "stdout"
        },
        {
          "output_type": "execute_result",
          "data": {
            "text/plain": [
              "' Life is too short, you need python'"
            ]
          },
          "metadata": {
            "tags": []
          },
          "execution_count": 1
        }
      ]
    },
    {
      "cell_type": "markdown",
      "metadata": {
        "id": "d-XAZfyhRTl_",
        "colab_type": "text"
      },
      "source": [
        "### 입력 안내 문구를 이용한 input의 사용\n",
        "\n",
        "input(\"안내 문구\")"
      ]
    },
    {
      "cell_type": "code",
      "metadata": {
        "id": "qHCPL8k8RO_p",
        "colab_type": "code",
        "colab": {
          "base_uri": "https://localhost:8080/",
          "height": 53
        },
        "outputId": "336986a3-f931-4fab-8689-6e548b824be4"
      },
      "source": [
        "number = input(\"숫자를 입력하세요: \")\n",
        "\n",
        "print(number)\n"
      ],
      "execution_count": 2,
      "outputs": [
        {
          "output_type": "stream",
          "text": [
            "숫자를 입력하세요: 1\n",
            "1\n"
          ],
          "name": "stdout"
        }
      ]
    },
    {
      "cell_type": "markdown",
      "metadata": {
        "id": "OTQSA5a8RbTh",
        "colab_type": "text"
      },
      "source": [
        "### 사용자 출력: print()\n",
        "\n",
        "입력한 자료형을 출력"
      ]
    },
    {
      "cell_type": "markdown",
      "metadata": {
        "id": "iVZpoDLxRe5b",
        "colab_type": "text"
      },
      "source": [
        "### print(\"print의 사용\")"
      ]
    },
    {
      "cell_type": "code",
      "metadata": {
        "id": "Gac9qn9aRY--",
        "colab_type": "code",
        "colab": {
          "base_uri": "https://localhost:8080/",
          "height": 71
        },
        "outputId": "6626237e-0e0e-42fb-ae9f-22f402c6532a"
      },
      "source": [
        "a = 123\n",
        "print(a)\n",
        "\n",
        "a = \"Python\"\n",
        "print(a)\n",
        "\n",
        "a = [1, 2, 3]\n",
        "print(a)"
      ],
      "execution_count": 3,
      "outputs": [
        {
          "output_type": "stream",
          "text": [
            "123\n",
            "Python\n",
            "[1, 2, 3]\n"
          ],
          "name": "stdout"
        }
      ]
    },
    {
      "cell_type": "markdown",
      "metadata": {
        "id": "iQujG-viRj6c",
        "colab_type": "text"
      },
      "source": [
        "### 큰따옴표(\\\")로 둘러싸인 문자열은 + 연산과 동일"
      ]
    },
    {
      "cell_type": "code",
      "metadata": {
        "id": "wUpDUb8ARhrt",
        "colab_type": "code",
        "colab": {
          "base_uri": "https://localhost:8080/",
          "height": 53
        },
        "outputId": "bf308881-6225-4449-8efa-3fea24bbe2dc"
      },
      "source": [
        "print(\"life\" \"is\" \"too short\")\n",
        "print(\"life\"+\"is\"+\"too short\")"
      ],
      "execution_count": 4,
      "outputs": [
        {
          "output_type": "stream",
          "text": [
            "lifeistoo short\n",
            "lifeistoo short\n"
          ],
          "name": "stdout"
        }
      ]
    },
    {
      "cell_type": "markdown",
      "metadata": {
        "id": "t3NIV_AORn2m",
        "colab_type": "text"
      },
      "source": [
        "### 문자열 띄어쓰기는 콤마로 한다"
      ]
    },
    {
      "cell_type": "code",
      "metadata": {
        "id": "lGDXt4ovRlub",
        "colab_type": "code",
        "colab": {
          "base_uri": "https://localhost:8080/",
          "height": 35
        },
        "outputId": "2537d70b-a053-43b5-e7ad-0a2c6c24de6a"
      },
      "source": [
        "print(\"life\", \"is\", \"too short\")"
      ],
      "execution_count": 5,
      "outputs": [
        {
          "output_type": "stream",
          "text": [
            "life is too short\n"
          ],
          "name": "stdout"
        }
      ]
    },
    {
      "cell_type": "markdown",
      "metadata": {
        "id": "H-WWO8efRrX3",
        "colab_type": "text"
      },
      "source": [
        "### 한 줄에 결괏값 출력하기"
      ]
    },
    {
      "cell_type": "code",
      "metadata": {
        "id": "T4EG8SbpRqBn",
        "colab_type": "code",
        "colab": {
          "base_uri": "https://localhost:8080/",
          "height": 35
        },
        "outputId": "9dcb11b5-dd3a-4728-d549-c874a5e482ad"
      },
      "source": [
        "for i in range(10):\n",
        "    print(i, end=' ')"
      ],
      "execution_count": 6,
      "outputs": [
        {
          "output_type": "stream",
          "text": [
            "0 1 2 3 4 5 6 7 8 9 "
          ],
          "name": "stdout"
        }
      ]
    },
    {
      "cell_type": "code",
      "metadata": {
        "id": "bXUQXb9XRtl7",
        "colab_type": "code",
        "colab": {}
      },
      "source": [
        ""
      ],
      "execution_count": 0,
      "outputs": []
    }
  ]
}