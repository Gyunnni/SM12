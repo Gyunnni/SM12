{
  "nbformat": 4,
  "nbformat_minor": 0,
  "metadata": {
    "colab": {
      "name": "ch4_exercisessm12.ipynb",
      "provenance": [],
      "collapsed_sections": [],
      "include_colab_link": true
    },
    "kernelspec": {
      "name": "python3",
      "display_name": "Python 3"
    }
  },
  "cells": [
    {
      "cell_type": "markdown",
      "metadata": {
        "id": "view-in-github",
        "colab_type": "text"
      },
      "source": [
        "<a href=\"https://colab.research.google.com/github/Gyunnni/SM12/blob/master/ch04/ch4_exercisessm12.ipynb\" target=\"_parent\"><img src=\"https://colab.research.google.com/assets/colab-badge.svg\" alt=\"Open In Colab\"/></a>"
      ]
    },
    {
      "cell_type": "markdown",
      "metadata": {
        "id": "ovY5jkD5dpxE",
        "colab_type": "text"
      },
      "source": [
        "## ch4_exercises12.ipynb"
      ]
    },
    {
      "cell_type": "markdown",
      "metadata": {
        "id": "SZw6UnxQWYBe",
        "colab_type": "text"
      },
      "source": [
        "## Q1.\n",
        "> 주어진 자연수가 홀수인지 짝수인지 판별해 주는 함수(is_odd)를 작성해 보자.\n"
      ]
    },
    {
      "cell_type": "code",
      "metadata": {
        "id": "rUNNaqJPdg7B",
        "colab_type": "code",
        "outputId": "35434266-7d4b-4744-b8ad-77444fb2b338",
        "colab": {
          "base_uri": "https://localhost:8080/",
          "height": 35
        }
      },
      "source": [
        "# [Q1] Code  \n",
        "def is_odd(x):\n",
        "    if x%2 == 0: print(\"짝수\")\n",
        "    if x%2 == 1: print(\"홀수\")\n",
        "    \n",
        "is_odd(13)\n",
        "  \n",
        "\n"
      ],
      "execution_count": 0,
      "outputs": [
        {
          "output_type": "stream",
          "text": [
            "홀수\n"
          ],
          "name": "stdout"
        }
      ]
    },
    {
      "cell_type": "code",
      "metadata": {
        "id": "Suptv7Vqa_4u",
        "colab_type": "code",
        "outputId": "81ea98ea-97a2-4b65-b19d-30418ddabed1",
        "colab": {
          "base_uri": "https://localhost:8080/",
          "height": 54
        }
      },
      "source": [
        "x = int(input(\"숫자를 입력하세요: \"))\n",
        "def is_odd(x):\n",
        "  \n",
        "    if x%2 == 0: \n",
        "      print(\"짝수\")\n",
        "    else: print(\"홀수\")\n",
        "\n",
        "is_odd(x)\n"
      ],
      "execution_count": 0,
      "outputs": [
        {
          "output_type": "stream",
          "text": [
            "숫자를 입력하세요: 12\n",
            "짝수\n"
          ],
          "name": "stdout"
        }
      ]
    },
    {
      "cell_type": "markdown",
      "metadata": {
        "colab_type": "text",
        "id": "re2-XrUYXF1m"
      },
      "source": [
        "## Q2.\n",
        "> 입력으로 들어오는 모든 수의 평균 값을 계산해 주는 함수를 작성해 보자. \n",
        "- (단 입력으로 들어오는 수의 개수는 정해져 있지 않다.)\n",
        "- ※ 평균 값을 구할 때 len 함수를 사용해 보자.\n"
      ]
    },
    {
      "cell_type": "code",
      "metadata": {
        "colab_type": "code",
        "id": "5MBLUZ5WXF1q",
        "outputId": "6c33c2b9-c860-4348-867a-7137abb2b94c",
        "colab": {
          "base_uri": "https://localhost:8080/",
          "height": 35
        }
      },
      "source": [
        "# [Q2] Code\n",
        "\n",
        "def avg(*x):\n",
        "  p = sum(x) / len(x)\n",
        "  return p\n",
        "  \n",
        "print(avg(12,3,53,2))\n",
        "  \n",
        "\n",
        "\n"
      ],
      "execution_count": 0,
      "outputs": [
        {
          "output_type": "stream",
          "text": [
            "17.5\n"
          ],
          "name": "stdout"
        }
      ]
    },
    {
      "cell_type": "code",
      "metadata": {
        "id": "MsF7yDwex-Bp",
        "colab_type": "code",
        "outputId": "141247f6-4296-47cf-b719-f4be125166da",
        "colab": {
          "base_uri": "https://localhost:8080/",
          "height": 90
        }
      },
      "source": [
        "x = int(input(\"숫자를 입력하세요: \"))\n",
        "y = int(input(\"숫자를 입력하세요: \"))\n",
        "z = int(input(\"숫자를 입력하세요: \"))\n",
        "def avg(*x):\n",
        "  p = sum(x) / len(x)\n",
        "  return p\n",
        "avg(x,y,z)"
      ],
      "execution_count": 0,
      "outputs": [
        {
          "output_type": "stream",
          "text": [
            "숫자를 입력하세요: 11\n",
            "숫자를 입력하세요: 22\n",
            "숫자를 입력하세요: 33\n"
          ],
          "name": "stdout"
        },
        {
          "output_type": "execute_result",
          "data": {
            "text/plain": [
              "22.0"
            ]
          },
          "metadata": {
            "tags": []
          },
          "execution_count": 100
        }
      ]
    },
    {
      "cell_type": "markdown",
      "metadata": {
        "colab_type": "text",
        "id": "UZy8lu_BXGnT"
      },
      "source": [
        "## Q3.\n",
        "> 다음은 두 개의 숫자를 입력받아 더하여 돌려주는 프로그램이다.\n",
        "\n",
        "```\n",
        "input1 = input(\"첫번째 숫자를 입력하세요:\")\n",
        "input2 = input(\"두번째 숫자를 입력하세요:\")\n",
        "\n",
        "total = input1 + input2\n",
        "print(\"두 수의 합은 %s 입니다\" % total)\n",
        "\n",
        "```\n",
        "---\n",
        "> 이 프로그램을 수행해 보자.\n",
        "\n",
        ">> 첫번째 숫자를 입력하세요:3  \n",
        ">> 두번째 숫자를 입력하세요:6\n",
        "- 두 수의 합은 36 입니다\n",
        "- 3과 6을 입력했을 때 9가 아닌 36이라는 결괏값을 돌려주었다.  \n",
        "이 프로그램의 오류를 수정해 보자."
      ]
    },
    {
      "cell_type": "code",
      "metadata": {
        "colab_type": "code",
        "id": "H9T_sXHzXGnW",
        "outputId": "18c40d12-3290-4d71-a4cd-7523f413fa87",
        "colab": {
          "base_uri": "https://localhost:8080/",
          "height": 72
        }
      },
      "source": [
        "# [Q3] Code\n",
        "\n",
        "input1 = int(input(\"첫번째 숫자를 입력하세요:\"))\n",
        "input2 = int(input(\"두번째 숫자를 입력하세요:\"))\n",
        "\n",
        "total = input1 + input2\n",
        "print(\"두수의 합은\"+str(total)+\"입니다.\")"
      ],
      "execution_count": 0,
      "outputs": [
        {
          "output_type": "stream",
          "text": [
            "첫번째 숫자를 입력하세요:3\n",
            "두번째 숫자를 입력하세요:6\n",
            "두수의 합은9입니다.\n"
          ],
          "name": "stdout"
        }
      ]
    },
    {
      "cell_type": "markdown",
      "metadata": {
        "colab_type": "text",
        "id": "fqypxxqTXHY7"
      },
      "source": [
        "## Q4.\n",
        "> 다음 중 출력 결과가 다른 것 한 개를 골라 보자.\n",
        "\n",
        "```\n",
        "print(\"you\" \"need\" \"python\")\n",
        "print(\"you\"+\"need\"+\"python\")\n",
        "print(\"you\", \"need\", \"python\")\n",
        "print(\"\".join([\"you\", \"need\", \"python\"]))\n",
        "```"
      ]
    },
    {
      "cell_type": "code",
      "metadata": {
        "colab_type": "code",
        "id": "oQ5UnmayXHY-",
        "outputId": "dc4f1fe8-f3fc-4b75-df5e-9083b26764e0",
        "colab": {
          "base_uri": "https://localhost:8080/",
          "height": 35
        }
      },
      "source": [
        "# [Q4] Code\n",
        "\n",
        "print(\"you\" \"need\" \"python\")\n",
        "\n",
        "#큰 따옴표로 둘러싸인 문자열은 +연산과 동일하다."
      ],
      "execution_count": 0,
      "outputs": [
        {
          "output_type": "stream",
          "text": [
            "youneedpython\n"
          ],
          "name": "stdout"
        }
      ]
    },
    {
      "cell_type": "code",
      "metadata": {
        "id": "iVOlFk3BoKIn",
        "colab_type": "code",
        "outputId": "767dcb9d-1a95-461b-c957-359373f6e18c",
        "colab": {
          "base_uri": "https://localhost:8080/",
          "height": 35
        }
      },
      "source": [
        "print(\"you\"+\"need\"+\"python\")"
      ],
      "execution_count": 0,
      "outputs": [
        {
          "output_type": "stream",
          "text": [
            "youneedpython\n"
          ],
          "name": "stdout"
        }
      ]
    },
    {
      "cell_type": "code",
      "metadata": {
        "id": "k7uU917QoN3v",
        "colab_type": "code",
        "outputId": "8d784380-3071-4340-fdcc-2d679fd05a71",
        "colab": {
          "base_uri": "https://localhost:8080/",
          "height": 35
        }
      },
      "source": [
        "print(\"you\", \"need\", \"python\") \n",
        "\n",
        "#문자열 띄어쓰기는 콤마로 한다.그러므로 3번이 다른 것이다."
      ],
      "execution_count": 0,
      "outputs": [
        {
          "output_type": "stream",
          "text": [
            "you need python\n"
          ],
          "name": "stdout"
        }
      ]
    },
    {
      "cell_type": "code",
      "metadata": {
        "id": "_Pk5RFonoSth",
        "colab_type": "code",
        "outputId": "2a205536-aa8c-431d-d23a-3034cbe6723a",
        "colab": {
          "base_uri": "https://localhost:8080/",
          "height": 35
        }
      },
      "source": [
        "print(\"\".join([\"you\", \"need\", \"python\"]))"
      ],
      "execution_count": 0,
      "outputs": [
        {
          "output_type": "stream",
          "text": [
            "youneedpython\n"
          ],
          "name": "stdout"
        }
      ]
    },
    {
      "cell_type": "markdown",
      "metadata": {
        "colab_type": "text",
        "id": "NKsvciXZXIL-"
      },
      "source": [
        "## Q5.\n",
        "> 다음은 \"test.txt\"라는 파일에 \"Life is too short\" 문자열을 저장한 후 다시 그 파일을 읽어서 출력하는 프로그램이다.\n",
        "\n",
        "```\n",
        "f1 = open(\"test.txt\", 'w')\n",
        "f1.write(\"Life is too short\")\n",
        "\n",
        "f2 = open(\"test.txt\", 'r')\n",
        "print(f2.read())\n",
        "\n",
        "```\n",
        ">> 이 프로그램은 우리가 예상한 \"Life is too short\"라는 문장을 출력하지 않는다.\n",
        "\n",
        ">> 우리가 예상한 값을 출력할 수 있도록 프로그램을 수정해 보자."
      ]
    },
    {
      "cell_type": "code",
      "metadata": {
        "colab_type": "code",
        "id": "IK8iWNOCz3yN",
        "colab": {}
      },
      "source": [
        "# [Q5] Code\n",
        "\n",
        "f1 = open(\"test.txt\", 'w')\n",
        "f1.write(\"Life is too short\")\n",
        "f1.close()\n",
        "\n",
        "#write()를 쓴 후 close()를 하지 않았기 때문이다."
      ],
      "execution_count": 0,
      "outputs": []
    },
    {
      "cell_type": "code",
      "metadata": {
        "id": "0dMNoHAGz4l7",
        "colab_type": "code",
        "outputId": "531f3917-5aa5-4e2a-de52-450d6f37081c",
        "colab": {
          "base_uri": "https://localhost:8080/",
          "height": 35
        }
      },
      "source": [
        "f2 = open(\"test.txt\", 'r')\n",
        "print(f2.read())"
      ],
      "execution_count": 0,
      "outputs": [
        {
          "output_type": "stream",
          "text": [
            "Life is too short\n"
          ],
          "name": "stdout"
        }
      ]
    },
    {
      "cell_type": "markdown",
      "metadata": {
        "colab_type": "text",
        "id": "-3KHtOOoXJBV"
      },
      "source": [
        "## Q6.\n",
        "> 사용자의 입력을 파일(test.txt)에 저장하는 프로그램을 작성해 보자. \n",
        "- (단 프로그램을 다시 실행하더라도 기존에 작성한 내용을 유지하고 새로 입력한 내용을 추가해야 한다.)\n"
      ]
    },
    {
      "cell_type": "code",
      "metadata": {
        "colab_type": "code",
        "id": "AjYR0lUaXJBa",
        "outputId": "acdc4243-db2b-4b2f-a03f-bb34030cd0dc",
        "colab": {
          "base_uri": "https://localhost:8080/",
          "height": 35
        }
      },
      "source": [
        "# [Q6] Code\n",
        "x = input(\"입력하세요\")\n",
        "\n",
        "f = open(\"test.txt\", \"a\")\n",
        "f.write(x)\n",
        "\n",
        "f.close()\n"
      ],
      "execution_count": 0,
      "outputs": [
        {
          "output_type": "stream",
          "text": [
            "입력하세요ㅇㅇㅇ\n"
          ],
          "name": "stdout"
        }
      ]
    },
    {
      "cell_type": "code",
      "metadata": {
        "id": "NDiljQZy6PUQ",
        "colab_type": "code",
        "colab": {}
      },
      "source": [
        ""
      ],
      "execution_count": 0,
      "outputs": []
    },
    {
      "cell_type": "markdown",
      "metadata": {
        "colab_type": "text",
        "id": "YrS3b88QbmKo"
      },
      "source": [
        "## Q7.\n",
        "> 다음과 같은 내용을 지닌 파일 foo1.txt가 있다. 이 파일의 내용 중 \"java\"라는 문자열을 \"python\"으로 바꾸어서 저장해 보자.\n",
        "\n",
        ">> Life is too short  \n",
        ">> you need java\n",
        "\n",
        "- ※ replace 함수를 사용해 보자.\n"
      ]
    },
    {
      "cell_type": "code",
      "metadata": {
        "colab_type": "code",
        "id": "Ll_2InMWbmKq",
        "outputId": "c22b0608-ff0a-489b-aaee-e7b61c984338",
        "colab": {
          "base_uri": "https://localhost:8080/",
          "height": 54
        }
      },
      "source": [
        "# [Q7] Code-1\n",
        "f = open(\"foo1.txt\",\"r\")\n",
        "data = f.read()\n",
        "print(data)\n",
        "f.close()\n"
      ],
      "execution_count": 0,
      "outputs": [
        {
          "output_type": "stream",
          "text": [
            "Life is too short\n",
            "you need java\n"
          ],
          "name": "stdout"
        }
      ]
    },
    {
      "cell_type": "code",
      "metadata": {
        "id": "18qJyTcx8uxv",
        "colab_type": "code",
        "colab": {}
      },
      "source": [
        "data = data.replace(\"java\",\"python\")\n",
        "\n",
        "\n",
        "f1 = open(\"foo1.txt\",\"w\")\n",
        "f1.write(data)\n",
        "f1.close()"
      ],
      "execution_count": 0,
      "outputs": []
    },
    {
      "cell_type": "code",
      "metadata": {
        "id": "ah_snKQL9kmR",
        "colab_type": "code",
        "outputId": "440d792f-89ec-4a98-9d76-45e6bab1b7a9",
        "colab": {
          "base_uri": "https://localhost:8080/",
          "height": 54
        }
      },
      "source": [
        "#확인 코드\n",
        "f2 = open(\"foo1.txt\",\"r\")\n",
        "data1 = f2.read()\n",
        "print(data1)\n",
        "f2.close()"
      ],
      "execution_count": 0,
      "outputs": [
        {
          "output_type": "stream",
          "text": [
            "Life is too short\n",
            "you need python\n"
          ],
          "name": "stdout"
        }
      ]
    },
    {
      "cell_type": "markdown",
      "metadata": {
        "id": "2ljBDShkbqZO",
        "colab_type": "text"
      },
      "source": [
        "## 코딩 연습 결과를 github에 올리기\n",
        "> 완성된 ipython 노트북 파일을 각자의 github에 올리시오.\n",
        "\n",
        "- github 계정 만들기 (계정이 없는 학생)\n",
        "    1. github에 sign up (Google gmail 계정을 이용해서 만드시오.)\n",
        "- github에 노트 올리기\n",
        "    2. github에 각자의 id로 repo를 만드시오. (한번 만들면 계속 재사용)\n",
        "    3. github repo에 연습결과 노트를 올리시오.\n",
        "        - 제출노트: ch4_exercises_id.ipynb\n"
      ]
    },
    {
      "cell_type": "code",
      "metadata": {
        "id": "OnCR-YNCc8B6",
        "colab_type": "code",
        "colab": {}
      },
      "source": [
        ""
      ],
      "execution_count": 0,
      "outputs": []
    }
  ]
}