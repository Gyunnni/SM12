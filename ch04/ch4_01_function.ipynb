{
  "nbformat": 4,
  "nbformat_minor": 0,
  "metadata": {
    "colab": {
      "name": "ch4_01_function.ipynb",
      "provenance": [],
      "include_colab_link": true
    },
    "kernelspec": {
      "name": "python3",
      "display_name": "Python 3"
    }
  },
  "cells": [
    {
      "cell_type": "markdown",
      "metadata": {
        "id": "view-in-github",
        "colab_type": "text"
      },
      "source": [
        "<a href=\"https://colab.research.google.com/github/Gyunnni/SM12/blob/master/ch04/ch4_01_function.ipynb\" target=\"_parent\"><img src=\"https://colab.research.google.com/assets/colab-badge.svg\" alt=\"Open In Colab\"/></a>"
      ]
    },
    {
      "cell_type": "markdown",
      "metadata": {
        "id": "Jj3uvpK9MFNn",
        "colab_type": "text"
      },
      "source": [
        "## ch4_01_function.py"
      ]
    },
    {
      "cell_type": "markdown",
      "metadata": {
        "id": "r4q3SRiTMMXy",
        "colab_type": "text"
      },
      "source": [
        "### 함수란 무엇인가?\n",
        "\n",
        "입력값을 가지고 어떤 일을 수행한 다음에 그 결과물을 내어놓는 것\n",
        "\n",
        "### 함수를 사용하는 이유는 무엇일까?\n",
        "\n",
        "반복되는 부분을 함수로 전환.코딩을 모듈화"
      ]
    },
    {
      "cell_type": "markdown",
      "metadata": {
        "id": "C7zkO17uMa-m",
        "colab_type": "text"
      },
      "source": [
        "### 파이썬 함수의 구조"
      ]
    },
    {
      "cell_type": "code",
      "metadata": {
        "id": "Ue_EG-SeMevV",
        "colab_type": "code",
        "colab": {
          "base_uri": "https://localhost:8080/",
          "height": 35
        },
        "outputId": "17a3329d-7d1c-4400-83d7-0607967325b6"
      },
      "source": [
        "\"\"\"\n",
        "def 함수명(매개변수):\n",
        "    <수행할 문장1>\n",
        "    <수행할 문장2>\n",
        "    ...\n",
        "\"\"\""
      ],
      "execution_count": 1,
      "outputs": [
        {
          "output_type": "execute_result",
          "data": {
            "text/plain": [
              "'\\ndef 함수명(매개변수):\\n    <수행할 문장1>\\n    <수행할 문장2>\\n    ...\\n'"
            ]
          },
          "metadata": {
            "tags": []
          },
          "execution_count": 1
        }
      ]
    },
    {
      "cell_type": "markdown",
      "metadata": {
        "id": "N1oPJohDMoIT",
        "colab_type": "text"
      },
      "source": [
        "### add() 함수를 정의"
      ]
    },
    {
      "cell_type": "code",
      "metadata": {
        "id": "kZt-jzdML933",
        "colab_type": "code",
        "colab": {}
      },
      "source": [
        "def add(a, b): \n",
        "    return a + b"
      ],
      "execution_count": 0,
      "outputs": []
    },
    {
      "cell_type": "markdown",
      "metadata": {
        "id": "DUQKgOKiMuVF",
        "colab_type": "text"
      },
      "source": [
        "### add() 함수를 사용"
      ]
    },
    {
      "cell_type": "code",
      "metadata": {
        "id": "EELDfBvzMsXl",
        "colab_type": "code",
        "colab": {
          "base_uri": "https://localhost:8080/",
          "height": 35
        },
        "outputId": "4d6d228f-eef8-43f0-bfb9-4ba0ef2335e2"
      },
      "source": [
        "a=3\n",
        "b=4\n",
        "c=add(a,b)\n",
        "print(c)"
      ],
      "execution_count": 3,
      "outputs": [
        {
          "output_type": "stream",
          "text": [
            "7\n"
          ],
          "name": "stdout"
        }
      ]
    },
    {
      "cell_type": "code",
      "metadata": {
        "id": "znFt6CQRMxJU",
        "colab_type": "code",
        "colab": {
          "base_uri": "https://localhost:8080/",
          "height": 35
        },
        "outputId": "41c10a0f-9c16-4d6c-b066-8b7a4504f216"
      },
      "source": [
        "x=[1,2,3]\n",
        "y=[4,5,6]\n",
        "z=x+y\n",
        "print(z)"
      ],
      "execution_count": 4,
      "outputs": [
        {
          "output_type": "stream",
          "text": [
            "[1, 2, 3, 4, 5, 6]\n"
          ],
          "name": "stdout"
        }
      ]
    },
    {
      "cell_type": "markdown",
      "metadata": {
        "id": "1tZ-PqysM1f3",
        "colab_type": "text"
      },
      "source": [
        "### 매개변수와 인수릐 차이를 이해하자!\n",
        "\n",
        "매개변수는 함수에 입력으로 전달된 값을 받는 변수\n",
        "인수는 함수를 호출할 때 전달하는 입력값을 의미"
      ]
    },
    {
      "cell_type": "markdown",
      "metadata": {
        "id": "867xJk4lM74K",
        "colab_type": "text"
      },
      "source": [
        "### add() 함수에서의 매개변수와 인수"
      ]
    },
    {
      "cell_type": "code",
      "metadata": {
        "id": "Og1WzLhHMztT",
        "colab_type": "code",
        "colab": {}
      },
      "source": [
        "\"\"\"\n",
        "def add(a, b):  # a, b는 매개변수\n",
        "    return a+b\n",
        "\n",
        "print(add(3, 4))  # 3, 4는 인수\n",
        "\n",
        "\"\"\""
      ],
      "execution_count": 0,
      "outputs": []
    },
    {
      "cell_type": "markdown",
      "metadata": {
        "id": "GJVrS7kiNAFz",
        "colab_type": "text"
      },
      "source": [
        "### 입력값과 결괏값에 따른 함수의 형태\n",
        "\n",
        "입력값 ---> 함수 ----> 결괏값"
      ]
    },
    {
      "cell_type": "markdown",
      "metadata": {
        "id": "liqRCfAiNGqF",
        "colab_type": "text"
      },
      "source": [
        "### 일반적인 함수,입력값과 결괏값이 있는 함수"
      ]
    },
    {
      "cell_type": "code",
      "metadata": {
        "id": "BVuJj1QMNMKH",
        "colab_type": "code",
        "colab": {}
      },
      "source": [
        "\"\"\"\n",
        "def 함수이름(매개변수):\n",
        "    <수행할 문장>\n",
        "    ...\n",
        "    return 결과값\n",
        "\"\"\""
      ],
      "execution_count": 0,
      "outputs": []
    },
    {
      "cell_type": "code",
      "metadata": {
        "id": "Hy9a6lgANOMI",
        "colab_type": "code",
        "colab": {}
      },
      "source": [
        "def add2(a, b): \n",
        "    result = a + b \n",
        "    return result"
      ],
      "execution_count": 0,
      "outputs": []
    },
    {
      "cell_type": "markdown",
      "metadata": {
        "id": "KYiIswS1NLn_",
        "colab_type": "text"
      },
      "source": [
        "### 입력값과 결괏값이 있는 함수의 사용법\n",
        "\n",
        "결괏값을 받을 변수 = 함수이름(입력인수1, 입력인수2, ...)"
      ]
    },
    {
      "cell_type": "code",
      "metadata": {
        "id": "C0ClZEVGNBJz",
        "colab_type": "code",
        "colab": {
          "base_uri": "https://localhost:8080/",
          "height": 35
        },
        "outputId": "b7626bb3-1322-48da-b698-e0390aa59154"
      },
      "source": [
        "a = add2(3, 4)\n",
        "print(a)"
      ],
      "execution_count": 6,
      "outputs": [
        {
          "output_type": "stream",
          "text": [
            "7\n"
          ],
          "name": "stdout"
        }
      ]
    },
    {
      "cell_type": "markdown",
      "metadata": {
        "id": "W-oZRSzzNdNM",
        "colab_type": "text"
      },
      "source": [
        "### 입력값이 없는 함수"
      ]
    },
    {
      "cell_type": "code",
      "metadata": {
        "id": "qMVdNWNeM_Zv",
        "colab_type": "code",
        "colab": {}
      },
      "source": [
        "def say(): \n",
        "    return 'Hi'"
      ],
      "execution_count": 0,
      "outputs": []
    },
    {
      "cell_type": "markdown",
      "metadata": {
        "id": "GYrQpco_Niu2",
        "colab_type": "text"
      },
      "source": [
        "### 입력값이 없는 함수의 사용법\n",
        "\n",
        "결괏값을 받을 변수 = 함수이름()"
      ]
    },
    {
      "cell_type": "code",
      "metadata": {
        "id": "b_uEIVh1Ngt2",
        "colab_type": "code",
        "colab": {
          "base_uri": "https://localhost:8080/",
          "height": 35
        },
        "outputId": "aa1bbc04-6191-4745-debf-bde488d97a38"
      },
      "source": [
        "a = say()\n",
        "print(a)"
      ],
      "execution_count": 8,
      "outputs": [
        {
          "output_type": "stream",
          "text": [
            "Hi\n"
          ],
          "name": "stdout"
        }
      ]
    },
    {
      "cell_type": "markdown",
      "metadata": {
        "id": "1nMsvSoENnu4",
        "colab_type": "text"
      },
      "source": [
        "### 결괏값이 없는 함수"
      ]
    },
    {
      "cell_type": "code",
      "metadata": {
        "id": "Q1fEu3npNmgl",
        "colab_type": "code",
        "colab": {}
      },
      "source": [
        "def add3(a, b): \n",
        "    print(\"%d, %d의 합은 %d입니다.\" % (a, b, a+b))"
      ],
      "execution_count": 0,
      "outputs": []
    },
    {
      "cell_type": "markdown",
      "metadata": {
        "id": "0lGGW_kLNrCx",
        "colab_type": "text"
      },
      "source": [
        "### 결괏값이 없는 함수의 사용법\n",
        "\n",
        "함수이름(입력인수1, 입력인수2, ...)"
      ]
    },
    {
      "cell_type": "code",
      "metadata": {
        "id": "rT57306dNp4Q",
        "colab_type": "code",
        "colab": {
          "base_uri": "https://localhost:8080/",
          "height": 35
        },
        "outputId": "36df7c1e-0f47-464b-bf0a-67375be61f91"
      },
      "source": [
        "add3(3, 4)"
      ],
      "execution_count": 10,
      "outputs": [
        {
          "output_type": "stream",
          "text": [
            "3, 4의 합은 7입니다.\n"
          ],
          "name": "stdout"
        }
      ]
    },
    {
      "cell_type": "markdown",
      "metadata": {
        "id": "KVusYEBGNwMD",
        "colab_type": "text"
      },
      "source": [
        "### 다음 결과는 무엇인가?"
      ]
    },
    {
      "cell_type": "code",
      "metadata": {
        "id": "OC_vz1oXNu1N",
        "colab_type": "code",
        "colab": {
          "base_uri": "https://localhost:8080/",
          "height": 53
        },
        "outputId": "eb0e5fb5-7da8-4256-8693-c7c9079b8212"
      },
      "source": [
        "a = add3(3, 4)\n",
        "print(a)"
      ],
      "execution_count": 11,
      "outputs": [
        {
          "output_type": "stream",
          "text": [
            "3, 4의 합은 7입니다.\n",
            "None\n"
          ],
          "name": "stdout"
        }
      ]
    },
    {
      "cell_type": "markdown",
      "metadata": {
        "id": "mzMmZBx_Nz8N",
        "colab_type": "text"
      },
      "source": [
        "### 입력값도 결괏값도 없는 함수\n",
        "\n",
        "함수이름()"
      ]
    },
    {
      "cell_type": "code",
      "metadata": {
        "id": "qlZcYZwENyGj",
        "colab_type": "code",
        "colab": {
          "base_uri": "https://localhost:8080/",
          "height": 35
        },
        "outputId": "3e9602af-f257-40dc-e051-6003cea00a9d"
      },
      "source": [
        "say()"
      ],
      "execution_count": 12,
      "outputs": [
        {
          "output_type": "execute_result",
          "data": {
            "text/plain": [
              "'Hi'"
            ]
          },
          "metadata": {
            "tags": []
          },
          "execution_count": 12
        }
      ]
    },
    {
      "cell_type": "markdown",
      "metadata": {
        "id": "eAUZu0c5N7Jv",
        "colab_type": "text"
      },
      "source": [
        "### 매개변수의 값을 지정하여 호출하기"
      ]
    },
    {
      "cell_type": "code",
      "metadata": {
        "id": "kl2loX6hN4oU",
        "colab_type": "code",
        "colab": {}
      },
      "source": [
        "def add4(a, b):\n",
        "    return a+b\n"
      ],
      "execution_count": 0,
      "outputs": []
    },
    {
      "cell_type": "code",
      "metadata": {
        "id": "gsJ8Zc4KN8yr",
        "colab_type": "code",
        "colab": {
          "base_uri": "https://localhost:8080/",
          "height": 35
        },
        "outputId": "53785b73-20bd-4b16-e5c8-23cee8f4af91"
      },
      "source": [
        "result = add4(a=3, b=7)  # a에 3, b에 7을 전달\n",
        "print(result)"
      ],
      "execution_count": 14,
      "outputs": [
        {
          "output_type": "stream",
          "text": [
            "10\n"
          ],
          "name": "stdout"
        }
      ]
    },
    {
      "cell_type": "markdown",
      "metadata": {
        "id": "TTf-T3dgOBXJ",
        "colab_type": "text"
      },
      "source": [
        "### 매개변수의 순서에 상관없이 사용"
      ]
    },
    {
      "cell_type": "code",
      "metadata": {
        "id": "Rarc7ZwnN-m-",
        "colab_type": "code",
        "colab": {
          "base_uri": "https://localhost:8080/",
          "height": 35
        },
        "outputId": "6d0e2758-37d1-487a-c4f1-73ee2d85c742"
      },
      "source": [
        "result = add4(b=5, a=3)  # b에 5, a에 3을 전달\n",
        "print(result)"
      ],
      "execution_count": 15,
      "outputs": [
        {
          "output_type": "stream",
          "text": [
            "8\n"
          ],
          "name": "stdout"
        }
      ]
    },
    {
      "cell_type": "markdown",
      "metadata": {
        "id": "_x6owNfxOFeK",
        "colab_type": "text"
      },
      "source": [
        "### 입력값이 몇 개가 될지 모를 때는 어떻게 해야 할까?"
      ]
    },
    {
      "cell_type": "code",
      "metadata": {
        "id": "LD-hdluZODq6",
        "colab_type": "code",
        "colab": {}
      },
      "source": [
        "\"\"\"\n",
        "def 함수이름(*매개변수): \n",
        "    <수행할 문장>\n",
        "    ...\n",
        "\"\"\""
      ],
      "execution_count": 0,
      "outputs": []
    },
    {
      "cell_type": "code",
      "metadata": {
        "id": "TvGAz35BOJzE",
        "colab_type": "code",
        "colab": {}
      },
      "source": [
        "def add_many(*args):\n",
        "    result = 0 \n",
        "    for i in args: \n",
        "        result = result + i \n",
        "    return result "
      ],
      "execution_count": 0,
      "outputs": []
    },
    {
      "cell_type": "code",
      "metadata": {
        "id": "Ns0nvByAOKFV",
        "colab_type": "code",
        "colab": {
          "base_uri": "https://localhost:8080/",
          "height": 35
        },
        "outputId": "1ecf6dba-898d-4817-d374-e8cd47616eb7"
      },
      "source": [
        "add_many(1, 2, 3)\n",
        "add_many(1, 2, 3, 4, 5, 6, 7, 8, 9)\n",
        "\n",
        "result = add_many(1,2,3,4,5,6,7,8,9,10)\n",
        "print(result)"
      ],
      "execution_count": 17,
      "outputs": [
        {
          "output_type": "stream",
          "text": [
            "55\n"
          ],
          "name": "stdout"
        }
      ]
    },
    {
      "cell_type": "markdown",
      "metadata": {
        "id": "YbxoIgN-OPgt",
        "colab_type": "text"
      },
      "source": [
        "### 여러 개의 입력을 처리하는 함수(*args)"
      ]
    },
    {
      "cell_type": "code",
      "metadata": {
        "id": "4gpimRNyONPH",
        "colab_type": "code",
        "colab": {}
      },
      "source": [
        "def add_mul(choice, *args):\n",
        "    if choice == \"add\":\n",
        "        result = 0 \n",
        "        for i in args:\n",
        "            result = result + i \n",
        "    elif choice == \"mul\":\n",
        "        result = 1 \n",
        "        for i in args: \n",
        "            result = result * i \n",
        "    return result "
      ],
      "execution_count": 0,
      "outputs": []
    },
    {
      "cell_type": "markdown",
      "metadata": {
        "id": "pAO2kshQOTR3",
        "colab_type": "text"
      },
      "source": [
        "####  add"
      ]
    },
    {
      "cell_type": "code",
      "metadata": {
        "id": "tGohf8yHORZg",
        "colab_type": "code",
        "colab": {
          "base_uri": "https://localhost:8080/",
          "height": 35
        },
        "outputId": "3b2a2e4b-f7be-4c66-fdf6-63018e23f158"
      },
      "source": [
        "result = add_mul('add', 1,2,3,4,5)\n",
        "print(result)"
      ],
      "execution_count": 19,
      "outputs": [
        {
          "output_type": "stream",
          "text": [
            "15\n"
          ],
          "name": "stdout"
        }
      ]
    },
    {
      "cell_type": "markdown",
      "metadata": {
        "id": "Ev5d3GxrOX3j",
        "colab_type": "text"
      },
      "source": [
        "#### multiply"
      ]
    },
    {
      "cell_type": "code",
      "metadata": {
        "id": "Hm53qEhGOWul",
        "colab_type": "code",
        "colab": {
          "base_uri": "https://localhost:8080/",
          "height": 35
        },
        "outputId": "ea1b43b7-ceff-40c3-db3e-f0a15396cc21"
      },
      "source": [
        "result = add_mul('mul', 1,2,3,4,5)\n",
        "print(result)"
      ],
      "execution_count": 20,
      "outputs": [
        {
          "output_type": "stream",
          "text": [
            "120\n"
          ],
          "name": "stdout"
        }
      ]
    },
    {
      "cell_type": "markdown",
      "metadata": {
        "id": "TGj_UbT6OboS",
        "colab_type": "text"
      },
      "source": [
        "### 키워드 파라미터 kwargs"
      ]
    },
    {
      "cell_type": "code",
      "metadata": {
        "id": "wvoeqlCSOZ15",
        "colab_type": "code",
        "colab": {}
      },
      "source": [
        "def print_kwargs(**kwargs):\n",
        "    print(kwargs)"
      ],
      "execution_count": 0,
      "outputs": []
    },
    {
      "cell_type": "markdown",
      "metadata": {
        "id": "NkQMCJdAOf6U",
        "colab_type": "text"
      },
      "source": [
        "###  print_kwargs 함수는 매개변수 kwargs를 출력하는 함수"
      ]
    },
    {
      "cell_type": "code",
      "metadata": {
        "id": "kMZYGR03OeHH",
        "colab_type": "code",
        "colab": {
          "base_uri": "https://localhost:8080/",
          "height": 53
        },
        "outputId": "4ebc7ba6-1480-4ab5-a62e-da92f19a6846"
      },
      "source": [
        "print_kwargs(a=1)\n",
        "\n",
        "print_kwargs(name='foo', age=3)"
      ],
      "execution_count": 22,
      "outputs": [
        {
          "output_type": "stream",
          "text": [
            "{'a': 1}\n",
            "{'name': 'foo', 'age': 3}\n"
          ],
          "name": "stdout"
        }
      ]
    },
    {
      "cell_type": "markdown",
      "metadata": {
        "id": "M4oHpYjzOlNX",
        "colab_type": "text"
      },
      "source": [
        "**kwargs처럼 매개변수 이름 앞에 **을 붙이면 매개변수 \n",
        "kwargs는 딕셔너리가 되고 모든 key=value 형태의 결괏값이 \n",
        "그 딕셔너리에 저장된다."
      ]
    },
    {
      "cell_type": "markdown",
      "metadata": {
        "id": "kIOL_BG7OqQ4",
        "colab_type": "text"
      },
      "source": [
        "### 함수의 결괏값은 언제나 하나"
      ]
    },
    {
      "cell_type": "code",
      "metadata": {
        "id": "3cXQIFh6Oig3",
        "colab_type": "code",
        "colab": {}
      },
      "source": [
        "def add_and_mul(a,b): \n",
        "    return a+b, a*b"
      ],
      "execution_count": 0,
      "outputs": []
    },
    {
      "cell_type": "markdown",
      "metadata": {
        "id": "KTgtW88dOuCY",
        "colab_type": "text"
      },
      "source": [
        "#### add_and_mul() 사용 1."
      ]
    },
    {
      "cell_type": "code",
      "metadata": {
        "id": "cEWdVVvDOsML",
        "colab_type": "code",
        "colab": {
          "base_uri": "https://localhost:8080/",
          "height": 35
        },
        "outputId": "1335e9ef-5a83-48aa-c60e-ecb29f6e561e"
      },
      "source": [
        "result = add_and_mul(3,4)\n",
        "\n",
        "print(result)"
      ],
      "execution_count": 24,
      "outputs": [
        {
          "output_type": "stream",
          "text": [
            "(7, 12)\n"
          ],
          "name": "stdout"
        }
      ]
    },
    {
      "cell_type": "markdown",
      "metadata": {
        "id": "p7kzzalsOw7h",
        "colab_type": "text"
      },
      "source": [
        "#### add_and_mul() 사용 2."
      ]
    },
    {
      "cell_type": "code",
      "metadata": {
        "id": "gZ2Qeak4Ov6F",
        "colab_type": "code",
        "colab": {
          "base_uri": "https://localhost:8080/",
          "height": 35
        },
        "outputId": "df0c4d81-c6f2-4939-c2bf-0ac036006fdb"
      },
      "source": [
        "result1, result2 = add_and_mul(3, 4)\n",
        "\n",
        "result1, result2"
      ],
      "execution_count": 25,
      "outputs": [
        {
          "output_type": "execute_result",
          "data": {
            "text/plain": [
              "(7, 12)"
            ]
          },
          "metadata": {
            "tags": []
          },
          "execution_count": 25
        }
      ]
    },
    {
      "cell_type": "markdown",
      "metadata": {
        "id": "vPNQLYRBO1JS",
        "colab_type": "text"
      },
      "source": [
        "### 잘못된 함수\n"
      ]
    },
    {
      "cell_type": "code",
      "metadata": {
        "id": "qmfmHMqhPCtb",
        "colab_type": "code",
        "colab": {
          "base_uri": "https://localhost:8080/",
          "height": 35
        },
        "outputId": "3476afa0-42bd-49cd-92b5-971a7508ce05"
      },
      "source": [
        "\n",
        "\"\"\"\n",
        "\n",
        "def add_and_mul2(a,b): \n",
        "    return a+b \n",
        "    return a*b  # Not working!!\n",
        "   \n",
        "\"\"\""
      ],
      "execution_count": 27,
      "outputs": [
        {
          "output_type": "execute_result",
          "data": {
            "text/plain": [
              "'\\n\\ndef add_and_mul2(a,b): \\n    return a+b \\n    return a*b  # Not working!!\\n   \\n'"
            ]
          },
          "metadata": {
            "tags": []
          },
          "execution_count": 27
        }
      ]
    },
    {
      "cell_type": "code",
      "metadata": {
        "id": "jUlpQEQ0PSLU",
        "colab_type": "code",
        "colab": {
          "base_uri": "https://localhost:8080/",
          "height": 35
        },
        "outputId": "541e3b98-3164-4be4-99ec-e4cc0daf4db3"
      },
      "source": [
        "\n",
        "\"\"\"\n",
        "\n",
        "result = add_and_mul2(2, 3)\n",
        "print(result)\n",
        "\n",
        "\"\"\""
      ],
      "execution_count": 29,
      "outputs": [
        {
          "output_type": "execute_result",
          "data": {
            "text/plain": [
              "'\\n\\nresult = add_and_mul2(2, 3)\\nprint(result)\\n\\n'"
            ]
          },
          "metadata": {
            "tags": []
          },
          "execution_count": 29
        }
      ]
    },
    {
      "cell_type": "markdown",
      "metadata": {
        "id": "ej8bumCsPXrl",
        "colab_type": "text"
      },
      "source": [
        "### return 의 용도: 함수 실행 종료"
      ]
    },
    {
      "cell_type": "code",
      "metadata": {
        "id": "QJRcO5xpPaOP",
        "colab_type": "code",
        "colab": {}
      },
      "source": [
        "def say_nick(nick): \n",
        "    if nick == \"바보\": \n",
        "        return \n",
        "    print(\"나의 별명은 %s 입니다.\" % nick)"
      ],
      "execution_count": 0,
      "outputs": []
    },
    {
      "cell_type": "code",
      "metadata": {
        "id": "wdgE9_PLPcPT",
        "colab_type": "code",
        "colab": {
          "base_uri": "https://localhost:8080/",
          "height": 35
        },
        "outputId": "44e2d030-b764-43bd-d94a-91b0d1fe9cae"
      },
      "source": [
        "say_nick(\"홍길동\")\n"
      ],
      "execution_count": 34,
      "outputs": [
        {
          "output_type": "stream",
          "text": [
            "나의 별명은 홍길동 입니다.\n"
          ],
          "name": "stdout"
        }
      ]
    },
    {
      "cell_type": "code",
      "metadata": {
        "id": "WkuO8P8IPmwy",
        "colab_type": "code",
        "colab": {}
      },
      "source": [
        "say_nick(\"바보\")"
      ],
      "execution_count": 0,
      "outputs": []
    },
    {
      "cell_type": "markdown",
      "metadata": {
        "id": "xIWlcNGyO6Kc",
        "colab_type": "text"
      },
      "source": [
        "### 매개변수에 초깃값 미리 설정하기"
      ]
    },
    {
      "cell_type": "code",
      "metadata": {
        "id": "91BKvAesOy95",
        "colab_type": "code",
        "colab": {}
      },
      "source": [
        "def say_myself(name, old, man=True): \n",
        "    print(\"나의 이름은 %s 입니다.\" % name) \n",
        "    print(\"나이는 %d살입니다.\" % old) \n",
        "    if man: \n",
        "        print(\"남자입니다.\")\n",
        "    else: \n",
        "        print(\"여자입니다.\")"
      ],
      "execution_count": 0,
      "outputs": []
    },
    {
      "cell_type": "code",
      "metadata": {
        "id": "iNlfFGxrPtMW",
        "colab_type": "code",
        "colab": {
          "base_uri": "https://localhost:8080/",
          "height": 179
        },
        "outputId": "0648e6cf-af41-41f6-ec0c-9dea27cc8e22"
      },
      "source": [
        "say_myself(\"박응용\", 27)\n",
        "say_myself(\"박응용\", 27, True)\n",
        "\n",
        "say_myself(\"박응용\", 27, False)"
      ],
      "execution_count": 37,
      "outputs": [
        {
          "output_type": "stream",
          "text": [
            "나의 이름은 박응용 입니다.\n",
            "나이는 27살입니다.\n",
            "남자입니다.\n",
            "나의 이름은 박응용 입니다.\n",
            "나이는 27살입니다.\n",
            "남자입니다.\n",
            "나의 이름은 박응용 입니다.\n",
            "나이는 27살입니다.\n",
            "여자입니다.\n"
          ],
          "name": "stdout"
        }
      ]
    },
    {
      "cell_type": "code",
      "metadata": {
        "id": "DwEygKJVPu5s",
        "colab_type": "code",
        "colab": {}
      },
      "source": [
        "\"\"\"\n",
        "def say_myself2(name, man=True, old): \n",
        "    print(\"나의 이름은 %s 입니다.\" % name) \n",
        "    print(\"나이는 %d살입니다.\" % old) \n",
        "    if man: \n",
        "        print(\"남자입니다.\") \n",
        "    else:\n",
        "        print(\"여자입니다.\")\n",
        "    \n",
        "\n",
        "\n",
        "\"\"\""
      ],
      "execution_count": 0,
      "outputs": []
    },
    {
      "cell_type": "markdown",
      "metadata": {
        "id": "krpoKCnzPxq6",
        "colab_type": "text"
      },
      "source": [
        "초깃값을 설정해 놓은 매개변수 뒤에 \n",
        "초깃값을 설정해 놓지 않은 매개변수는 사용할 수 없다\n",
        "초기화시키고 싶은 매개변수를 항상 뒤쪽에 놓는다."
      ]
    },
    {
      "cell_type": "markdown",
      "metadata": {
        "id": "9cbACX9rP2Ao",
        "colab_type": "text"
      },
      "source": [
        "### 함수 안에서 선언한 변수의 효력 범위\n",
        "\n",
        "전역변수\n",
        "지역 변수, 자동 변수"
      ]
    },
    {
      "cell_type": "markdown",
      "metadata": {
        "id": "rQKQB4uTP8QS",
        "colab_type": "text"
      },
      "source": [
        "#### vartest.py"
      ]
    },
    {
      "cell_type": "code",
      "metadata": {
        "id": "ujj_lx3BP7J2",
        "colab_type": "code",
        "colab": {}
      },
      "source": [
        "a = 1\n",
        "def vartest(a):\n",
        "    a = a +1"
      ],
      "execution_count": 0,
      "outputs": []
    },
    {
      "cell_type": "code",
      "metadata": {
        "id": "k1ofAiOnP_lL",
        "colab_type": "code",
        "colab": {
          "base_uri": "https://localhost:8080/",
          "height": 35
        },
        "outputId": "4008eb4c-4c9d-4141-986a-9c89a1657cd1"
      },
      "source": [
        "vartest(a)\n",
        "print(a)"
      ],
      "execution_count": 39,
      "outputs": [
        {
          "output_type": "stream",
          "text": [
            "1\n"
          ],
          "name": "stdout"
        }
      ]
    },
    {
      "cell_type": "markdown",
      "metadata": {
        "id": "Y5VZqhQjQBm0",
        "colab_type": "text"
      },
      "source": [
        "#### vartest_error.py"
      ]
    },
    {
      "cell_type": "code",
      "metadata": {
        "id": "EezHlc7CQD2k",
        "colab_type": "code",
        "colab": {}
      },
      "source": [
        "def vartest2(z):\n",
        "    z = z + 1"
      ],
      "execution_count": 0,
      "outputs": []
    },
    {
      "cell_type": "code",
      "metadata": {
        "id": "8-SV__hlQGYI",
        "colab_type": "code",
        "colab": {
          "base_uri": "https://localhost:8080/",
          "height": 35
        },
        "outputId": "726d90e4-ea04-477d-8e26-943fbce1de58"
      },
      "source": [
        "vartest2(3)\n",
        "print(z)  # Error"
      ],
      "execution_count": 41,
      "outputs": [
        {
          "output_type": "stream",
          "text": [
            "[1, 2, 3, 4, 5, 6]\n"
          ],
          "name": "stdout"
        }
      ]
    },
    {
      "cell_type": "markdown",
      "metadata": {
        "id": "LIjuLcDAP6yB",
        "colab_type": "text"
      },
      "source": [
        "### 함수 안에서 함수 밖의 변수를 변경하는 방법\n",
        "return 사용\n",
        "global 변수 사용"
      ]
    },
    {
      "cell_type": "markdown",
      "metadata": {
        "id": "9DBoD0sgQP49",
        "colab_type": "text"
      },
      "source": [
        "#### 1. return 사용하기"
      ]
    },
    {
      "cell_type": "code",
      "metadata": {
        "id": "Szqqu6akQPqx",
        "colab_type": "code",
        "colab": {}
      },
      "source": [
        "a = 1 \n",
        "def vartest3(a): \n",
        "    a = a +1 \n",
        "    return a"
      ],
      "execution_count": 0,
      "outputs": []
    },
    {
      "cell_type": "code",
      "metadata": {
        "id": "JjwcJp9ePz_h",
        "colab_type": "code",
        "colab": {
          "base_uri": "https://localhost:8080/",
          "height": 35
        },
        "outputId": "38762acb-164b-4efd-e59d-7ab4c563823e"
      },
      "source": [
        "a = vartest3(a) \n",
        "print(a)"
      ],
      "execution_count": 43,
      "outputs": [
        {
          "output_type": "stream",
          "text": [
            "2\n"
          ],
          "name": "stdout"
        }
      ]
    },
    {
      "cell_type": "markdown",
      "metadata": {
        "id": "usmJYYjkQVsL",
        "colab_type": "text"
      },
      "source": [
        "#### 2. global 명령어 사용하기"
      ]
    },
    {
      "cell_type": "code",
      "metadata": {
        "id": "tRM9XC9VQUDA",
        "colab_type": "code",
        "colab": {}
      },
      "source": [
        "a = 1 \n",
        "def vartest4(): \n",
        "    global a \n",
        "    a = a+1"
      ],
      "execution_count": 0,
      "outputs": []
    },
    {
      "cell_type": "code",
      "metadata": {
        "id": "7DEFj8FFQXVR",
        "colab_type": "code",
        "colab": {
          "base_uri": "https://localhost:8080/",
          "height": 35
        },
        "outputId": "b20a8379-06c4-4425-96a2-15812469aeeb"
      },
      "source": [
        "vartest4() \n",
        "print(a)"
      ],
      "execution_count": 45,
      "outputs": [
        {
          "output_type": "stream",
          "text": [
            "2\n"
          ],
          "name": "stdout"
        }
      ]
    },
    {
      "cell_type": "markdown",
      "metadata": {
        "id": "AmtBPosRQbdl",
        "colab_type": "text"
      },
      "source": [
        "### lambda\n",
        "lambda는 함수를 생성할 때 사용하는 예약어로 def와 동일한 역할을 한다. \n",
        "보통 함수를 한줄로 간결하게 만들 때 사용한다."
      ]
    },
    {
      "cell_type": "markdown",
      "metadata": {
        "id": "ClSAgRgSQie3",
        "colab_type": "text"
      },
      "source": [
        "#### lambda 사용법\n",
        "\n",
        "ambda 매개변수1, 매개변수2, ... : 매개변수를 이용한 표현식"
      ]
    },
    {
      "cell_type": "markdown",
      "metadata": {
        "id": "SaSOOSZfQnLo",
        "colab_type": "text"
      },
      "source": [
        "### lambda를 이용한 add 함수"
      ]
    },
    {
      "cell_type": "code",
      "metadata": {
        "id": "fi7WlQUmQhNT",
        "colab_type": "code",
        "colab": {
          "base_uri": "https://localhost:8080/",
          "height": 35
        },
        "outputId": "1ebf108d-585c-478d-9fed-448509cf5cce"
      },
      "source": [
        "add = lambda a, b: a+b\n",
        "\n",
        "result = add(3, 4)\n",
        "print(result)"
      ],
      "execution_count": 46,
      "outputs": [
        {
          "output_type": "stream",
          "text": [
            "7\n"
          ],
          "name": "stdout"
        }
      ]
    },
    {
      "cell_type": "markdown",
      "metadata": {
        "id": "eI8bn0SCQryb",
        "colab_type": "text"
      },
      "source": [
        "lambda 예약어로 만든 함수는 return 명령어가 없어도 결괏값을 돌려준다."
      ]
    },
    {
      "cell_type": "markdown",
      "metadata": {
        "id": "nKTt0IxuQwFY",
        "colab_type": "text"
      },
      "source": [
        "#### lambda 함수의 응용"
      ]
    },
    {
      "cell_type": "code",
      "metadata": {
        "id": "f-gq-14PQYWw",
        "colab_type": "code",
        "colab": {
          "base_uri": "https://localhost:8080/",
          "height": 35
        },
        "outputId": "22ff273b-e6e3-460f-c63c-f70d9411b207"
      },
      "source": [
        "models = ['K-3000', 'N-1000', 'T-2000', 'X-5000']\n",
        "sorted(models, key=lambda x: x[-4:])"
      ],
      "execution_count": 47,
      "outputs": [
        {
          "output_type": "execute_result",
          "data": {
            "text/plain": [
              "['N-1000', 'T-2000', 'K-3000', 'X-5000']"
            ]
          },
          "metadata": {
            "tags": []
          },
          "execution_count": 47
        }
      ]
    },
    {
      "cell_type": "code",
      "metadata": {
        "id": "BLtpTT0UQycF",
        "colab_type": "code",
        "colab": {}
      },
      "source": [
        ""
      ],
      "execution_count": 0,
      "outputs": []
    }
  ]
}