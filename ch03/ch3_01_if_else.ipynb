{
  "nbformat": 4,
  "nbformat_minor": 0,
  "metadata": {
    "colab": {
      "name": "ch3_01_if_else.ipynb",
      "provenance": [],
      "collapsed_sections": [],
      "include_colab_link": true
    },
    "kernelspec": {
      "name": "python3",
      "display_name": "Python 3"
    }
  },
  "cells": [
    {
      "cell_type": "markdown",
      "metadata": {
        "id": "view-in-github",
        "colab_type": "text"
      },
      "source": [
        "<a href=\"https://colab.research.google.com/github/Gyunnni/SM12/blob/master/ch03/ch3_01_if_else.ipynb\" target=\"_parent\"><img src=\"https://colab.research.google.com/assets/colab-badge.svg\" alt=\"Open In Colab\"/></a>"
      ]
    },
    {
      "cell_type": "markdown",
      "metadata": {
        "id": "BfUnoMWaL-fu",
        "colab_type": "text"
      },
      "source": [
        "## ch3_01_if_else.py"
      ]
    },
    {
      "cell_type": "markdown",
      "metadata": {
        "id": "d2DqSWS3MO-j",
        "colab_type": "text"
      },
      "source": [
        "###if문은 어떻게 사용?"
      ]
    },
    {
      "cell_type": "code",
      "metadata": {
        "id": "Xq30b7c3LLRy",
        "colab_type": "code",
        "colab": {
          "base_uri": "https://localhost:8080/",
          "height": 34
        },
        "outputId": "b91ffa13-407d-4049-a0ed-f79bc4c18be7"
      },
      "source": [
        "\n",
        "money = True\n",
        "if money:\n",
        "    print(\"택시를 타고 가라\")\n",
        "else:\n",
        "    print(\"걸어 가라\")\n"
      ],
      "execution_count": 2,
      "outputs": [
        {
          "output_type": "stream",
          "text": [
            "택시를 타고 가라\n"
          ],
          "name": "stdout"
        }
      ]
    },
    {
      "cell_type": "markdown",
      "metadata": {
        "id": "aTUvJ27HMh7B",
        "colab_type": "text"
      },
      "source": [
        "###if문의 기본 구조\n"
      ]
    },
    {
      "cell_type": "code",
      "metadata": {
        "id": "3VrqecOaLYFX",
        "colab_type": "code",
        "colab": {}
      },
      "source": [
        "\n",
        "#if 조건문:\n",
        "#    수행할 문장1\n",
        "#    수행할 문장2\n",
        "#    ...\n",
        "#else:\n",
        "#    수행할 문장A\n",
        "#    수행할 문장B\n",
        "#    ...\n",
        "#'''"
      ],
      "execution_count": 0,
      "outputs": []
    },
    {
      "cell_type": "markdown",
      "metadata": {
        "id": "IuwvQx-NMva2",
        "colab_type": "text"
      },
      "source": [
        "###들여 쓰기"
      ]
    },
    {
      "cell_type": "code",
      "metadata": {
        "id": "wqtvzKcoLbKm",
        "colab_type": "code",
        "colab": {}
      },
      "source": [
        "# 예-1\n",
        "#money = True\n",
        "#if money:\n",
        "#    print(\"택시를\")\n",
        "#print(\"타고\")\n",
        "#    print(\"가라\")"
      ],
      "execution_count": 0,
      "outputs": []
    },
    {
      "cell_type": "code",
      "metadata": {
        "id": "RRgVKIRQMzeB",
        "colab_type": "code",
        "colab": {}
      },
      "source": [
        "\n",
        "#\n",
        "# 예-2\n",
        "#money = True\n",
        "#if money:\n",
        "#    print(\"택시를\")\n",
        "#    print(\"타고\")\n",
        "#        print(\"가라\")\n",
        "    \n"
      ],
      "execution_count": 0,
      "outputs": []
    },
    {
      "cell_type": "code",
      "metadata": {
        "id": "kqf2F-S1LckE",
        "colab_type": "code",
        "colab": {
          "base_uri": "https://localhost:8080/",
          "height": 34
        },
        "outputId": "5d4f7804-d8e9-4431-cfb2-2a571a24e046"
      },
      "source": [
        "\n",
        "###################################\n",
        "# 조건문 다음에 콜론(:)을 잊지 말자!\n",
        "###################################\n"
      ],
      "execution_count": 9,
      "outputs": [
        {
          "output_type": "stream",
          "text": [
            "조건식: 비교연산자\n"
          ],
          "name": "stdout"
        }
      ]
    },
    {
      "cell_type": "markdown",
      "metadata": {
        "id": "uDDTT_5NNXCG",
        "colab_type": "text"
      },
      "source": [
        "###조건식: 비교연산자"
      ]
    },
    {
      "cell_type": "code",
      "metadata": {
        "colab_type": "code",
        "id": "pnj50-kELg3r",
        "colab": {
          "base_uri": "https://localhost:8080/",
          "height": 52
        },
        "outputId": "248a5670-4fc6-4ce7-8475-da11a35a0910"
      },
      "source": [
        "\n",
        "# 비교연산자(<, >, ==, !=, >=, <=)를 쓰는 방법\n",
        "x=3\n",
        "y=2\n",
        "print(x>y)\n",
        "\n",
        "x<y\n",
        "x==y\n",
        "(x!=y)\n"
      ],
      "execution_count": 11,
      "outputs": [
        {
          "output_type": "stream",
          "text": [
            "True\n"
          ],
          "name": "stdout"
        },
        {
          "output_type": "execute_result",
          "data": {
            "text/plain": [
              "True"
            ]
          },
          "metadata": {
            "tags": []
          },
          "execution_count": 11
        }
      ]
    },
    {
      "cell_type": "code",
      "metadata": {
        "id": "p9KgzGRuLidy",
        "colab_type": "code",
        "colab": {
          "base_uri": "https://localhost:8080/",
          "height": 34
        },
        "outputId": "31678946-8092-4b18-d975-2413b1314df7"
      },
      "source": [
        "\n",
        "###################################\n",
        "# 조건식 만들기\n",
        "###################################\n",
        "# \"만약 3000원 이상의 돈을 가지고 있으면 택시를 타고 그렇지 않으면 걸어 가라.\"\n",
        "money = 2000\n",
        "if money >= 3000:\n",
        "    print(\"택시를 타고 가라\")\n",
        "else:\n",
        "    print(\"걸어가라\")\n"
      ],
      "execution_count": 12,
      "outputs": [
        {
          "output_type": "stream",
          "text": [
            "걸어가라\n"
          ],
          "name": "stdout"
        }
      ]
    },
    {
      "cell_type": "markdown",
      "metadata": {
        "id": "PIbsk_BvNvhM",
        "colab_type": "text"
      },
      "source": [
        "###################################\n",
        "### 복합 조건식: or, and, not\n",
        "###################################"
      ]
    },
    {
      "cell_type": "code",
      "metadata": {
        "id": "pv_i5WtiNtf0",
        "colab_type": "code",
        "colab": {
          "base_uri": "https://localhost:8080/",
          "height": 34
        },
        "outputId": "be0a8cb7-3b49-4183-8330-985c1d91422d"
      },
      "source": [
        "\n",
        "# 연산자\t설명\n",
        "# x or y  :\tx와 y 둘중에 하나만 참이면 참이다\n",
        "# x and y :\tx와 y 모두 참이어야 참이다\n",
        "# not x\t  : x가 거짓이면 참이다\n",
        "###################################\n",
        "# or 복합 조건식 이용\n",
        "# \"돈이 3000원 이상 있거나 카드가 있다면 택시를 타고 그렇지 않으면 걸어 가라.\"\n",
        "money = 2000\n",
        "card = True\n",
        "if money >= 3000 or card:\n",
        "    print(\"택시를 타고 가라\")\n",
        "else:\n",
        "    print(\"걸어가라\")\n"
      ],
      "execution_count": 15,
      "outputs": [
        {
          "output_type": "stream",
          "text": [
            "택시를 타고 가라\n"
          ],
          "name": "stdout"
        }
      ]
    },
    {
      "cell_type": "markdown",
      "metadata": {
        "id": "DC06o8gFN0ww",
        "colab_type": "text"
      },
      "source": [
        "\n",
        "###################################\n",
        "### 조건식: in, not in\n",
        "###################################"
      ]
    },
    {
      "cell_type": "code",
      "metadata": {
        "id": "Fohf46mjNziz",
        "colab_type": "code",
        "colab": {
          "base_uri": "https://localhost:8080/",
          "height": 34
        },
        "outputId": "44c64736-70eb-44ae-e576-22d0ee42900d"
      },
      "source": [
        "\n",
        "#   in\t          not in\n",
        "# x in 리스트\tx not in 리스트\n",
        "# x in 튜플\t    x not in 튜플\n",
        "# x in 문자열\tx not in 문자열\n",
        "###################################\n",
        "# list\n",
        "1 in [1, 2, 3]\n",
        "1 not in [1, 2, 3]\n",
        "# tuple\n",
        "'a' in ('a', 'b', 'c')\n",
        "# string\n",
        "'j' not in 'python'\n"
      ],
      "execution_count": 16,
      "outputs": [
        {
          "output_type": "execute_result",
          "data": {
            "text/plain": [
              "True"
            ]
          },
          "metadata": {
            "tags": []
          },
          "execution_count": 16
        }
      ]
    },
    {
      "cell_type": "markdown",
      "metadata": {
        "id": "pusJad7POC-z",
        "colab_type": "text"
      },
      "source": [
        "\n",
        "### in을 이용한 코드"
      ]
    },
    {
      "cell_type": "code",
      "metadata": {
        "id": "6s_HfASdL0Bl",
        "colab_type": "code",
        "colab": {
          "base_uri": "https://localhost:8080/",
          "height": 34
        },
        "outputId": "58a2f50c-9d49-479f-9f31-981fa27bb9cd"
      },
      "source": [
        "\n",
        "# \"만약 주머니에 돈이 있으면 택시를 타고, 없으면 걸어 가라.\"\n",
        "pocket = ['paper', 'cellphone', 'money']\n",
        "if 'money' in pocket:\n",
        "    print(\"택시를 타고 가라\")\n",
        "else:\n",
        "    print(\"걸어가라\")\n",
        "\n"
      ],
      "execution_count": 17,
      "outputs": [
        {
          "output_type": "stream",
          "text": [
            "택시를 타고 가라\n"
          ],
          "name": "stdout"
        }
      ]
    },
    {
      "cell_type": "markdown",
      "metadata": {
        "id": "C4ZUyer7OKTX",
        "colab_type": "text"
      },
      "source": [
        "\n",
        "###################################\n",
        "###조건식: pass\n",
        "###################################"
      ]
    },
    {
      "cell_type": "code",
      "metadata": {
        "id": "FhMMDGIyOItn",
        "colab_type": "code",
        "colab": {}
      },
      "source": [
        "pocket = ['paper', 'cellphone', 'money']\n",
        "if 'money' in pocket:\n",
        "    # print(\"택시를 타고 가라\")\n",
        "    pass\n",
        "else:\n",
        "    print(\"걸어가라\")"
      ],
      "execution_count": 0,
      "outputs": []
    },
    {
      "cell_type": "markdown",
      "metadata": {
        "id": "4lNaOxZNOVvS",
        "colab_type": "text"
      },
      "source": [
        "\n",
        "###################################\n",
        "### 다중 조건식: elif\n",
        "#### 다양한 조건을 판단\n",
        "###################################\n",
        "#### \"주머니에 돈이 있으면 택시를 타고, \n",
        "#### 주머니에 돈은 없지만 카드가 있으면 택시를 타고, \n",
        "#### 돈도 없고 카드도 없으면 걸어 가라.\"\n"
      ]
    },
    {
      "cell_type": "code",
      "metadata": {
        "id": "lP6md-kHLyhw",
        "colab_type": "code",
        "colab": {
          "base_uri": "https://localhost:8080/",
          "height": 34
        },
        "outputId": "e1eb4c46-5d20-4687-9de4-bcb1c60f2548"
      },
      "source": [
        "\n",
        "pocket = ['paper', 'handphone']\n",
        "card = True\n",
        "if 'money' in pocket:\n",
        "    print(\"택시를 타고가라\")\n",
        "else:\n",
        "    if card:\n",
        "        print(\"택시를 타고가라\")\n",
        "    else:\n",
        "        print(\"걸어가라\")\n"
      ],
      "execution_count": 21,
      "outputs": [
        {
          "output_type": "stream",
          "text": [
            "택시를 타고가라\n"
          ],
          "name": "stdout"
        }
      ]
    },
    {
      "cell_type": "markdown",
      "metadata": {
        "id": "h0A9bGeOOif2",
        "colab_type": "text"
      },
      "source": [
        "\n",
        "\n",
        "###elif 이용한 코드"
      ]
    },
    {
      "cell_type": "code",
      "metadata": {
        "id": "3LbSB3xGLwhU",
        "colab_type": "code",
        "colab": {
          "base_uri": "https://localhost:8080/",
          "height": 34
        },
        "outputId": "a270896d-c61e-41cd-8b0a-b681d672573b"
      },
      "source": [
        "\n",
        "pocket = ['paper', 'handphone']\n",
        "card = True\n",
        "if 'money' in pocket:\n",
        "    print(\"택시를 타고가라\")\n",
        "elif card:\n",
        "    print(\"택시를 타고가라\")\n",
        "else:\n",
        "    print(\"걸어가라\")\n",
        "\n"
      ],
      "execution_count": 22,
      "outputs": [
        {
          "output_type": "stream",
          "text": [
            "택시를 타고가라\n"
          ],
          "name": "stdout"
        }
      ]
    },
    {
      "cell_type": "markdown",
      "metadata": {
        "id": "2yMaM2irOl2W",
        "colab_type": "text"
      },
      "source": [
        "\n",
        "###################################\n",
        "###if문을 한 줄로 작성하기\n",
        "###################################"
      ]
    },
    {
      "cell_type": "code",
      "metadata": {
        "id": "Aphqc1HRLs9Y",
        "colab_type": "code",
        "colab": {}
      },
      "source": [
        "\n",
        "pocket = ['paper', 'cellphone', 'money']\n",
        "if 'money' in pocket:\n",
        "    pass\n",
        "else:\n",
        "    print(\"카드를 사용해라.\")"
      ],
      "execution_count": 0,
      "outputs": []
    },
    {
      "cell_type": "code",
      "metadata": {
        "id": "JverATrUOp3h",
        "colab_type": "code",
        "colab": {}
      },
      "source": [
        "\n",
        "# 한줄 코드\n",
        "if 'money' in pocket: pass\n",
        "else: print(\"카드를 사용해라.\")"
      ],
      "execution_count": 0,
      "outputs": []
    },
    {
      "cell_type": "markdown",
      "metadata": {
        "id": "f9jkEER7OyHZ",
        "colab_type": "text"
      },
      "source": [
        "\n",
        "######################################################\n",
        "### 조건부 표현식 (conditional expression)\n",
        "### 조건문이 참인 경우 if 조건문 else 조건문이 거짓인 경우\n",
        "######################################################"
      ]
    },
    {
      "cell_type": "code",
      "metadata": {
        "id": "zzud0ZJOLu-B",
        "colab_type": "code",
        "colab": {
          "base_uri": "https://localhost:8080/",
          "height": 52
        },
        "outputId": "b4b8ac12-a460-4fa4-a391-834dba1aa163"
      },
      "source": [
        "\n",
        "score=80\n",
        "if score >= 60:\n",
        "    message = \"success\"\n",
        "else:\n",
        "    message = \"failure\"\n",
        "\n",
        "print(message)\n",
        "\n",
        "# 한줄 코드\n",
        "message = \"success\" if score >= 60 else \"failure\"\n",
        "print(message)\n"
      ],
      "execution_count": 25,
      "outputs": [
        {
          "output_type": "stream",
          "text": [
            "success\n",
            "success\n"
          ],
          "name": "stdout"
        }
      ]
    },
    {
      "cell_type": "code",
      "metadata": {
        "id": "U5-DmsFvO3FQ",
        "colab_type": "code",
        "colab": {}
      },
      "source": [
        "\n",
        "\n",
        "\"\"\"\n",
        "Author: redwoods\n",
        "파이썬 코드: ch3_01_if_else.py\n",
        "\"\"\"\n"
      ],
      "execution_count": 0,
      "outputs": []
    }
  ]
}