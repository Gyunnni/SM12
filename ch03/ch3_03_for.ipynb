{
  "nbformat": 4,
  "nbformat_minor": 0,
  "metadata": {
    "colab": {
      "name": "ch3_03_for.ipynb",
      "provenance": [],
      "include_colab_link": true
    },
    "kernelspec": {
      "name": "python3",
      "display_name": "Python 3"
    }
  },
  "cells": [
    {
      "cell_type": "markdown",
      "metadata": {
        "id": "view-in-github",
        "colab_type": "text"
      },
      "source": [
        "<a href=\"https://colab.research.google.com/github/Gyunnni/SM12/blob/master/ch03/ch3_03_for.ipynb\" target=\"_parent\"><img src=\"https://colab.research.google.com/assets/colab-badge.svg\" alt=\"Open In Colab\"/></a>"
      ]
    },
    {
      "cell_type": "markdown",
      "metadata": {
        "id": "s3s6LR4qShYt",
        "colab_type": "text"
      },
      "source": [
        "## ch3_03_for.py"
      ]
    },
    {
      "cell_type": "markdown",
      "metadata": {
        "id": "rwA3CkuSSmyb",
        "colab_type": "text"
      },
      "source": [
        "### for 문은 어떻게 사용?\n",
        "반복해서 문장을 수행해야 할 경우 for문을 사용한다. "
      ]
    },
    {
      "cell_type": "markdown",
      "metadata": {
        "id": "YPW6NEb3SrXA",
        "colab_type": "text"
      },
      "source": [
        "### for문의 기본 구조\n",
        "'''\n",
        "for 변수 in 리스트(또는 튜플, 문자열):\n",
        "    수행할 문장1\n",
        "    수행할 문장2\n",
        "    ...\n",
        "'''"
      ]
    },
    {
      "cell_type": "markdown",
      "metadata": {
        "id": "P17qtwaCSv5J",
        "colab_type": "text"
      },
      "source": [
        "### 예제를 통해 for문 이해하기"
      ]
    },
    {
      "cell_type": "markdown",
      "metadata": {
        "id": "vtlHooMOSzQK",
        "colab_type": "text"
      },
      "source": [
        "#### 1. 전형적인 for문"
      ]
    },
    {
      "cell_type": "code",
      "metadata": {
        "id": "xOK02RBSSdMM",
        "colab_type": "code",
        "colab": {
          "base_uri": "https://localhost:8080/",
          "height": 70
        },
        "outputId": "5e38957b-cbf5-4518-be75-9401dad59fde"
      },
      "source": [
        "test_list = ['one', 'two', 'three'] \n",
        "for i in test_list:\n",
        "    print(i)"
      ],
      "execution_count": 1,
      "outputs": [
        {
          "output_type": "stream",
          "text": [
            "one\n",
            "two\n",
            "three\n"
          ],
          "name": "stdout"
        }
      ]
    },
    {
      "cell_type": "markdown",
      "metadata": {
        "id": "YaspzT5vS5Ol",
        "colab_type": "text"
      },
      "source": [
        "#### 2. 다양한 for문의 사용"
      ]
    },
    {
      "cell_type": "code",
      "metadata": {
        "id": "ro4JXLzzS2fW",
        "colab_type": "code",
        "colab": {
          "base_uri": "https://localhost:8080/",
          "height": 70
        },
        "outputId": "e7c0ba8b-27ab-46e0-d348-927116996f34"
      },
      "source": [
        "a = [(1,2), (3,4), (5,6)]\n",
        "\n",
        "for (first, last) in a:\n",
        "    print(first + last)"
      ],
      "execution_count": 2,
      "outputs": [
        {
          "output_type": "stream",
          "text": [
            "3\n",
            "7\n",
            "11\n"
          ],
          "name": "stdout"
        }
      ]
    },
    {
      "cell_type": "markdown",
      "metadata": {
        "id": "CQYc6G_8S_Nx",
        "colab_type": "text"
      },
      "source": [
        "#### 3. for문의 응용"
      ]
    },
    {
      "cell_type": "markdown",
      "metadata": {
        "id": "jAErrgfKTBsH",
        "colab_type": "text"
      },
      "source": [
        "\"총 5명의 학생이 시험을 보았는데 시험 점수가 60점이 넘으면 \n",
        "합격이고 그렇지 않으면 불합격이다. \n",
        "합격인지 불합격인지 결과를 보여 주시오.\""
      ]
    },
    {
      "cell_type": "markdown",
      "metadata": {
        "id": "bjYiXNMzTFMp",
        "colab_type": "text"
      },
      "source": [
        "### marks1.py"
      ]
    },
    {
      "cell_type": "code",
      "metadata": {
        "id": "tDhfTEN9S7Z2",
        "colab_type": "code",
        "colab": {
          "base_uri": "https://localhost:8080/",
          "height": 105
        },
        "outputId": "c4730025-8233-418c-af87-012111ff1ac7"
      },
      "source": [
        "marks = [90, 25, 67, 45, 80]\n",
        "\n",
        "number = 0 \n",
        "for mark in marks: \n",
        "    number = number +1 \n",
        "    if mark >= 60: \n",
        "        print(\"%d번 학생은 합격입니다.\" % number)\n",
        "    else: \n",
        "        print(\"%d번 학생은 불합격입니다.\" % number)"
      ],
      "execution_count": 3,
      "outputs": [
        {
          "output_type": "stream",
          "text": [
            "1번 학생은 합격입니다.\n",
            "2번 학생은 불합격입니다.\n",
            "3번 학생은 합격입니다.\n",
            "4번 학생은 불합격입니다.\n",
            "5번 학생은 합격입니다.\n"
          ],
          "name": "stdout"
        }
      ]
    },
    {
      "cell_type": "markdown",
      "metadata": {
        "id": "n0NhaoHbTTfe",
        "colab_type": "text"
      },
      "source": [
        "### for문과 continue"
      ]
    },
    {
      "cell_type": "markdown",
      "metadata": {
        "id": "BB0vz-lDTWQu",
        "colab_type": "text"
      },
      "source": [
        "for문 안의 문장을 수행하는 도중에 continue문을 만나면 for문의 처음으로 돌아가게 된다.앞에서 for문 응용 예제를 그대로 사용해서 60점 이상인 사람에게는 축하 메시지를 보내고 나머지 사람에게는 아무 메시지도 전하지 않는 프로그램을 작성."
      ]
    },
    {
      "cell_type": "markdown",
      "metadata": {
        "id": "586lfq2DTkvT",
        "colab_type": "text"
      },
      "source": [
        "### marks2.py "
      ]
    },
    {
      "cell_type": "code",
      "metadata": {
        "id": "C6BhCbFVTKge",
        "colab_type": "code",
        "colab": {
          "base_uri": "https://localhost:8080/",
          "height": 70
        },
        "outputId": "991e3067-5907-4fbb-ad81-00de802c21d3"
      },
      "source": [
        "marks = [90, 25, 67, 45, 80]\n",
        "\n",
        "number = 0 \n",
        "for mark in marks: \n",
        "    number = number +1 \n",
        "    if mark < 60:\n",
        "        continue \n",
        "    print(\"%d번 학생 축하합니다. 합격입니다. \" % number)"
      ],
      "execution_count": 4,
      "outputs": [
        {
          "output_type": "stream",
          "text": [
            "1번 학생 축하합니다. 합격입니다. \n",
            "3번 학생 축하합니다. 합격입니다. \n",
            "5번 학생 축하합니다. 합격입니다. \n"
          ],
          "name": "stdout"
        }
      ]
    },
    {
      "cell_type": "markdown",
      "metadata": {
        "id": "K-JMEEK1Trr-",
        "colab_type": "text"
      },
      "source": [
        "### for문과 함께 자주 사용하는 range 함수"
      ]
    },
    {
      "cell_type": "markdown",
      "metadata": {
        "id": "a9xm556eTufv",
        "colab_type": "text"
      },
      "source": [
        "range(number)\n",
        "range(시작 숫자, 끝 숫자)"
      ]
    },
    {
      "cell_type": "code",
      "metadata": {
        "id": "03kbGnwaToQJ",
        "colab_type": "code",
        "colab": {
          "base_uri": "https://localhost:8080/",
          "height": 34
        },
        "outputId": "14110b0e-442d-4ca8-b00b-459ebbc07f48"
      },
      "source": [
        "a = range(10)\n",
        "a\n",
        "list(a)"
      ],
      "execution_count": 6,
      "outputs": [
        {
          "output_type": "execute_result",
          "data": {
            "text/plain": [
              "[0, 1, 2, 3, 4, 5, 6, 7, 8, 9]"
            ]
          },
          "metadata": {
            "tags": []
          },
          "execution_count": 6
        }
      ]
    },
    {
      "cell_type": "code",
      "metadata": {
        "id": "RLg4HR8eT0CL",
        "colab_type": "code",
        "colab": {
          "base_uri": "https://localhost:8080/",
          "height": 34
        },
        "outputId": "49f18e17-1843-4bda-ebe3-b7743c67c226"
      },
      "source": [
        "\n",
        "\n",
        "a = range(1, 11)\n",
        "a"
      ],
      "execution_count": 5,
      "outputs": [
        {
          "output_type": "execute_result",
          "data": {
            "text/plain": [
              "range(1, 11)"
            ]
          },
          "metadata": {
            "tags": []
          },
          "execution_count": 5
        }
      ]
    },
    {
      "cell_type": "markdown",
      "metadata": {
        "id": "MWxV9fT-V__h",
        "colab_type": "text"
      },
      "source": [
        "### range 함수를 이용한 코드"
      ]
    },
    {
      "cell_type": "code",
      "metadata": {
        "id": "on8fO0NoT0OT",
        "colab_type": "code",
        "colab": {
          "base_uri": "https://localhost:8080/",
          "height": 34
        },
        "outputId": "d91615ca-6f02-4058-f8e6-b262ac832ccf"
      },
      "source": [
        "add = 0 \n",
        "for i in range(1, 11): \n",
        "    add = add + i\n",
        "\n",
        "print(add)"
      ],
      "execution_count": 7,
      "outputs": [
        {
          "output_type": "stream",
          "text": [
            "55\n"
          ],
          "name": "stdout"
        }
      ]
    },
    {
      "cell_type": "markdown",
      "metadata": {
        "id": "L08QTzBRWFI7",
        "colab_type": "text"
      },
      "source": [
        "### marks3.py"
      ]
    },
    {
      "cell_type": "code",
      "metadata": {
        "id": "POsYEt2WWDGH",
        "colab_type": "code",
        "colab": {
          "base_uri": "https://localhost:8080/",
          "height": 70
        },
        "outputId": "61b41335-3567-4c30-d85a-39eec0eeb8e3"
      },
      "source": [
        "marks = [90, 25, 67, 45, 80]\n",
        "for number in range(len(marks)):\n",
        "    if marks[number] < 60: \n",
        "        continue\n",
        "    print(\"%d번 학생 축하합니다. 합격입니다.\" % (number+1))"
      ],
      "execution_count": 8,
      "outputs": [
        {
          "output_type": "stream",
          "text": [
            "1번 학생 축하합니다. 합격입니다.\n",
            "3번 학생 축하합니다. 합격입니다.\n",
            "5번 학생 축하합니다. 합격입니다.\n"
          ],
          "name": "stdout"
        }
      ]
    },
    {
      "cell_type": "markdown",
      "metadata": {
        "id": "A8l0NjAtWKNt",
        "colab_type": "text"
      },
      "source": [
        "### for와 range를 이용한 구구단"
      ]
    },
    {
      "cell_type": "markdown",
      "metadata": {
        "id": "J-5YTdI7WM7l",
        "colab_type": "text"
      },
      "source": [
        "for와 range 함수를 사용하면 소스 코드 단 4줄만으로 구구단을 출력"
      ]
    },
    {
      "cell_type": "markdown",
      "metadata": {
        "id": "3VWJFI0FWQaG",
        "colab_type": "text"
      },
      "source": [
        "### 중첩 for 문"
      ]
    },
    {
      "cell_type": "code",
      "metadata": {
        "id": "BR_O6dW4WUgo",
        "colab_type": "code",
        "colab": {
          "base_uri": "https://localhost:8080/",
          "height": 158
        },
        "outputId": "2b9f74e8-9574-43d5-8b12-bf2c14428c59"
      },
      "source": [
        "for i in range(2,10):         # ①번 for문 (i-loop)\n",
        "     for j in range(1, 10):   # ②번 for문 (j-loop)\n",
        "         print(i*j, end=\" \") \n",
        "     print('')   # 줄 바꿈"
      ],
      "execution_count": 9,
      "outputs": [
        {
          "output_type": "stream",
          "text": [
            "2 4 6 8 10 12 14 16 18 \n",
            "3 6 9 12 15 18 21 24 27 \n",
            "4 8 12 16 20 24 28 32 36 \n",
            "5 10 15 20 25 30 35 40 45 \n",
            "6 12 18 24 30 36 42 48 54 \n",
            "7 14 21 28 35 42 49 56 63 \n",
            "8 16 24 32 40 48 56 64 72 \n",
            "9 18 27 36 45 54 63 72 81 \n"
          ],
          "name": "stdout"
        }
      ]
    },
    {
      "cell_type": "markdown",
      "metadata": {
        "id": "5pIOrSS2WTwv",
        "colab_type": "text"
      },
      "source": [
        "#### 아래와 같이 출력하도록 코들르 변경해보시오."
      ]
    },
    {
      "cell_type": "code",
      "metadata": {
        "id": "VAOG5yWnWxLq",
        "colab_type": "code",
        "colab": {}
      },
      "source": [
        "#############################################################\n",
        "# 2 X 1 = 2 2 X 2 = 4 2 X 3 = 6 2 X 4 = 8 2 X 5 = 10 2 X 6 = 12 2 X 7 = 14 2 X 8 = 16 2 X 9 = 18\n",
        "# 3 X 1 = 3 3 X 2 = 6 3 X 3 = 9 3 X 4 = 12 3 X 5 = 15 3 X 6 = 18 3 X 7 = 21 3 X 8 = 24 3 X 9 = 27\n",
        "# 4 X 1 = 4 4 X 2 = 8 4 X 3 = 12 4 X 4 = 16 4 X 5 = 20 4 X 6 = 24 4 X 7 = 28 4 X 8 = 32 4 X 9 = 36\n",
        "# 5 X 1 = 5 5 X 2 = 10 5 X 3 = 15 5 X 4 = 20 5 X 5 = 25 5 X 6 = 30 5 X 7 = 35 5 X 8 = 40 5 X 9 = 45\n",
        "# 6 X 1 = 6 6 X 2 = 12 6 X 3 = 18 6 X 4 = 24 6 X 5 = 30 6 X 6 = 36 6 X 7 = 42 6 X 8 = 48 6 X 9 = 54\n",
        "# 7 X 1 = 7 7 X 2 = 14 7 X 3 = 21 7 X 4 = 28 7 X 5 = 35 7 X 6 = 42 7 X 7 = 49 7 X 8 = 56 7 X 9 = 63\n",
        "# 8 X 1 = 8 8 X 2 = 16 8 X 3 = 24 8 X 4 = 32 8 X 5 = 40 8 X 6 = 48 8 X 7 = 56 8 X 8 = 64 8 X 9 = 72\n",
        "# 9 X 1 = 9 9 X 2 = 18 9 X 3 = 27 9 X 4 = 36 9 X 5 = 45 9 X 6 = 54 9 X 7 = 63 9 X 8 = 72 9 X 9 = 81\n",
        "#############################################################"
      ],
      "execution_count": 0,
      "outputs": []
    },
    {
      "cell_type": "code",
      "metadata": {
        "id": "6D4vgqUzW07b",
        "colab_type": "code",
        "colab": {
          "base_uri": "https://localhost:8080/",
          "height": 158
        },
        "outputId": "d2c5fead-1c15-4c91-e774-b61f5ca03d94"
      },
      "source": [
        "for i in range(2,10):        # ①번 for문\n",
        "     for j in range(1, 10):   # ②번 for문\n",
        "         print(i, \"X\", j, \"=\", i*j, end=\"  \") \n",
        "     print('') "
      ],
      "execution_count": 11,
      "outputs": [
        {
          "output_type": "stream",
          "text": [
            "2 X 1 = 2  2 X 2 = 4  2 X 3 = 6  2 X 4 = 8  2 X 5 = 10  2 X 6 = 12  2 X 7 = 14  2 X 8 = 16  2 X 9 = 18  \n",
            "3 X 1 = 3  3 X 2 = 6  3 X 3 = 9  3 X 4 = 12  3 X 5 = 15  3 X 6 = 18  3 X 7 = 21  3 X 8 = 24  3 X 9 = 27  \n",
            "4 X 1 = 4  4 X 2 = 8  4 X 3 = 12  4 X 4 = 16  4 X 5 = 20  4 X 6 = 24  4 X 7 = 28  4 X 8 = 32  4 X 9 = 36  \n",
            "5 X 1 = 5  5 X 2 = 10  5 X 3 = 15  5 X 4 = 20  5 X 5 = 25  5 X 6 = 30  5 X 7 = 35  5 X 8 = 40  5 X 9 = 45  \n",
            "6 X 1 = 6  6 X 2 = 12  6 X 3 = 18  6 X 4 = 24  6 X 5 = 30  6 X 6 = 36  6 X 7 = 42  6 X 8 = 48  6 X 9 = 54  \n",
            "7 X 1 = 7  7 X 2 = 14  7 X 3 = 21  7 X 4 = 28  7 X 5 = 35  7 X 6 = 42  7 X 7 = 49  7 X 8 = 56  7 X 9 = 63  \n",
            "8 X 1 = 8  8 X 2 = 16  8 X 3 = 24  8 X 4 = 32  8 X 5 = 40  8 X 6 = 48  8 X 7 = 56  8 X 8 = 64  8 X 9 = 72  \n",
            "9 X 1 = 9  9 X 2 = 18  9 X 3 = 27  9 X 4 = 36  9 X 5 = 45  9 X 6 = 54  9 X 7 = 63  9 X 8 = 72  9 X 9 = 81  \n"
          ],
          "name": "stdout"
        }
      ]
    },
    {
      "cell_type": "markdown",
      "metadata": {
        "id": "3vbv_448WgRs",
        "colab_type": "text"
      },
      "source": [
        "### 리스트 내포(List comprehension)"
      ]
    },
    {
      "cell_type": "code",
      "metadata": {
        "id": "Tl92LwlwWIAc",
        "colab_type": "code",
        "colab": {
          "base_uri": "https://localhost:8080/",
          "height": 87
        },
        "outputId": "e774b068-84fd-44b0-c19b-35902a4f77ab"
      },
      "source": [
        "a = [1,2,3,4]\n",
        "result = []\n",
        "for num in a:\n",
        "    result.append(num*3)\n",
        "    print(result)"
      ],
      "execution_count": 13,
      "outputs": [
        {
          "output_type": "stream",
          "text": [
            "[3]\n",
            "[3, 6]\n",
            "[3, 6, 9]\n",
            "[3, 6, 9, 12]\n"
          ],
          "name": "stdout"
        }
      ]
    },
    {
      "cell_type": "markdown",
      "metadata": {
        "id": "LrJdoTVFXAGv",
        "colab_type": "text"
      },
      "source": [
        "### 리스트 내포"
      ]
    },
    {
      "cell_type": "code",
      "metadata": {
        "id": "D6Bb6QzsXD7Y",
        "colab_type": "code",
        "colab": {
          "base_uri": "https://localhost:8080/",
          "height": 34
        },
        "outputId": "092ab87e-4c52-4a00-e141-91c858f3c8ec"
      },
      "source": [
        "a = [1,2,3,4]\n",
        "result = [num*3 for num in a]\n",
        "print(result)"
      ],
      "execution_count": 14,
      "outputs": [
        {
          "output_type": "stream",
          "text": [
            "[3, 6, 9, 12]\n"
          ],
          "name": "stdout"
        }
      ]
    },
    {
      "cell_type": "markdown",
      "metadata": {
        "id": "9YBKJar2XK4C",
        "colab_type": "text"
      },
      "source": [
        "### 리스트 내포의 일반 문법"
      ]
    },
    {
      "cell_type": "code",
      "metadata": {
        "id": "d4znWCp1W779",
        "colab_type": "code",
        "colab": {}
      },
      "source": [
        "# [표현식 for 항목 in 반복가능객체 if 조건문]\n",
        "# -----------------------------------------\n",
        "#\n",
        "# 일반화\n",
        "# [표현식 for 항목1 in 반복가능객체1 if 조건문1\n",
        "#         for 항목2 in 반복가능객체2 if 조건문2\n",
        "#         ...\n",
        "#         for 항목n in 반복가능객체n if 조건문n]\n",
        "##############################################"
      ],
      "execution_count": 0,
      "outputs": []
    },
    {
      "cell_type": "markdown",
      "metadata": {
        "id": "5_Yu7da1XRDU",
        "colab_type": "text"
      },
      "source": [
        "### 예1. 구구단의 모든 결과를 리스트에 담는 코드"
      ]
    },
    {
      "cell_type": "code",
      "metadata": {
        "id": "6_xaGAkZXPOJ",
        "colab_type": "code",
        "colab": {}
      },
      "source": [
        "result = [x*y for x in range(2,10) for y in range(1,10)]"
      ],
      "execution_count": 0,
      "outputs": []
    },
    {
      "cell_type": "markdown",
      "metadata": {
        "id": "9Xtmm7MaXYVv",
        "colab_type": "text"
      },
      "source": [
        "###  예2. 9 이하의 정수 중 짝수는 2배로, 홀수는 그대로 리스트에 담는 코드"
      ]
    },
    {
      "cell_type": "code",
      "metadata": {
        "id": "5RTCmLbjXTeN",
        "colab_type": "code",
        "colab": {
          "base_uri": "https://localhost:8080/",
          "height": 34
        },
        "outputId": "ffef5190-36c1-4458-c66e-45352e5772e9"
      },
      "source": [
        "x = [1, 2, 3, 4, 5, 6, 7, 8, 9]  # -> [1, 4, 3, 8, 5, 12, 7, 16, 9]\n",
        "result = []\n",
        "for idx in range(len(x)):\n",
        "    if x[idx] % 2 == 0:\n",
        "        result.append(x[idx] * 2)\n",
        "    else:\n",
        "        result.append(x[idx])\n",
        "result"
      ],
      "execution_count": 17,
      "outputs": [
        {
          "output_type": "execute_result",
          "data": {
            "text/plain": [
              "[1, 4, 3, 8, 5, 12, 7, 16, 9]"
            ]
          },
          "metadata": {
            "tags": []
          },
          "execution_count": 17
        }
      ]
    },
    {
      "cell_type": "markdown",
      "metadata": {
        "id": "uwUrUfqpXf0q",
        "colab_type": "text"
      },
      "source": [
        "### 짝수만 추출하여 2배로 만든 리스트 구성"
      ]
    },
    {
      "cell_type": "code",
      "metadata": {
        "id": "S7buwlUKXdpa",
        "colab_type": "code",
        "colab": {
          "base_uri": "https://localhost:8080/",
          "height": 34
        },
        "outputId": "724ba4db-07f7-4af3-95ee-12a9fd21590c"
      },
      "source": [
        "[element * 2 for element in x if element % 2 == 0]"
      ],
      "execution_count": 18,
      "outputs": [
        {
          "output_type": "execute_result",
          "data": {
            "text/plain": [
              "[4, 8, 12, 16]"
            ]
          },
          "metadata": {
            "tags": []
          },
          "execution_count": 18
        }
      ]
    },
    {
      "cell_type": "markdown",
      "metadata": {
        "id": "KwDTBnaeXj3z",
        "colab_type": "text"
      },
      "source": [
        "### 그러면 짝수는 2배로, 홀수는 그대로 리스트에 담는 코드는?"
      ]
    },
    {
      "cell_type": "code",
      "metadata": {
        "id": "H7AfOXjCXh_D",
        "colab_type": "code",
        "colab": {
          "base_uri": "https://localhost:8080/",
          "height": 34
        },
        "outputId": "6ead5c86-53d3-452f-8ae9-000222171be3"
      },
      "source": [
        "[(element * 2 if element % 2 == 0 else element) for element in x]"
      ],
      "execution_count": 19,
      "outputs": [
        {
          "output_type": "execute_result",
          "data": {
            "text/plain": [
              "[1, 4, 3, 8, 5, 12, 7, 16, 9]"
            ]
          },
          "metadata": {
            "tags": []
          },
          "execution_count": 19
        }
      ]
    },
    {
      "cell_type": "code",
      "metadata": {
        "id": "bnpYbIrMXmXl",
        "colab_type": "code",
        "colab": {}
      },
      "source": [
        ""
      ],
      "execution_count": 0,
      "outputs": []
    }
  ]
}