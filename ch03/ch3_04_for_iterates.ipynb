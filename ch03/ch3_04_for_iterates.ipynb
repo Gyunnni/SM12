{
  "nbformat": 4,
  "nbformat_minor": 0,
  "metadata": {
    "colab": {
      "name": "ch3_04_for_iterates.ipynb",
      "provenance": [],
      "include_colab_link": true
    },
    "kernelspec": {
      "name": "python3",
      "display_name": "Python 3"
    }
  },
  "cells": [
    {
      "cell_type": "markdown",
      "metadata": {
        "id": "view-in-github",
        "colab_type": "text"
      },
      "source": [
        "<a href=\"https://colab.research.google.com/github/Gyunnni/SM12/blob/master/ch03/ch3_04_for_iterates.ipynb\" target=\"_parent\"><img src=\"https://colab.research.google.com/assets/colab-badge.svg\" alt=\"Open In Colab\"/></a>"
      ]
    },
    {
      "cell_type": "markdown",
      "metadata": {
        "id": "7M1AZZTcX8fs",
        "colab_type": "text"
      },
      "source": [
        "## ch3_04_for_iterates.py"
      ]
    },
    {
      "cell_type": "markdown",
      "metadata": {
        "id": "8JaBJGJQYAHF",
        "colab_type": "text"
      },
      "source": [
        "### for 문과 itrator"
      ]
    },
    {
      "cell_type": "code",
      "metadata": {
        "id": "U1sUrCECYDrL",
        "colab_type": "code",
        "colab": {}
      },
      "source": [
        "subjects = ['python', 'english', 'math', 'science']\n",
        "scores = [88, 77, 66, 95]"
      ],
      "execution_count": 0,
      "outputs": []
    },
    {
      "cell_type": "markdown",
      "metadata": {
        "id": "R8pVqfTjYKcH",
        "colab_type": "text"
      },
      "source": [
        "### 과목명 출력"
      ]
    },
    {
      "cell_type": "code",
      "metadata": {
        "id": "WvaOzgL2YHaN",
        "colab_type": "code",
        "colab": {
          "base_uri": "https://localhost:8080/",
          "height": 87
        },
        "outputId": "fc2ceada-cbd7-4b81-c44d-f35e61d4338a"
      },
      "source": [
        "for subject in subjects:\n",
        "    print(subject)"
      ],
      "execution_count": 3,
      "outputs": [
        {
          "output_type": "stream",
          "text": [
            "python\n",
            "english\n",
            "math\n",
            "science\n"
          ],
          "name": "stdout"
        }
      ]
    },
    {
      "cell_type": "markdown",
      "metadata": {
        "id": "NgXDvCi3YPxp",
        "colab_type": "text"
      },
      "source": [
        "### 과목 점수 출력"
      ]
    },
    {
      "cell_type": "code",
      "metadata": {
        "id": "eNqCe6s2YMLk",
        "colab_type": "code",
        "colab": {
          "base_uri": "https://localhost:8080/",
          "height": 87
        },
        "outputId": "89e71dee-a7cc-4f32-893b-e1367acede91"
      },
      "source": [
        "for score in scores:\n",
        "    print(score)\n"
      ],
      "execution_count": 4,
      "outputs": [
        {
          "output_type": "stream",
          "text": [
            "88\n",
            "77\n",
            "66\n",
            "95\n"
          ],
          "name": "stdout"
        }
      ]
    },
    {
      "cell_type": "markdown",
      "metadata": {
        "id": "ZuqGZDg3YaYd",
        "colab_type": "text"
      },
      "source": [
        "### enumerate()를 이용한 출력"
      ]
    },
    {
      "cell_type": "code",
      "metadata": {
        "id": "1_8OekI-YR9g",
        "colab_type": "code",
        "colab": {
          "base_uri": "https://localhost:8080/",
          "height": 87
        },
        "outputId": "b883ddcd-5469-4489-e822-c575fde71175"
      },
      "source": [
        "for position, subject in enumerate(subjects):\n",
        "    print(position,subject)"
      ],
      "execution_count": 5,
      "outputs": [
        {
          "output_type": "stream",
          "text": [
            "0 python\n",
            "1 english\n",
            "2 math\n",
            "3 science\n"
          ],
          "name": "stdout"
        }
      ]
    },
    {
      "cell_type": "code",
      "metadata": {
        "id": "1MAzYdfnYcl0",
        "colab_type": "code",
        "colab": {
          "base_uri": "https://localhost:8080/",
          "height": 87
        },
        "outputId": "cec44507-dbab-418a-e657-19ef623cafd9"
      },
      "source": [
        "for position, subject in enumerate(subjects):\n",
        "    print(subjects[position])"
      ],
      "execution_count": 6,
      "outputs": [
        {
          "output_type": "stream",
          "text": [
            "python\n",
            "english\n",
            "math\n",
            "science\n"
          ],
          "name": "stdout"
        }
      ]
    },
    {
      "cell_type": "markdown",
      "metadata": {
        "id": "PgfZpHRIYilw",
        "colab_type": "text"
      },
      "source": [
        "### enumerate()를 이용하여 점수를 출력해보시오."
      ]
    },
    {
      "cell_type": "markdown",
      "metadata": {
        "id": "_X6z6REwYnB6",
        "colab_type": "text"
      },
      "source": [
        "### for 문과 itrator의 응용: 복합 문자열 리스트"
      ]
    },
    {
      "cell_type": "code",
      "metadata": {
        "id": "-klb0vIoYmL-",
        "colab_type": "code",
        "colab": {}
      },
      "source": [
        "subjects = ['python', 'english', 'math', 'science']\n",
        "scores = [88, 77, 66, 95]"
      ],
      "execution_count": 0,
      "outputs": []
    },
    {
      "cell_type": "markdown",
      "metadata": {
        "id": "if5bdvWTYl2S",
        "colab_type": "text"
      },
      "source": [
        "### Method-1"
      ]
    },
    {
      "cell_type": "code",
      "metadata": {
        "id": "_Oi_CMzKYeSh",
        "colab_type": "code",
        "colab": {
          "base_uri": "https://localhost:8080/",
          "height": 87
        },
        "outputId": "6818c92f-8ffa-41b9-f9d6-bbc2f9428785"
      },
      "source": [
        "for position in range(len(subjects)):\n",
        "    subject = subjects[position]\n",
        "    score = scores[position]\n",
        "    print(subject, score)"
      ],
      "execution_count": 8,
      "outputs": [
        {
          "output_type": "stream",
          "text": [
            "python 88\n",
            "english 77\n",
            "math 66\n",
            "science 95\n"
          ],
          "name": "stdout"
        }
      ]
    },
    {
      "cell_type": "markdown",
      "metadata": {
        "id": "dL9lvJ4UYu68",
        "colab_type": "text"
      },
      "source": [
        "###  Method-2"
      ]
    },
    {
      "cell_type": "code",
      "metadata": {
        "id": "IdB9mLYFYtlS",
        "colab_type": "code",
        "colab": {
          "base_uri": "https://localhost:8080/",
          "height": 87
        },
        "outputId": "45cef2c2-0dd7-44f5-ccfd-dc828e24ccef"
      },
      "source": [
        "for position, subject in enumerate(subjects):\n",
        "    score = scores[position]\n",
        "    print(subject, score)"
      ],
      "execution_count": 9,
      "outputs": [
        {
          "output_type": "stream",
          "text": [
            "python 88\n",
            "english 77\n",
            "math 66\n",
            "science 95\n"
          ],
          "name": "stdout"
        }
      ]
    },
    {
      "cell_type": "markdown",
      "metadata": {
        "id": "nj7Z3udoYynF",
        "colab_type": "text"
      },
      "source": [
        "### Method-3"
      ]
    },
    {
      "cell_type": "code",
      "metadata": {
        "id": "vfeFzHkcYyXB",
        "colab_type": "code",
        "colab": {
          "base_uri": "https://localhost:8080/",
          "height": 87
        },
        "outputId": "7be8fb72-dfda-4606-8402-a314495a610a"
      },
      "source": [
        "for subject, score in zip(subjects, scores):\n",
        "    print(subject, score)"
      ],
      "execution_count": 10,
      "outputs": [
        {
          "output_type": "stream",
          "text": [
            "python 88\n",
            "english 77\n",
            "math 66\n",
            "science 95\n"
          ],
          "name": "stdout"
        }
      ]
    },
    {
      "cell_type": "markdown",
      "metadata": {
        "id": "qE9v-mJpY2fo",
        "colab_type": "text"
      },
      "source": [
        "### 응용 코드 : 평균 성적을 구하시오."
      ]
    },
    {
      "cell_type": "code",
      "metadata": {
        "id": "dQjTgDPmYwuq",
        "colab_type": "code",
        "colab": {
          "base_uri": "https://localhost:8080/",
          "height": 105
        },
        "outputId": "014c59ed-8259-44fe-dbae-80648b9884c1"
      },
      "source": [
        "subjects = ['python', 'english', 'math', 'science']\n",
        "scores = [88, 77, 66, 95]\n",
        "\n",
        "average = 0\n",
        "total = 0\n",
        "for subject, score in zip(subjects, scores):\n",
        "    total += score\n",
        "    print(subject, score)\n",
        "\n",
        "print(\"평균 점수 = {0}\".format(total/len(subjects)))"
      ],
      "execution_count": 11,
      "outputs": [
        {
          "output_type": "stream",
          "text": [
            "python 88\n",
            "english 77\n",
            "math 66\n",
            "science 95\n",
            "평균 점수 = 81.5\n"
          ],
          "name": "stdout"
        }
      ]
    },
    {
      "cell_type": "code",
      "metadata": {
        "id": "TNZXD8aWY5U4",
        "colab_type": "code",
        "colab": {}
      },
      "source": [
        ""
      ],
      "execution_count": 0,
      "outputs": []
    }
  ]
}