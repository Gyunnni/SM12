{
  "nbformat": 4,
  "nbformat_minor": 0,
  "metadata": {
    "colab": {
      "name": "ch2_06_tuple.ipynb",
      "provenance": [],
      "include_colab_link": true
    },
    "kernelspec": {
      "name": "python3",
      "display_name": "Python 3"
    }
  },
  "cells": [
    {
      "cell_type": "markdown",
      "metadata": {
        "id": "view-in-github",
        "colab_type": "text"
      },
      "source": [
        "<a href=\"https://colab.research.google.com/github/Gyunnni/SM12/blob/master/ch2_06_tuple.ipynb\" target=\"_parent\"><img src=\"https://colab.research.google.com/assets/colab-badge.svg\" alt=\"Open In Colab\"/></a>"
      ]
    },
    {
      "cell_type": "markdown",
      "metadata": {
        "id": "8VnDolt8cQLw",
        "colab_type": "text"
      },
      "source": [
        "# ch2_06_tuple.py"
      ]
    },
    {
      "cell_type": "markdown",
      "metadata": {
        "id": "5Kcl8B0VcU5-",
        "colab_type": "text"
      },
      "source": [
        "##튜플: tuple 이란\n",
        "### 리스트는 [ ]으로 둘러싸지만 튜플은 ( )으로 둘러싼다.\n",
        "### 리스트는 그 값의 생성, 삭제, 수정이 가능하지만 튜플은 그 값을 바꿀 수 없다."
      ]
    },
    {
      "cell_type": "code",
      "metadata": {
        "id": "AKf0UpqNcMlO",
        "colab_type": "code",
        "colab": {
          "base_uri": "https://localhost:8080/",
          "height": 105
        },
        "outputId": "43360311-5f61-4d33-9627-a853392786c9"
      },
      "source": [
        "even = (2, 4, 6, 8)\n",
        "# 여러 가지 튜플\n",
        "t1 = ()  # 튜플 초기화\n",
        "print(t1)\n",
        "t2 = (1,)\n",
        "print(t2)\n",
        "t3 = (1, 2, 3)\n",
        "print(t3)\n",
        "t4 = 1, 2, 3\n",
        "print(t4)\n",
        "t5 = (\"a\", \"b\", (\"ab\", \"cd\"))\n",
        "print(t5)\n",
        "# t2 = (1,)처럼 단지 1개의 요소만을 가질 때는 요소 뒤에\n",
        "# 콤마(,)를 반드시 붙여야 한다는 것과\n",
        "# t4 = 1, 2, 3처럼 괄호( )를 생략해도 무방하다.\n",
        "#####################################################\n",
        "#"
      ],
      "execution_count": 4,
      "outputs": [
        {
          "output_type": "stream",
          "text": [
            "()\n",
            "(1,)\n",
            "(1, 2, 3)\n",
            "(1, 2, 3)\n",
            "('a', 'b', ('ab', 'cd'))\n"
          ],
          "name": "stdout"
        }
      ]
    },
    {
      "cell_type": "markdown",
      "metadata": {
        "id": "4n_w59m4d1sy",
        "colab_type": "text"
      },
      "source": [
        "\n",
        "## 튜플의 요소값을 지우거나 변경하려고 하면 어떻게 될까?\n",
        "### 1. 튜플 요솟값을 삭제하려 할 때"
      ]
    },
    {
      "cell_type": "code",
      "metadata": {
        "id": "nWmNvpNWd0BH",
        "colab_type": "code",
        "colab": {
          "base_uri": "https://localhost:8080/",
          "height": 34
        },
        "outputId": "a9d12097-d346-4884-f02b-574c3519921d"
      },
      "source": [
        "t1 = (1, 2, \"a\", \"b\")\n",
        "print(t1)\n",
        "#del t1[0]  # del은 불변이므로 Error 발생"
      ],
      "execution_count": 9,
      "outputs": [
        {
          "output_type": "stream",
          "text": [
            "(1, 2, 'a', 'b')\n"
          ],
          "name": "stdout"
        }
      ]
    },
    {
      "cell_type": "markdown",
      "metadata": {
        "id": "QsXrUevWeFBb",
        "colab_type": "text"
      },
      "source": [
        "### 2. 튜플 요솟값을 변경하려 할 때"
      ]
    },
    {
      "cell_type": "code",
      "metadata": {
        "id": "nNWVYw0AeEQ6",
        "colab_type": "code",
        "colab": {
          "base_uri": "https://localhost:8080/",
          "height": 170
        },
        "outputId": "578acd50-7d2a-4fb9-ce3c-d3e5b1bdfcdb"
      },
      "source": [
        "t1[0] = \"c\"  # TypeError"
      ],
      "execution_count": 10,
      "outputs": [
        {
          "output_type": "error",
          "ename": "TypeError",
          "evalue": "ignored",
          "traceback": [
            "\u001b[0;31m---------------------------------------------------------------------------\u001b[0m",
            "\u001b[0;31mTypeError\u001b[0m                                 Traceback (most recent call last)",
            "\u001b[0;32m<ipython-input-10-0bbd751d0308>\u001b[0m in \u001b[0;36m<module>\u001b[0;34m()\u001b[0m\n\u001b[0;32m----> 1\u001b[0;31m \u001b[0mt1\u001b[0m\u001b[0;34m[\u001b[0m\u001b[0;36m0\u001b[0m\u001b[0;34m]\u001b[0m \u001b[0;34m=\u001b[0m \u001b[0;34m\"c\"\u001b[0m  \u001b[0;31m# TypeError\u001b[0m\u001b[0;34m\u001b[0m\u001b[0;34m\u001b[0m\u001b[0m\n\u001b[0m",
            "\u001b[0;31mTypeError\u001b[0m: 'tuple' object does not support item assignment"
          ]
        }
      ]
    },
    {
      "cell_type": "markdown",
      "metadata": {
        "id": "imN1y_I4egqZ",
        "colab_type": "text"
      },
      "source": [
        "##튜플: 사용방법"
      ]
    },
    {
      "cell_type": "markdown",
      "metadata": {
        "id": "B_hsIBSAex0H",
        "colab_type": "text"
      },
      "source": [
        "### 인덱싱하기"
      ]
    },
    {
      "cell_type": "code",
      "metadata": {
        "id": "gdSWLmLwewZ2",
        "colab_type": "code",
        "colab": {
          "base_uri": "https://localhost:8080/",
          "height": 52
        },
        "outputId": "9168e437-ce46-4158-8bc6-dfaca75696df"
      },
      "source": [
        "t1 = (1, 2, \"a\", \"b\")\n",
        "print(t1[0])\n",
        "print(t1[3])"
      ],
      "execution_count": 11,
      "outputs": [
        {
          "output_type": "stream",
          "text": [
            "1\n",
            "b\n"
          ],
          "name": "stdout"
        }
      ]
    },
    {
      "cell_type": "markdown",
      "metadata": {
        "id": "0FEyDO1ufA2k",
        "colab_type": "text"
      },
      "source": [
        "### 슬라이싱하기"
      ]
    },
    {
      "cell_type": "code",
      "metadata": {
        "id": "ZyQoBzITe6nj",
        "colab_type": "code",
        "colab": {
          "base_uri": "https://localhost:8080/",
          "height": 70
        },
        "outputId": "f5165efa-e2b8-4df1-ab95-2f8dd1a7a7de"
      },
      "source": [
        "t1 = (1, 2, \"a\", \"b\")\n",
        "print(t1[1:])\n",
        "print(t1[2:-1])  # ('a',)\n",
        "print(t1[2:])"
      ],
      "execution_count": 12,
      "outputs": [
        {
          "output_type": "stream",
          "text": [
            "(2, 'a', 'b')\n",
            "('a',)\n",
            "('a', 'b')\n"
          ],
          "name": "stdout"
        }
      ]
    },
    {
      "cell_type": "markdown",
      "metadata": {
        "id": "3VSSmlEOfNv3",
        "colab_type": "text"
      },
      "source": [
        "### 튜플 더하기"
      ]
    },
    {
      "cell_type": "code",
      "metadata": {
        "id": "6YrSscksfLWX",
        "colab_type": "code",
        "colab": {
          "base_uri": "https://localhost:8080/",
          "height": 34
        },
        "outputId": "ff953c72-8c5b-4cac-c7c2-cce10e9ae1e2"
      },
      "source": [
        "t1 = (1, 2, \"a\", \"b\")\n",
        "t2 = (3, 4)\n",
        "print(t1 + t2)"
      ],
      "execution_count": 13,
      "outputs": [
        {
          "output_type": "stream",
          "text": [
            "(1, 2, 'a', 'b', 3, 4)\n"
          ],
          "name": "stdout"
        }
      ]
    },
    {
      "cell_type": "markdown",
      "metadata": {
        "id": "iino46AQfZH_",
        "colab_type": "text"
      },
      "source": [
        "### 튜플 곱하기"
      ]
    },
    {
      "cell_type": "code",
      "metadata": {
        "id": "NVKtRQmGfStP",
        "colab_type": "code",
        "colab": {
          "base_uri": "https://localhost:8080/",
          "height": 52
        },
        "outputId": "1b793b7c-d2ed-476c-c964-f482b7d3de61"
      },
      "source": [
        "t2 = (3, 4)\n",
        "id(t2)\n",
        "print(t2 * 3)\n",
        "id(t2)\n",
        "#print(t2 = t2 * 3) -->t2 = t2 * 3\n",
        "id(t2)\n",
        "#"
      ],
      "execution_count": 19,
      "outputs": [
        {
          "output_type": "stream",
          "text": [
            "(3, 4, 3, 4, 3, 4)\n"
          ],
          "name": "stdout"
        },
        {
          "output_type": "execute_result",
          "data": {
            "text/plain": [
              "139871115043656"
            ]
          },
          "metadata": {
            "tags": []
          },
          "execution_count": 19
        }
      ]
    },
    {
      "cell_type": "markdown",
      "metadata": {
        "id": "Hlrlm4BsgMmF",
        "colab_type": "text"
      },
      "source": [
        "### 튜플 길이 구하기"
      ]
    },
    {
      "cell_type": "code",
      "metadata": {
        "id": "zhlZbPOFfhTN",
        "colab_type": "code",
        "colab": {
          "base_uri": "https://localhost:8080/",
          "height": 52
        },
        "outputId": "6d53864d-621c-4738-b782-e93901848706"
      },
      "source": [
        "t1 = (1, 2, \"a\", \"b\")\n",
        "print(len(t1))\n",
        "#\n",
        "#\n",
        "\"\"\"\n",
        "Author: redwoods\n",
        "파이썬 코드: ch2_06_tuple.py\n",
        "\"\"\"\n"
      ],
      "execution_count": 20,
      "outputs": [
        {
          "output_type": "stream",
          "text": [
            "4\n"
          ],
          "name": "stdout"
        },
        {
          "output_type": "execute_result",
          "data": {
            "text/plain": [
              "'\\nAuthor: redwoods\\n파이썬 코드: ch2_06_tuple.py\\n'"
            ]
          },
          "metadata": {
            "tags": []
          },
          "execution_count": 20
        }
      ]
    },
    {
      "cell_type": "code",
      "metadata": {
        "id": "26IlmqM1gRYc",
        "colab_type": "code",
        "colab": {}
      },
      "source": [
        ""
      ],
      "execution_count": 0,
      "outputs": []
    }
  ]
}