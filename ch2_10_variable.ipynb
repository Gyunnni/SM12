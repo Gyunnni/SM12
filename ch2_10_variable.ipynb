{
  "nbformat": 4,
  "nbformat_minor": 0,
  "metadata": {
    "colab": {
      "name": "ch2_10_variable.ipynb",
      "provenance": [],
      "collapsed_sections": [],
      "include_colab_link": true
    },
    "kernelspec": {
      "name": "python3",
      "display_name": "Python 3"
    }
  },
  "cells": [
    {
      "cell_type": "markdown",
      "metadata": {
        "id": "view-in-github",
        "colab_type": "text"
      },
      "source": [
        "<a href=\"https://colab.research.google.com/github/Gyunnni/SM12/blob/master/ch2_10_variable.ipynb\" target=\"_parent\"><img src=\"https://colab.research.google.com/assets/colab-badge.svg\" alt=\"Open In Colab\"/></a>"
      ]
    },
    {
      "cell_type": "markdown",
      "metadata": {
        "id": "iDGhvShAt3oC",
        "colab_type": "text"
      },
      "source": [
        "# ch2_10_variable.py"
      ]
    },
    {
      "cell_type": "markdown",
      "metadata": {
        "id": "YzmjY-N3t6_r",
        "colab_type": "text"
      },
      "source": [
        "\n",
        "\n",
        "## 변수: 변수란?\n",
        "\n",
        "### 변수는 자료(값)을 저장하는 공간이다.\n"
      ]
    },
    {
      "cell_type": "code",
      "metadata": {
        "id": "z1fQOvTotrAw",
        "colab_type": "code",
        "colab": {
          "base_uri": "https://localhost:8080/",
          "height": 35
        },
        "outputId": "2586b280-29db-4c94-b513-a0261cc06f14"
      },
      "source": [
        "\n",
        "a = [1, 2, 3]\n",
        "id(a)  # a 변수가 가리키는 메모리의 주소"
      ],
      "execution_count": 1,
      "outputs": [
        {
          "output_type": "execute_result",
          "data": {
            "text/plain": [
              "140125182659848"
            ]
          },
          "metadata": {
            "tags": []
          },
          "execution_count": 1
        }
      ]
    },
    {
      "cell_type": "markdown",
      "metadata": {
        "id": "fR7tvaoPuHFX",
        "colab_type": "text"
      },
      "source": [
        "\n",
        "### list"
      ]
    },
    {
      "cell_type": "code",
      "metadata": {
        "id": "bjJZVkzquGIC",
        "colab_type": "code",
        "colab": {
          "base_uri": "https://localhost:8080/",
          "height": 89
        },
        "outputId": "30ac8f6f-1c5c-4170-da43-61085ccde48b"
      },
      "source": [
        "a = [1, 2, 3]\n",
        "print(id(a))\n",
        "b = a\n",
        "id(a), id(b)\n",
        "print(a is b)\n",
        "a[1] = 4\n",
        "a, b\n",
        "print(a is b)\n",
        "b = [1, 2, 3]\n",
        "id(b)\n",
        "print(a is b)"
      ],
      "execution_count": 2,
      "outputs": [
        {
          "output_type": "stream",
          "text": [
            "140125183165256\n",
            "True\n",
            "True\n",
            "False\n"
          ],
          "name": "stdout"
        }
      ]
    },
    {
      "cell_type": "markdown",
      "metadata": {
        "id": "VMWGaSeSuomz",
        "colab_type": "text"
      },
      "source": [
        "\n",
        "### b 변수를 생성할 때 a 변수의 값을 가져오면서\n",
        "### a와는 다른 주소를 가리키도록 만들수는 없을까?\n",
        "## 다음 2가지 방법이 있다.\n"
      ]
    },
    {
      "cell_type": "markdown",
      "metadata": {
        "id": "ldW3m_3lutLr",
        "colab_type": "text"
      },
      "source": [
        "\n",
        "\n",
        "## 1. [:] 이용\n"
      ]
    },
    {
      "cell_type": "code",
      "metadata": {
        "id": "OE5r_mUStvUd",
        "colab_type": "code",
        "colab": {
          "base_uri": "https://localhost:8080/",
          "height": 35
        },
        "outputId": "291ecdda-f6cc-4706-fd05-87bf1bc6dae6"
      },
      "source": [
        "\n",
        "a = [1, 2, 3]\n",
        "b = a[:]\n",
        "a[1] = 4\n",
        "a, b"
      ],
      "execution_count": 4,
      "outputs": [
        {
          "output_type": "execute_result",
          "data": {
            "text/plain": [
              "([1, 4, 3], [1, 2, 3])"
            ]
          },
          "metadata": {
            "tags": []
          },
          "execution_count": 4
        }
      ]
    },
    {
      "cell_type": "markdown",
      "metadata": {
        "id": "zXL-oOvIu0Su",
        "colab_type": "text"
      },
      "source": [
        "\n",
        "## 2. copy 모듈 이용\n"
      ]
    },
    {
      "cell_type": "code",
      "metadata": {
        "id": "jv20k9nktwhq",
        "colab_type": "code",
        "colab": {
          "base_uri": "https://localhost:8080/",
          "height": 35
        },
        "outputId": "706569a6-19d0-4512-9b22-ec04b4fda5cb"
      },
      "source": [
        "\n",
        "a = [1, 2, 3]\n",
        "# from copy import copy\n",
        "# b = copy(a) error!\n",
        "\n",
        "b is a, a is b\n"
      ],
      "execution_count": 5,
      "outputs": [
        {
          "output_type": "execute_result",
          "data": {
            "text/plain": [
              "(False, False)"
            ]
          },
          "metadata": {
            "tags": []
          },
          "execution_count": 5
        }
      ]
    },
    {
      "cell_type": "markdown",
      "metadata": {
        "id": "SYgVUYmIu8yR",
        "colab_type": "text"
      },
      "source": [
        "\n",
        "\n",
        "## 변수를 만드는 여러 가지 방법\n"
      ]
    },
    {
      "cell_type": "code",
      "metadata": {
        "id": "6Q0Y_sFPtx-D",
        "colab_type": "code",
        "colab": {
          "base_uri": "https://localhost:8080/",
          "height": 143
        },
        "outputId": "0c476a90-6a90-4924-aa5b-d117086c037f"
      },
      "source": [
        "\n",
        "a, b = (\"python\", \"life\")\n",
        "print(a)\n",
        "print(b)\n",
        "print(a, b)\n",
        "\n",
        "[a, b] = [\"python\", \"life\"]\n",
        "print(a)\n",
        "print(b)\n",
        "\n",
        "a = 3\n",
        "b = 5\n",
        "a, b = b, a\n",
        "print(a)\n",
        "(b)\n"
      ],
      "execution_count": 6,
      "outputs": [
        {
          "output_type": "stream",
          "text": [
            "python\n",
            "life\n",
            "python life\n",
            "python\n",
            "life\n",
            "5\n"
          ],
          "name": "stdout"
        },
        {
          "output_type": "execute_result",
          "data": {
            "text/plain": [
              "3"
            ]
          },
          "metadata": {
            "tags": []
          },
          "execution_count": 6
        }
      ]
    },
    {
      "cell_type": "markdown",
      "metadata": {
        "id": "flscU6NutzjA",
        "colab_type": "text"
      },
      "source": [
        "\n",
        "\"\"\"\n",
        "Author: redwoods\n",
        "파이썬 코드: ch2_10_variable.py\n",
        "\"\"\"\n"
      ]
    }
  ]
}