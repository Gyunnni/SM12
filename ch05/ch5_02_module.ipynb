{
  "nbformat": 4,
  "nbformat_minor": 0,
  "metadata": {
    "colab": {
      "name": "ch5_02_module.ipynb",
      "provenance": [],
      "include_colab_link": true
    },
    "kernelspec": {
      "name": "python3",
      "display_name": "Python 3"
    }
  },
  "cells": [
    {
      "cell_type": "markdown",
      "metadata": {
        "id": "view-in-github",
        "colab_type": "text"
      },
      "source": [
        "<a href=\"https://colab.research.google.com/github/Gyunnni/SM12/blob/master/ch05/ch5_02_module.ipynb\" target=\"_parent\"><img src=\"https://colab.research.google.com/assets/colab-badge.svg\" alt=\"Open In Colab\"/></a>"
      ]
    },
    {
      "cell_type": "markdown",
      "metadata": {
        "id": "A72zlTraVbfS",
        "colab_type": "text"
      },
      "source": [
        "## ch5_02_module.py"
      ]
    },
    {
      "cell_type": "markdown",
      "metadata": {
        "id": "ro8dc2FCVVma",
        "colab_type": "text"
      },
      "source": [
        "### 모듈이란 무엇인가?\n",
        "모듈이란 함수나 변수 또는 클래스를 모아 놓은 파이썬 파일"
      ]
    },
    {
      "cell_type": "markdown",
      "metadata": {
        "id": "zrry2__eVY5J",
        "colab_type": "text"
      },
      "source": [
        "### 모듈 만들기\n",
        "간단한 모듈을 한번 만들어 보자."
      ]
    },
    {
      "cell_type": "markdown",
      "metadata": {
        "id": "sh4jFxyKVhp0",
        "colab_type": "text"
      },
      "source": [
        "### mod1.py를 현재 폴더에 저장"
      ]
    },
    {
      "cell_type": "code",
      "metadata": {
        "id": "M8kl1ZIZVjbx",
        "colab_type": "code",
        "colab": {}
      },
      "source": [
        "'''\n",
        "# mod1.py\n",
        "def add(a, b):\n",
        "    return a + b\n",
        "\n",
        "def sub(a, b): \n",
        "    return a-b\n",
        "'''\n",
        " \n",
        "# 파이썬 확장자 .py로 만든 파이썬 파일은 모두 모듈이다."
      ],
      "execution_count": 0,
      "outputs": []
    },
    {
      "cell_type": "markdown",
      "metadata": {
        "id": "OnyvNpS6Vpz3",
        "colab_type": "text"
      },
      "source": [
        "### 모듈 불러오기\n",
        "- import 모듈명\n",
        "  \n",
        "  import는 이미 만들어 놓은 파이썬 모듈을 사용할 수 있게  \n",
        "  해주는 명령어"
      ]
    },
    {
      "cell_type": "markdown",
      "metadata": {
        "id": "FejEd1kmV0Py",
        "colab_type": "text"
      },
      "source": [
        "###  현재 폴더에 있는 모듈, mod1.py를 연결하기"
      ]
    },
    {
      "cell_type": "code",
      "metadata": {
        "id": "d5-R-hIUV2TM",
        "colab_type": "code",
        "colab": {}
      },
      "source": [
        "import mod1\n",
        "print(mod1.add(3, 4))\n",
        "\n",
        "print(mod1.sub(7, 2))"
      ],
      "execution_count": 0,
      "outputs": []
    },
    {
      "cell_type": "markdown",
      "metadata": {
        "id": "8Ab3t37cV39z",
        "colab_type": "text"
      },
      "source": [
        "### 모듈 내부 함수 이용\n",
        "- from 모듈이름 import 모듈함수"
      ]
    },
    {
      "cell_type": "code",
      "metadata": {
        "id": "wRF9DFAUV70V",
        "colab_type": "code",
        "colab": {}
      },
      "source": [
        "from mod1 import add\n",
        "add(3, 4)"
      ],
      "execution_count": 0,
      "outputs": []
    },
    {
      "cell_type": "markdown",
      "metadata": {
        "id": "7DtjCV7-V9JV",
        "colab_type": "text"
      },
      "source": [
        "from 모듈이름 import *\n",
        "\n",
        "from mod1 import add, sub"
      ]
    },
    {
      "cell_type": "code",
      "metadata": {
        "id": "VwoSNxwjWEbo",
        "colab_type": "code",
        "colab": {}
      },
      "source": [
        "from mod1 import *\n",
        "\n",
        "add(3, 4)\n",
        "sub(7, 3)"
      ],
      "execution_count": 0,
      "outputs": []
    },
    {
      "cell_type": "markdown",
      "metadata": {
        "id": "hheSE_pHWGfg",
        "colab_type": "text"
      },
      "source": [
        "### if __name__ == \"__main__\": 의 의미"
      ]
    },
    {
      "cell_type": "markdown",
      "metadata": {
        "id": "lXuBvZ5xWJXp",
        "colab_type": "text"
      },
      "source": [
        "- import 모듈명\n",
        "  import는 이미 만들어 놓은 \n",
        "  파이썬 모듈을 사용할 수 있게 해주는 명령어"
      ]
    },
    {
      "cell_type": "markdown",
      "metadata": {
        "id": "gna3mAkFWSNE",
        "colab_type": "text"
      },
      "source": [
        "### mod1.py 파일을 다음과 같이 변경해 보자."
      ]
    },
    {
      "cell_type": "code",
      "metadata": {
        "id": "GlHP1enIWUo1",
        "colab_type": "code",
        "colab": {}
      },
      "source": [
        "'''\n",
        "# mod1.py \n",
        "def add(a, b): \n",
        "    return a+b\n",
        "\n",
        "def sub(a, b): \n",
        "    return a-b\n",
        "\n",
        "print(add(1, 4))\n",
        "print(sub(4, 2))\n",
        "'''"
      ],
      "execution_count": 0,
      "outputs": []
    },
    {
      "cell_type": "markdown",
      "metadata": {
        "id": "7wJw7i-SWXrO",
        "colab_type": "text"
      },
      "source": [
        "### cmd에서 실행하시오.\n",
        "python mod1.py"
      ]
    },
    {
      "cell_type": "code",
      "metadata": {
        "id": "q_hYBMnAWa4v",
        "colab_type": "code",
        "colab": {}
      },
      "source": [
        "'''\n",
        "python mod1.py\n",
        "5\n",
        "2\n",
        "'''"
      ],
      "execution_count": 0,
      "outputs": []
    },
    {
      "cell_type": "code",
      "metadata": {
        "id": "QWNGEZdKWcDA",
        "colab_type": "code",
        "colab": {}
      },
      "source": [
        "import mod1\n",
        "# 5\n",
        "# 2\n",
        "print(__name__)"
      ],
      "execution_count": 0,
      "outputs": []
    },
    {
      "cell_type": "code",
      "metadata": {
        "id": "4qaiftm-WeXJ",
        "colab_type": "code",
        "colab": {}
      },
      "source": [
        "'''\n",
        "# mod2.py \n",
        "def add(a, b): \n",
        "    return a+b\n",
        "\n",
        "def sub(a, b): \n",
        "    return a-b\n",
        "\n",
        "if __name__ == \"__main__\":\n",
        "    print(add(1, 4))\n",
        "    print(sub(4, 2))\n",
        "'''"
      ],
      "execution_count": 0,
      "outputs": []
    },
    {
      "cell_type": "code",
      "metadata": {
        "id": "V9MUsU0PWiBr",
        "colab_type": "code",
        "colab": {}
      },
      "source": [
        "import mod2\n",
        "print(__name__)\n",
        "#if __name__ == \"__main__\"을 사용하면 C:\\doit>python mod1.py처럼 \n",
        "#직접 이 파일을 실행했을 때는 __name__ == \"__main__\"이 참이 되어 \n",
        "# if문 다음 문장이 수행된다. \n",
        "# 반대로 대화형 인터프리터나 다른 파일에서 이 모듈을 불러서 사용할 때는 \n",
        "# __name__ == \"__main__\"이 거짓이 되어 if문 다음 문장이 수행되지 않는다.\n",
        "#"
      ],
      "execution_count": 0,
      "outputs": []
    },
    {
      "cell_type": "markdown",
      "metadata": {
        "id": "a_MtW8PZWnXE",
        "colab_type": "text"
      },
      "source": [
        "### 클래스나 변수 등을 포함한 모듈\n",
        "클래스나 변수 등을 포함하는 모듈"
      ]
    },
    {
      "cell_type": "code",
      "metadata": {
        "id": "CZcKdNhVWrrF",
        "colab_type": "code",
        "colab": {}
      },
      "source": [
        "'''\n",
        "# mod3.py \n",
        "PI = 3.141592\n",
        "\n",
        "class Math: \n",
        "    def solv(self, r): \n",
        "        return PI * (r ** 2) \n",
        "\n",
        "def add(a, b): \n",
        "    return a+b \n",
        "'''"
      ],
      "execution_count": 0,
      "outputs": []
    },
    {
      "cell_type": "code",
      "metadata": {
        "id": "eEgQESY4Wtqu",
        "colab_type": "code",
        "colab": {}
      },
      "source": [
        "import mod3\n",
        "\n",
        "print(mod3.PI)\n",
        "\n",
        "a = mod3.Math()\n",
        "print(a.solv(2))\n",
        "\n",
        "print(mod3.add(mod3.PI, 4.4))"
      ],
      "execution_count": 0,
      "outputs": []
    },
    {
      "cell_type": "markdown",
      "metadata": {
        "id": "XGpEdv57Wu7e",
        "colab_type": "text"
      },
      "source": [
        "### 다른 파일에서 모듈 불러오기\n",
        "다른 파이썬 파일에서 이전에 만들어 놓은 \n",
        "모듈을 불러와서 사용하는 방법"
      ]
    },
    {
      "cell_type": "code",
      "metadata": {
        "id": "AhiGdfD9WzmJ",
        "colab_type": "code",
        "colab": {}
      },
      "source": [
        "'''\n",
        "# modtest.py\n",
        "import mod2\n",
        "result = mod2.add(3, 4)\n",
        "print(result)\n",
        "'''"
      ],
      "execution_count": 0,
      "outputs": []
    },
    {
      "cell_type": "markdown",
      "metadata": {
        "id": "p07SOWGjW2th",
        "colab_type": "text"
      },
      "source": [
        "cmd에서 실행하시오.\n",
        "\n",
        "python modtest.py\n",
        "\n",
        "참고: 현재 폴더로 경로 설정 (path)\n",
        "\n",
        "import sys\n",
        "\n",
        "sys.path.append(\"current_path\")\n",
        "\n",
        "sys.path"
      ]
    },
    {
      "cell_type": "markdown",
      "metadata": {
        "id": "FJqhfnxKV19b",
        "colab_type": "text"
      },
      "source": [
        ""
      ]
    }
  ]
}