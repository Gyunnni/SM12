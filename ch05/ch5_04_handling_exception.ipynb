{
  "nbformat": 4,
  "nbformat_minor": 0,
  "metadata": {
    "colab": {
      "name": "ch5_04_handling_exception.ipynb",
      "provenance": [],
      "include_colab_link": true
    },
    "kernelspec": {
      "name": "python3",
      "display_name": "Python 3"
    }
  },
  "cells": [
    {
      "cell_type": "markdown",
      "metadata": {
        "id": "view-in-github",
        "colab_type": "text"
      },
      "source": [
        "<a href=\"https://colab.research.google.com/github/Gyunnni/SM12/blob/master/ch05/ch5_04_handling_exception.ipynb\" target=\"_parent\"><img src=\"https://colab.research.google.com/assets/colab-badge.svg\" alt=\"Open In Colab\"/></a>"
      ]
    },
    {
      "cell_type": "markdown",
      "metadata": {
        "id": "V8M_tHB2XLWx",
        "colab_type": "text"
      },
      "source": [
        "## ch5_04_handling_exception.py"
      ]
    },
    {
      "cell_type": "markdown",
      "metadata": {
        "id": "KMEsSsMEXOJp",
        "colab_type": "text"
      },
      "source": [
        "### 예외 처리\n",
        "빈번히 발생하는 오류를 처리\n",
        "try, except, finally 를 사용"
      ]
    },
    {
      "cell_type": "markdown",
      "metadata": {
        "id": "RxT_bEDOXTOy",
        "colab_type": "text"
      },
      "source": [
        "### 오류는 어떤 때 발생하는가?\n",
        "오류가 발생하는 사례\n",
        "- 1. 디렉터리 안에 없는 파일을 열려고 시도했을 때"
      ]
    },
    {
      "cell_type": "code",
      "metadata": {
        "id": "NdsX8RLXXZEp",
        "colab_type": "code",
        "colab": {}
      },
      "source": [
        "f = open(\"나없는파일\", 'r')   # FileNotFoundError:"
      ],
      "execution_count": 0,
      "outputs": []
    },
    {
      "cell_type": "markdown",
      "metadata": {
        "id": "QXOxjf_WXbG1",
        "colab_type": "text"
      },
      "source": [
        "- 2. 0으로 다른 숫자를 나누는 경우 (division by zero)"
      ]
    },
    {
      "cell_type": "code",
      "metadata": {
        "id": "qSlePirzXcyW",
        "colab_type": "code",
        "colab": {}
      },
      "source": [
        "4 / 0   # ZeroDivisionError:"
      ],
      "execution_count": 0,
      "outputs": []
    },
    {
      "cell_type": "markdown",
      "metadata": {
        "id": "Db4kL-pyXetO",
        "colab_type": "text"
      },
      "source": [
        "- 3.범위를 벗어 난 인덱싱 (list index out of range)"
      ]
    },
    {
      "cell_type": "code",
      "metadata": {
        "id": "TX2E5i-UXhiH",
        "colab_type": "code",
        "colab": {}
      },
      "source": [
        "a = [1,2,3]\n",
        "\n",
        "a[3]  # IndexError:"
      ],
      "execution_count": 0,
      "outputs": []
    },
    {
      "cell_type": "markdown",
      "metadata": {
        "id": "VmunCJFoXikw",
        "colab_type": "text"
      },
      "source": [
        "### 오류 예외 처리 기법\n",
        "유연한 프로그래밍을 위한 오류 처리 기법\n",
        "- 1. try, except문\n",
        "  \n",
        "     try, except문의 기본 구조"
      ]
    },
    {
      "cell_type": "code",
      "metadata": {
        "id": "waCJ2TxmXtxk",
        "colab_type": "code",
        "colab": {}
      },
      "source": [
        "'''\n",
        "try:\n",
        "    ...\n",
        "except [발생 오류[as 오류 메시지 변수]]:\n",
        "    ...\n",
        "'''\n",
        "# try 블록 수행 중 오류가 발생하면 except 블록이 수행된다. \n",
        "# 하지만 try 블록에서 오류가 발생하지 않는다면 \n",
        "# except 블록은 수행되지 않는다.\n"
      ],
      "execution_count": 0,
      "outputs": []
    },
    {
      "cell_type": "markdown",
      "metadata": {
        "id": "zd5iyBWfX0mG",
        "colab_type": "text"
      },
      "source": [
        "ZeroDivisionError:"
      ]
    },
    {
      "cell_type": "code",
      "metadata": {
        "id": "7Rm6EyepX3_v",
        "colab_type": "code",
        "colab": {}
      },
      "source": [
        "# ZeroDivisionError:\n",
        "try:\n",
        "    4 / 0\n",
        "except ZeroDivisionError as e:\n",
        "    print(e)\n",
        "    \n",
        "# division by zero"
      ],
      "execution_count": 0,
      "outputs": []
    },
    {
      "cell_type": "markdown",
      "metadata": {
        "id": "KfTV3BZzX553",
        "colab_type": "text"
      },
      "source": [
        "IndexError:"
      ]
    },
    {
      "cell_type": "code",
      "metadata": {
        "id": "aru6eYJzYBmq",
        "colab_type": "code",
        "colab": {}
      },
      "source": [
        "a = [1, 2, 3]\n",
        "try:\n",
        "    a[3]\n",
        "except IndexError as e:\n",
        "    print(e)\n",
        "\n",
        "\n",
        "# list index out of range"
      ],
      "execution_count": 0,
      "outputs": []
    },
    {
      "cell_type": "markdown",
      "metadata": {
        "id": "fNFtqsycYBNS",
        "colab_type": "text"
      },
      "source": [
        "- 2. try, finally문\n",
        "      try문에는 finally절을 사용할 수 있다. \n",
        "\n",
        "      finally절은 try문 수행 도중 예외 발생 여부에 \n",
        "      상관없이 항상 수행"
      ]
    },
    {
      "cell_type": "code",
      "metadata": {
        "id": "_WA9nZ1BYVnY",
        "colab_type": "code",
        "colab": {}
      },
      "source": [
        "try:\n",
        "    f = open('goo.txt', 'w')\n",
        "    # 무언가를 수행한다.\n",
        "finally:\n",
        "    f.close()"
      ],
      "execution_count": 0,
      "outputs": []
    },
    {
      "cell_type": "markdown",
      "metadata": {
        "id": "BxlPkV5mYWyB",
        "colab_type": "text"
      },
      "source": [
        "- 3. 여러개의 오류처리하기\n",
        "     \n",
        "     try문 안에서 여러 개의 오류를 처리하는 방법"
      ]
    },
    {
      "cell_type": "code",
      "metadata": {
        "id": "ccAkohJxYc_7",
        "colab_type": "code",
        "colab": {}
      },
      "source": [
        "'''\n",
        "try:\n",
        "    ...\n",
        "except 발생 오류1:\n",
        "   ... \n",
        "except 발생 오류2:\n",
        "   ...\n",
        "'''"
      ],
      "execution_count": 0,
      "outputs": []
    },
    {
      "cell_type": "code",
      "metadata": {
        "id": "c3pZgWM0YevE",
        "colab_type": "code",
        "colab": {}
      },
      "source": [
        "try:\n",
        "    a = [1,2]\n",
        "    print(a[2])\n",
        "    4/0\n",
        "except ZeroDivisionError:\n",
        "    print(\"0으로 나눌 수 없습니다.\")\n",
        "except IndexError:\n",
        "    print(\"인덱싱 할 수 없습니다.\")\n",
        "    \n",
        "# 인덱싱 오류가 먼저 발생했으므로 \n",
        "# 4/0으로 발생되는 ZeroDivisionError 오류는 발생하지 않았다."
      ],
      "execution_count": 0,
      "outputs": []
    },
    {
      "cell_type": "code",
      "metadata": {
        "id": "OWmA99PUYjpl",
        "colab_type": "code",
        "colab": {}
      },
      "source": [
        "try:\n",
        "    a = [1,2]\n",
        "    print(a[3])\n",
        "    4/0\n",
        "except ZeroDivisionError as e:\n",
        "    print(e)\n",
        "except IndexError as e:\n",
        "    print(e)\n"
      ],
      "execution_count": 0,
      "outputs": []
    },
    {
      "cell_type": "markdown",
      "metadata": {
        "id": "YiVV1xkxYklu",
        "colab_type": "text"
      },
      "source": [
        " 2개 이상의 오류를 동시에 처리"
      ]
    },
    {
      "cell_type": "code",
      "metadata": {
        "id": "lk4N5fOuYmZ-",
        "colab_type": "code",
        "colab": {}
      },
      "source": [
        "try:\n",
        "    a = [1,2]\n",
        "    print(a[3])\n",
        "    4/0\n",
        "except (ZeroDivisionError, IndexError) as e:\n",
        "    print(e)"
      ],
      "execution_count": 0,
      "outputs": []
    },
    {
      "cell_type": "markdown",
      "metadata": {
        "id": "rfmJrx7oYnkP",
        "colab_type": "text"
      },
      "source": [
        "### 오류 회피하기\n",
        "특정 오류가 발생할 경우 그냥 통과시키는 방법."
      ]
    },
    {
      "cell_type": "code",
      "metadata": {
        "id": "m5qtYvTzYqmo",
        "colab_type": "code",
        "colab": {}
      },
      "source": [
        "try:\n",
        "    f = open(\"나없는파일\", 'r')\n",
        "except FileNotFoundError:\n",
        "    pass"
      ],
      "execution_count": 0,
      "outputs": []
    },
    {
      "cell_type": "markdown",
      "metadata": {
        "id": "t3CpMrcdYr0i",
        "colab_type": "text"
      },
      "source": [
        "### 오류 일부러 발생시키기\n",
        "\n",
        "일부러 발생시키는 오류\n",
        "\n",
        "raise 오류 "
      ]
    },
    {
      "cell_type": "markdown",
      "metadata": {
        "id": "bP3ZEKrpYwOC",
        "colab_type": "text"
      },
      "source": [
        "Bird 클래스를 상속받는 자식 클래스는 반드시 \n",
        "\n",
        "fly라는 함수를 구현하도록 만들고 싶은 경우\n"
      ]
    },
    {
      "cell_type": "code",
      "metadata": {
        "id": "0P6jCLz1Yz5b",
        "colab_type": "code",
        "colab": {}
      },
      "source": [
        "class Bird:\n",
        "    def fly(self):\n",
        "        raise NotImplementedError\n"
      ],
      "execution_count": 0,
      "outputs": []
    },
    {
      "cell_type": "markdown",
      "metadata": {
        "id": "G4pzvJ_oY2O0",
        "colab_type": "text"
      },
      "source": [
        "Bird 클래스를 상속받는 자식 클래스는 \n",
        "반드시 fly 함수를 구현해야 한다"
      ]
    },
    {
      "cell_type": "code",
      "metadata": {
        "id": "HP80QnI-Y5YN",
        "colab_type": "code",
        "colab": {}
      },
      "source": [
        "class Eagle(Bird):\n",
        "    pass\n",
        "\n",
        "eagle = Eagle()\n",
        "eagle.fly()"
      ],
      "execution_count": 0,
      "outputs": []
    },
    {
      "cell_type": "markdown",
      "metadata": {
        "id": "Ua9hD3mjZHwi",
        "colab_type": "text"
      },
      "source": [
        "NotImplementedError가 발생되지 않게 하려면 \n",
        "\n",
        "다음과 같이 Eagle 클래스에 fly 함수를 반드시 구현"
      ]
    },
    {
      "cell_type": "code",
      "metadata": {
        "id": "gkcFE87vZKqz",
        "colab_type": "code",
        "colab": {}
      },
      "source": [
        "class Eagle(Bird):\n",
        "    def fly(self):\n",
        "        print(\"very fast\")\n",
        "\n",
        "eagle = Eagle()\n",
        "eagle.fly()\n"
      ],
      "execution_count": 0,
      "outputs": []
    },
    {
      "cell_type": "markdown",
      "metadata": {
        "id": "7-LQ7v2mZN-U",
        "colab_type": "text"
      },
      "source": [
        "### 예외 만들기: 사용자 정의 예외\n",
        "\n",
        "사용자가 정의해서 만들고 발생시키는 오류\n",
        "\n",
        "파이썬 내장 클래스인 Exception 클래스를 상속하여 만든다.\n",
        "\n",
        "raise User_Error() "
      ]
    },
    {
      "cell_type": "code",
      "metadata": {
        "id": "1G0M8EnMZUqu",
        "colab_type": "code",
        "colab": {}
      },
      "source": [
        "class MyError(Exception):\n",
        "    pass\n",
        "\n",
        "\n",
        "def say_nick(nick):\n",
        "    if nick == '바보':\n",
        "        raise MyError()\n",
        "    print(nick)"
      ],
      "execution_count": 0,
      "outputs": []
    },
    {
      "cell_type": "markdown",
      "metadata": {
        "id": "eva_tpXoZXRP",
        "colab_type": "text"
      },
      "source": [
        "### 사용자 정의 예외 처리"
      ]
    },
    {
      "cell_type": "code",
      "metadata": {
        "id": "M6Uf-8ZuZZYg",
        "colab_type": "code",
        "colab": {}
      },
      "source": [
        "try:\n",
        "    say_nick(\"천사\")\n",
        "    say_nick(\"바보\")\n",
        "except MyError:\n",
        "    print(\"허용되지 않는 별명입니다.\")\n"
      ],
      "execution_count": 0,
      "outputs": []
    },
    {
      "cell_type": "markdown",
      "metadata": {
        "id": "YAVOVV_uZbf4",
        "colab_type": "text"
      },
      "source": [
        "### 사용자 정의 예외 메시지 출력\n",
        "오류 메시지: __str__ 메서드를 구현"
      ]
    },
    {
      "cell_type": "code",
      "metadata": {
        "id": "Y-dC_ujcZeip",
        "colab_type": "code",
        "colab": {}
      },
      "source": [
        "class MyError(Exception):\n",
        "    def __str__(self):\n",
        "        return \"허용되지 않는 별명입니다.\""
      ],
      "execution_count": 0,
      "outputs": []
    },
    {
      "cell_type": "code",
      "metadata": {
        "id": "qAIINo41Zgp7",
        "colab_type": "code",
        "colab": {}
      },
      "source": [
        "try:\n",
        "    say_nick(\"천사\")\n",
        "    say_nick(\"바보\")\n",
        "except MyError as e:\n",
        "    print(e)"
      ],
      "execution_count": 0,
      "outputs": []
    }
  ]
}