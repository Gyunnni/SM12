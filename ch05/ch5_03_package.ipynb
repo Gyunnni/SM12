{
  "nbformat": 4,
  "nbformat_minor": 0,
  "metadata": {
    "colab": {
      "name": "ch5_03_package.ipynb",
      "provenance": [],
      "include_colab_link": true
    },
    "kernelspec": {
      "name": "python3",
      "display_name": "Python 3"
    }
  },
  "cells": [
    {
      "cell_type": "markdown",
      "metadata": {
        "id": "view-in-github",
        "colab_type": "text"
      },
      "source": [
        "<a href=\"https://colab.research.google.com/github/Gyunnni/SM12/blob/master/ch05/ch5_03_package.ipynb\" target=\"_parent\"><img src=\"https://colab.research.google.com/assets/colab-badge.svg\" alt=\"Open In Colab\"/></a>"
      ]
    },
    {
      "cell_type": "markdown",
      "metadata": {
        "id": "8bk6idCgaEkH",
        "colab_type": "text"
      },
      "source": [
        "## ch5_03_package.py"
      ]
    },
    {
      "cell_type": "markdown",
      "metadata": {
        "id": "1xGmXCtaaG83",
        "colab_type": "text"
      },
      "source": [
        "### 패키지란 무엇인가?\n",
        "파이썬 모듈들을 모아놓은 폴더로 구성\n",
        "\n",
        "유사한 기능을 가진 모듈들을 묶어서 구성"
      ]
    },
    {
      "cell_type": "markdown",
      "metadata": {
        "id": "iQdhc-HTaNHx",
        "colab_type": "text"
      },
      "source": [
        "### 가상의 game 패키지 예"
      ]
    },
    {
      "cell_type": "code",
      "metadata": {
        "id": "q3S0hjnJaPPe",
        "colab_type": "code",
        "colab": {}
      },
      "source": [
        "\"\"\"\n",
        "game/\n",
        "    __init__.py\n",
        "    sound/\n",
        "        __init__.py\n",
        "        echo.py\n",
        "        wav.py\n",
        "    graphic/\n",
        "        __init__.py\n",
        "        screen.py\n",
        "        render.py\n",
        "    play/\n",
        "        __init__.py\n",
        "        run.py\n",
        "        test.py\n",
        "\"\"\""
      ],
      "execution_count": 0,
      "outputs": []
    },
    {
      "cell_type": "markdown",
      "metadata": {
        "id": "PPRYWUTqaQhT",
        "colab_type": "text"
      },
      "source": [
        "game 디렉터리가 이 패키지의 루트 디렉터리이고\n",
        "\n",
        "sound, graphic, play는 서브 디렉터리이다."
      ]
    },
    {
      "cell_type": "markdown",
      "metadata": {
        "id": "ns2ic0-PaThM",
        "colab_type": "text"
      },
      "source": [
        "### 패키지 만들기\n",
        "패키지 기본 구성 요소 준비하기"
      ]
    },
    {
      "cell_type": "markdown",
      "metadata": {
        "id": "2J0ZVC_0aYt9",
        "colab_type": "text"
      },
      "source": [
        "- 1. 루트폴더, 서버폴더 만들기"
      ]
    },
    {
      "cell_type": "code",
      "metadata": {
        "id": "LOi_lgAVaaPY",
        "colab_type": "code",
        "colab": {}
      },
      "source": [
        "\"\"\"\n",
        "./game/__init__.py\n",
        "./game/sound/__init__.py\n",
        "./game/sound/echo.py\n",
        "./game/graphic/__init__.py\n",
        "./game/graphic/render.py\n",
        "\"\"\"\n"
      ],
      "execution_count": 0,
      "outputs": []
    },
    {
      "cell_type": "markdown",
      "metadata": {
        "id": "2PYtm2uWabae",
        "colab_type": "text"
      },
      "source": [
        "- 2. *.py 소스파일 준비"
      ]
    },
    {
      "cell_type": "code",
      "metadata": {
        "id": "8s6VcJLYac3e",
        "colab_type": "code",
        "colab": {}
      },
      "source": [
        "\"\"\"\n",
        "각 디렉터리에 __init__.py 파일을 만들어 놓기만 하고 \n",
        "내용은 일단 비워 둔다.\n",
        "# echo.py\n",
        "def echo_test():\n",
        "    print (\"echo\")\n",
        "\n",
        "# render.py\n",
        "def render_test():\n",
        "    print (\"render\")\n",
        "\n",
        "\"\"\"\n",
        "# 현재 폴더 내에 game 폴더가 포함됨."
      ],
      "execution_count": 0,
      "outputs": []
    },
    {
      "cell_type": "markdown",
      "metadata": {
        "id": "2pelGDl0afug",
        "colab_type": "text"
      },
      "source": [
        "### 패키지 안의 함수 실행하기\n",
        "package를 import하여 내부 함수 실행"
      ]
    },
    {
      "cell_type": "markdown",
      "metadata": {
        "id": "NSUXFfbAakHR",
        "colab_type": "text"
      },
      "source": [
        "- 1. echo 모듈을 import하여 실행"
      ]
    },
    {
      "cell_type": "code",
      "metadata": {
        "id": "LI38T_aAaldx",
        "colab_type": "code",
        "colab": {}
      },
      "source": [
        "import game.sound.echo\n",
        "\n",
        "game.sound.echo.echo_test()\n"
      ],
      "execution_count": 0,
      "outputs": []
    },
    {
      "cell_type": "markdown",
      "metadata": {
        "id": "gIq_ERs8am7C",
        "colab_type": "text"
      },
      "source": [
        "- 2. echo 모듈이 있는 디렉터리까지를 from ... import하여 실행"
      ]
    },
    {
      "cell_type": "code",
      "metadata": {
        "id": "zYaIrF70aody",
        "colab_type": "code",
        "colab": {}
      },
      "source": [
        "from game.sound import echo\n",
        "\n",
        "echo.echo_test()\n"
      ],
      "execution_count": 0,
      "outputs": []
    },
    {
      "cell_type": "markdown",
      "metadata": {
        "id": "HGKziM0raprr",
        "colab_type": "text"
      },
      "source": [
        "- 3. echo 모듈의 echo_test 함수를 직접 import하여 실행"
      ]
    },
    {
      "cell_type": "code",
      "metadata": {
        "id": "GjQzC9d-ar1c",
        "colab_type": "code",
        "colab": {}
      },
      "source": [
        "from game.sound.echo import echo_test\n",
        "\n",
        "echo_test()\n"
      ],
      "execution_count": 0,
      "outputs": []
    },
    {
      "cell_type": "markdown",
      "metadata": {
        "id": "4g7JJbWtatF9",
        "colab_type": "text"
      },
      "source": [
        "다음과 같이 echo_test 함수를 사용하는 것은 불가능"
      ]
    },
    {
      "cell_type": "code",
      "metadata": {
        "id": "n8Gkt9u4avpd",
        "colab_type": "code",
        "colab": {}
      },
      "source": [
        "import game\n",
        "\n",
        "game.sound.echo.echo_test()\n",
        "\n",
        "import game.sound.echo.echo_test  # ModuleNotFoundError:\n"
      ],
      "execution_count": 0,
      "outputs": []
    },
    {
      "cell_type": "markdown",
      "metadata": {
        "id": "3ctE7qe8axgF",
        "colab_type": "text"
      },
      "source": [
        "### __init__.py 의 용도\n",
        "__init__.py 파일은 해당 디렉터리가 패키지의 일부임을 \n",
        "알려주는 역할\n",
        "\n",
        "만약 game, sound, graphic 등 패키지에 포함된 디렉터리에\n",
        "__init__.py 파일이 없다면 패키지로 인식되지 않는다."
      ]
    },
    {
      "cell_type": "code",
      "metadata": {
        "id": "mBBNGwCDa4iw",
        "colab_type": "code",
        "colab": {}
      },
      "source": [
        "from game.sound import *\n",
        "\n",
        "echo.echo_test()\n"
      ],
      "execution_count": 0,
      "outputs": []
    },
    {
      "cell_type": "markdown",
      "metadata": {
        "id": "2utQ9FOva6l5",
        "colab_type": "text"
      },
      "source": [
        "### relative 패키지\n",
        "만약 graphic 디렉터리의 render.py 모듈이\n",
        "\n",
        "sound 디렉터리의 echo.py 모듈을 사용\n",
        "\n",
        "render.py를 수정"
      ]
    },
    {
      "cell_type": "code",
      "metadata": {
        "id": "qNB8PA1hbB4L",
        "colab_type": "code",
        "colab": {}
      },
      "source": [
        "from game.graphic.render import render_test\n",
        "\n",
        "render_test()\n",
        "\n",
        "# .. : parent folder\n",
        "#  . : current folder"
      ],
      "execution_count": 0,
      "outputs": []
    },
    {
      "cell_type": "code",
      "metadata": {
        "id": "SMWH7tw3bDib",
        "colab_type": "code",
        "colab": {}
      },
      "source": [
        "\"\"\"\n",
        "# render.py\n",
        "from ..sound.echo import echo_test\n",
        "\n",
        "def render_test():\n",
        "    print (\"render\")\n",
        "    echo_test()\n",
        "\"\"\"\n",
        "\n",
        "\n",
        "\"\"\"\n",
        "# render.py\n",
        "from game.sound.echo import echo_test\n",
        "def render_test():\n",
        "    print (\"render\")\n",
        "    echo_test()\n",
        "\"\"\"\n"
      ],
      "execution_count": 0,
      "outputs": []
    },
    {
      "cell_type": "code",
      "metadata": {
        "id": "0w6t97rdaeLP",
        "colab_type": "code",
        "colab": {}
      },
      "source": [
        ""
      ],
      "execution_count": 0,
      "outputs": []
    },
    {
      "cell_type": "code",
      "metadata": {
        "id": "wcQFYou2aC-B",
        "colab_type": "code",
        "colab": {}
      },
      "source": [
        ""
      ],
      "execution_count": 0,
      "outputs": []
    }
  ]
}