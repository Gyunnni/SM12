{
  "nbformat": 4,
  "nbformat_minor": 0,
  "metadata": {
    "colab": {
      "name": "ch5_01_class.ipynb",
      "provenance": [],
      "include_colab_link": true
    },
    "kernelspec": {
      "name": "python3",
      "display_name": "Python 3"
    }
  },
  "cells": [
    {
      "cell_type": "markdown",
      "metadata": {
        "id": "view-in-github",
        "colab_type": "text"
      },
      "source": [
        "<a href=\"https://colab.research.google.com/github/Gyunnni/SM12/blob/master/ch05/ch5_01_class.ipynb\" target=\"_parent\"><img src=\"https://colab.research.google.com/assets/colab-badge.svg\" alt=\"Open In Colab\"/></a>"
      ]
    },
    {
      "cell_type": "markdown",
      "metadata": {
        "id": "G3HZasVtQiVR",
        "colab_type": "text"
      },
      "source": [
        "## 클래스란 무엇인가?\n",
        "- 클래스(class)"
      ]
    },
    {
      "cell_type": "markdown",
      "metadata": {
        "id": "FDt-Ay38Qo7P",
        "colab_type": "text"
      },
      "source": [
        "## 클래스는 왜 필요한가?\n",
        "\n",
        "- 지정된 기능을 수행하는 변수와 함수의 모음\n",
        "- 인스턴스, 즉 객체를 생성하여 기능을 이용\n",
        "- 코딩을 객체화\n",
        "- [예] 이전에 계산한 결괏값을 기억하고 있는 계산기"
      ]
    },
    {
      "cell_type": "code",
      "metadata": {
        "id": "Q3K98rzcQPYr",
        "colab_type": "code",
        "colab": {}
      },
      "source": [
        "result = 0\n",
        "\n",
        "def add(num):\n",
        "    global result\n",
        "    result += num\n",
        "    return result"
      ],
      "execution_count": 0,
      "outputs": []
    },
    {
      "cell_type": "markdown",
      "metadata": {
        "id": "Yt4dfcGdQ64J",
        "colab_type": "text"
      },
      "source": [
        "### 이전에 계산한 결괏값을 기억"
      ]
    },
    {
      "cell_type": "code",
      "metadata": {
        "id": "koswNYfuQ3t7",
        "colab_type": "code",
        "colab": {
          "base_uri": "https://localhost:8080/",
          "height": 53
        },
        "outputId": "a61aae80-03e0-493e-eb8b-e842073ac42b"
      },
      "source": [
        "print(add(3))\n",
        "print(add(4))"
      ],
      "execution_count": 2,
      "outputs": [
        {
          "output_type": "stream",
          "text": [
            "3\n",
            "7\n"
          ],
          "name": "stdout"
        }
      ]
    },
    {
      "cell_type": "markdown",
      "metadata": {
        "id": "UB4tKdM4RBJD",
        "colab_type": "text"
      },
      "source": [
        "### 2대의 계산기가 필요한 상황이 발생하면?"
      ]
    },
    {
      "cell_type": "code",
      "metadata": {
        "id": "G2iWJDnPQ_Az",
        "colab_type": "code",
        "colab": {
          "base_uri": "https://localhost:8080/",
          "height": 89
        },
        "outputId": "3496b8f4-67cc-4c1d-ba11-7cdee3c63cec"
      },
      "source": [
        "result1 = 0\n",
        "result2 = 0\n",
        "\n",
        "def add1(num):\n",
        "    global result1\n",
        "    result1 += num\n",
        "    return result1\n",
        "\n",
        "\n",
        "def add2(num):\n",
        "    global result2\n",
        "    result2 += num\n",
        "    return result2\n",
        "\n",
        "\n",
        "\n",
        "print(add1(3))\n",
        "print(add1(4))\n",
        "print(add2(3))\n",
        "print(add2(7))"
      ],
      "execution_count": 3,
      "outputs": [
        {
          "output_type": "stream",
          "text": [
            "3\n",
            "7\n",
            "3\n",
            "10\n"
          ],
          "name": "stdout"
        }
      ]
    },
    {
      "cell_type": "markdown",
      "metadata": {
        "id": "D-JQ2PvhRGhV",
        "colab_type": "text"
      },
      "source": [
        "계산기 1의 결괏값이 계산기 2에 아무 영향을 끼치지 않음을 확인할 수 있다. \n",
        " \n",
        "하지만 계산기가 3개, 5개, 10개로 점점 더 많이 필요해진다면 어떻게 해야 할까? \n",
        "\n",
        "그때마다 전역 변수와 함수를 추가할 것인가? "
      ]
    },
    {
      "cell_type": "markdown",
      "metadata": {
        "id": "n_0dSnNdRNy3",
        "colab_type": "text"
      },
      "source": [
        "### 클래스를 사용하면 간단하게 해결\n",
        "class Calculator"
      ]
    },
    {
      "cell_type": "code",
      "metadata": {
        "id": "RZCdvtnBREjJ",
        "colab_type": "code",
        "colab": {
          "base_uri": "https://localhost:8080/",
          "height": 89
        },
        "outputId": "a1c3551c-3121-4187-ab4c-7642014c3b31"
      },
      "source": [
        "class Calculator:\n",
        "    def __init__(self):\n",
        "        self.result = 0\n",
        "\n",
        "    def add(self, num):\n",
        "        self.result += num\n",
        "        return self.result\n",
        "    \n",
        "    # def sub(self, num):\n",
        "    #     self.result -= num\n",
        "    #     return self.result\n",
        "\n",
        "\n",
        "\n",
        "cal1 = Calculator()\n",
        "cal2 = Calculator()\n",
        "\n",
        "print(cal1.add(3))\n",
        "print(cal1.add(4))\n",
        "print(cal2.add(3))\n",
        "print(cal2.add(7))\n",
        "\n",
        "\n",
        "# 뺄셈(sub)을 추가하고 클래스의 객체를 다시 만들어서 사용한다."
      ],
      "execution_count": 4,
      "outputs": [
        {
          "output_type": "stream",
          "text": [
            "3\n",
            "7\n",
            "3\n",
            "10\n"
          ],
          "name": "stdout"
        }
      ]
    },
    {
      "cell_type": "markdown",
      "metadata": {
        "id": "1TyLeOa3Rr26",
        "colab_type": "text"
      },
      "source": [
        "### 클래스와 객체\n",
        "- 클래스(class)란 똑같은 무엇인가를 계속해서 만들어 낼 수 있는 설계 도면\n",
        "- 객체(object)란 클래스로 만든 피조물(과자 틀을 사용해 만든 과자)\n",
        "\n",
        "- 클래스(class) : 과자 틀 \n",
        "- 객체(object) : 과자 틀을 사용해 만든 과자\n",
        "\n",
        "- 동일한 클래스로 만든 객체들은 서로 전혀 영향을 주지 않는다."
      ]
    },
    {
      "cell_type": "markdown",
      "metadata": {
        "id": "Cyk8nGF5R4Hu",
        "colab_type": "text"
      },
      "source": [
        "### 간단한 클래스와 객체 "
      ]
    },
    {
      "cell_type": "code",
      "metadata": {
        "id": "wZDVU8iERWCD",
        "colab_type": "code",
        "colab": {
          "base_uri": "https://localhost:8080/",
          "height": 35
        },
        "outputId": "a28e9738-8e88-4464-a2b6-b8e939f657ba"
      },
      "source": [
        "class Cookie:\n",
        "    pass\n",
        "\n",
        "a = Cookie()\n",
        "b = Cookie()\n",
        "id(a), id(b)"
      ],
      "execution_count": 5,
      "outputs": [
        {
          "output_type": "execute_result",
          "data": {
            "text/plain": [
              "(140502004141864, 140502191618424)"
            ]
          },
          "metadata": {
            "tags": []
          },
          "execution_count": 5
        }
      ]
    },
    {
      "cell_type": "markdown",
      "metadata": {
        "id": "l2LdNEI1SAYQ",
        "colab_type": "text"
      },
      "source": [
        "> 객체와 인스턴스의 차이\n",
        "a = Cookie() 이렇게 만든 a는 객체이다. \n",
        "\n",
        "그리고 a 객체는 Cookie의 인스턴스이다. \n",
        "\n",
        "즉 인스턴스라는 말은 특정 객체(a)가 \n",
        "\n",
        "어떤 클래스(Cookie)의 객체인지를 \n",
        "\n",
        "관계 위주로 설명할 때 사용한다"
      ]
    },
    {
      "cell_type": "markdown",
      "metadata": {
        "id": "I9NMq6B7SL2l",
        "colab_type": "text"
      },
      "source": [
        "### 사칙연산 클래스 만들기\n",
        "\n",
        "사칙연산을 가능하게 하는 FourCal 클래스\n",
        "- class FourCal\n",
        "\n",
        "-Usage:\n",
        "\n",
        "a = FourCal()\n",
        "\n",
        "a.setdata(4, 2)\n",
        "\n",
        "a.add(), a.sub(), a.mul(), a.div()"
      ]
    },
    {
      "cell_type": "markdown",
      "metadata": {
        "id": "ZN__z75BSa7J",
        "colab_type": "text"
      },
      "source": [
        "### 1. FourCal 클래스 구조 만들기"
      ]
    },
    {
      "cell_type": "code",
      "metadata": {
        "id": "6X_hpSaXR8xH",
        "colab_type": "code",
        "colab": {}
      },
      "source": [
        "class FourCal:\n",
        "    pass"
      ],
      "execution_count": 0,
      "outputs": []
    },
    {
      "cell_type": "markdown",
      "metadata": {
        "id": "jdiKMsiqSd0y",
        "colab_type": "text"
      },
      "source": [
        "### 객체 만들기"
      ]
    },
    {
      "cell_type": "code",
      "metadata": {
        "id": "GYoBZXruSc27",
        "colab_type": "code",
        "colab": {
          "base_uri": "https://localhost:8080/",
          "height": 35
        },
        "outputId": "1c07e6ae-b144-475c-f142-033f1bef457c"
      },
      "source": [
        "a = FourCal()\n",
        "type(a), id(a)"
      ],
      "execution_count": 7,
      "outputs": [
        {
          "output_type": "execute_result",
          "data": {
            "text/plain": [
              "(__main__.FourCal, 140502004161168)"
            ]
          },
          "metadata": {
            "tags": []
          },
          "execution_count": 7
        }
      ]
    },
    {
      "cell_type": "markdown",
      "metadata": {
        "id": "Tmc-N82cSitE",
        "colab_type": "text"
      },
      "source": [
        "### 2. 객체에 숫자 지정할 수 있게 만들기"
      ]
    },
    {
      "cell_type": "code",
      "metadata": {
        "id": "p0JI1TeGSgLu",
        "colab_type": "code",
        "colab": {
          "base_uri": "https://localhost:8080/",
          "height": 136
        },
        "outputId": "92e49ab2-2850-46c1-aa02-03945d97817a"
      },
      "source": [
        "function setdata()  # method\n",
        "\n",
        "class FourCal:\n",
        "   def setdata(self, first, second):\n",
        "       self.first = first\n",
        "       self.second = second\n",
        "\n",
        "\n",
        "\n",
        "a = FourCal()\n",
        "a.setdata(4, 2)\n"
      ],
      "execution_count": 15,
      "outputs": [
        {
          "output_type": "error",
          "ename": "SyntaxError",
          "evalue": "ignored",
          "traceback": [
            "\u001b[0;36m  File \u001b[0;32m\"<ipython-input-15-d572765d0cd7>\"\u001b[0;36m, line \u001b[0;32m1\u001b[0m\n\u001b[0;31m    function setdata()  # method\u001b[0m\n\u001b[0m                   ^\u001b[0m\n\u001b[0;31mSyntaxError\u001b[0m\u001b[0;31m:\u001b[0m invalid syntax\n"
          ]
        }
      ]
    },
    {
      "cell_type": "markdown",
      "metadata": {
        "id": "-vMeoOVvSwVA",
        "colab_type": "text"
      },
      "source": [
        "### 객체 변수"
      ]
    },
    {
      "cell_type": "code",
      "metadata": {
        "id": "-ba3qp83SnuF",
        "colab_type": "code",
        "colab": {
          "base_uri": "https://localhost:8080/",
          "height": 35
        },
        "outputId": "2ba01050-a618-465b-a360-ccc017875029"
      },
      "source": [
        "a.first    # self.first\n",
        "a.second   # self.second"
      ],
      "execution_count": 10,
      "outputs": [
        {
          "output_type": "execute_result",
          "data": {
            "text/plain": [
              "2"
            ]
          },
          "metadata": {
            "tags": []
          },
          "execution_count": 10
        }
      ]
    },
    {
      "cell_type": "markdown",
      "metadata": {
        "id": "_17iV44US0FR",
        "colab_type": "text"
      },
      "source": [
        "### 객체를 이용하기"
      ]
    },
    {
      "cell_type": "code",
      "metadata": {
        "id": "wDM7b62SSy5Q",
        "colab_type": "code",
        "colab": {
          "base_uri": "https://localhost:8080/",
          "height": 89
        },
        "outputId": "1d2db90c-9651-41e4-f41c-cd2fa075ad2d"
      },
      "source": [
        "a = FourCal()\n",
        "b = FourCal()\n",
        "\n",
        "a is b\n",
        "\n",
        "type(a), id(a)\n",
        "type(b), id(b)\n",
        "\n",
        "a.setdata(4, 2)\n",
        "print(a.first)\n",
        "b.setdata(3, 7)\n",
        "print(b.first)\n",
        "\n",
        "print(a.first)  # what value?\n",
        "# a 객체의 first 값은 b 객체의 first 값에 영향받지 않고 원래 값을 유지\n",
        "# 클래스로 만든 객체의 객체변수는 다른 객체의 객체변수에 상관없이 독립적인 값을 유지\n",
        "\n",
        "id(a.first), id(b.first)"
      ],
      "execution_count": 11,
      "outputs": [
        {
          "output_type": "stream",
          "text": [
            "4\n",
            "3\n",
            "4\n"
          ],
          "name": "stdout"
        },
        {
          "output_type": "execute_result",
          "data": {
            "text/plain": [
              "(10968896, 10968864)"
            ]
          },
          "metadata": {
            "tags": []
          },
          "execution_count": 11
        }
      ]
    },
    {
      "cell_type": "markdown",
      "metadata": {
        "id": "yGxoq8GMS8lV",
        "colab_type": "text"
      },
      "source": [
        "### 3. 더하기 기능 만들기"
      ]
    },
    {
      "cell_type": "code",
      "metadata": {
        "id": "ue4oUY4MS6YA",
        "colab_type": "code",
        "colab": {}
      },
      "source": [
        "#function add()  # method\n",
        "\n",
        "class FourCal:\n",
        "    def setdata(self, first, second):\n",
        "        self.first = first\n",
        "        self.second = second\n",
        "\n",
        "    def add(self):\n",
        "        result = self.first + self.second\n",
        "        return result\n",
        "    \n",
        "\n"
      ],
      "execution_count": 0,
      "outputs": []
    },
    {
      "cell_type": "code",
      "metadata": {
        "id": "oJj03wjFU298",
        "colab_type": "code",
        "colab": {
          "base_uri": "https://localhost:8080/",
          "height": 35
        },
        "outputId": "78063e7e-00a9-4fbf-a30a-c69a11319eb7"
      },
      "source": [
        "a = FourCal()\n",
        "a.setdata(4, 2)\n",
        "a.add()"
      ],
      "execution_count": 19,
      "outputs": [
        {
          "output_type": "execute_result",
          "data": {
            "text/plain": [
              "6"
            ]
          },
          "metadata": {
            "tags": []
          },
          "execution_count": 19
        }
      ]
    },
    {
      "cell_type": "markdown",
      "metadata": {
        "id": "Lr0ciuovTGIl",
        "colab_type": "text"
      },
      "source": [
        "### 4. 곱하기, 빼기, 나누기 기능 추가"
      ]
    },
    {
      "cell_type": "code",
      "metadata": {
        "id": "8uvyLSdsTF4B",
        "colab_type": "code",
        "colab": {
          "base_uri": "https://localhost:8080/",
          "height": 35
        },
        "outputId": "f4b0194b-fa5a-42bf-b507-11ce960716ed"
      },
      "source": [
        "# function sub(), mul(), div()\n",
        "\n",
        "class FourCal:\n",
        "    def setdata(self, first, second):\n",
        "        self.first = first\n",
        "        self.second = second\n",
        "        \n",
        "    def add(self):\n",
        "        result = self.first + self.second\n",
        "        return result\n",
        "\n",
        "    def sub(self):\n",
        "        result = self.first - self.second\n",
        "        return result\n",
        "\n",
        "    def mul(self):\n",
        "        result = self.first * self.second\n",
        "        return result\n",
        "\n",
        "    def div(self):\n",
        "        result = self.first / self.second\n",
        "        return result\n",
        "    \n",
        "\n",
        "  \n",
        "a = FourCal()\n",
        "b = FourCal()\n",
        "\n",
        "a.setdata(4, 2)\n",
        "b.setdata(3, 8)\n",
        "\n",
        "a.add(), a.sub(), a.mul(), a.div()\n",
        "b.add(), b.sub(), b.mul(), b.div()"
      ],
      "execution_count": 21,
      "outputs": [
        {
          "output_type": "execute_result",
          "data": {
            "text/plain": [
              "(11, -5, 24, 0.375)"
            ]
          },
          "metadata": {
            "tags": []
          },
          "execution_count": 21
        }
      ]
    },
    {
      "cell_type": "markdown",
      "metadata": {
        "id": "mTfuSw_GTg9R",
        "colab_type": "text"
      },
      "source": [
        "### 생성자 (Constructor)\n",
        "__init__()"
      ]
    },
    {
      "cell_type": "code",
      "metadata": {
        "id": "Y0xmYtnCTA0K",
        "colab_type": "code",
        "colab": {
          "base_uri": "https://localhost:8080/",
          "height": 190
        },
        "outputId": "1fa66fdb-a7f4-4e3b-d1c8-8e374e7dbb27"
      },
      "source": [
        "a = FourCal()\n",
        "# a.add()   #  AttributeError"
      ],
      "execution_count": 24,
      "outputs": [
        {
          "output_type": "error",
          "ename": "TypeError",
          "evalue": "ignored",
          "traceback": [
            "\u001b[0;31m---------------------------------------------------------------------------\u001b[0m",
            "\u001b[0;31mTypeError\u001b[0m                                 Traceback (most recent call last)",
            "\u001b[0;32m<ipython-input-24-8a5e65192f64>\u001b[0m in \u001b[0;36m<module>\u001b[0;34m()\u001b[0m\n\u001b[0;32m----> 1\u001b[0;31m \u001b[0ma\u001b[0m \u001b[0;34m=\u001b[0m \u001b[0mFourCal\u001b[0m\u001b[0;34m(\u001b[0m\u001b[0;34m)\u001b[0m\u001b[0;34m\u001b[0m\u001b[0;34m\u001b[0m\u001b[0m\n\u001b[0m\u001b[1;32m      2\u001b[0m \u001b[0;31m# a.add()   #  AttributeError\u001b[0m\u001b[0;34m\u001b[0m\u001b[0;34m\u001b[0m\u001b[0;34m\u001b[0m\u001b[0m\n",
            "\u001b[0;31mTypeError\u001b[0m: __init__() missing 2 required positional arguments: 'first' and 'second'"
          ]
        }
      ]
    },
    {
      "cell_type": "code",
      "metadata": {
        "id": "T_Iz72kMTnwT",
        "colab_type": "code",
        "colab": {}
      },
      "source": [
        "class FourCal:\n",
        "    def __init__(self, first, second):\n",
        "        self.first = first\n",
        "        self.second = second\n",
        "\n",
        "    def setdata(self, first, second):\n",
        "        self.first = first\n",
        "        self.second = second\n",
        "        \n",
        "    def add(self):\n",
        "        result = self.first + self.second\n",
        "        return result\n",
        "\n",
        "    def sub(self):\n",
        "        result = self.first - self.second\n",
        "        return result\n",
        "\n",
        "    def mul(self):\n",
        "        result = self.first * self.second\n",
        "        return result\n",
        "\n",
        "    def div(self):\n",
        "        result = self.first / self.second\n",
        "        return result"
      ],
      "execution_count": 0,
      "outputs": []
    },
    {
      "cell_type": "code",
      "metadata": {
        "id": "NTinuJvITpyc",
        "colab_type": "code",
        "colab": {
          "base_uri": "https://localhost:8080/",
          "height": 35
        },
        "outputId": "a5699350-c9ab-4cf5-a9b5-81b00b69dd08"
      },
      "source": [
        "# a = FourCal()   # TypeError:\n",
        "\n",
        "a = FourCal(4, 2)\n",
        "a.first, a.second\n",
        "\n",
        "a.mul()\n"
      ],
      "execution_count": 25,
      "outputs": [
        {
          "output_type": "execute_result",
          "data": {
            "text/plain": [
              "8"
            ]
          },
          "metadata": {
            "tags": []
          },
          "execution_count": 25
        }
      ]
    },
    {
      "cell_type": "markdown",
      "metadata": {
        "id": "5hS9UTyjTrIU",
        "colab_type": "text"
      },
      "source": [
        "### 클래스의 상속\n",
        "\n",
        "- 상속은 기존 클래스를 변경하지 않고 기능을 추가하거나 \n",
        "기존 기능을 변경하려고 할 때 사용\n",
        "\n",
        "> class 클래스 이름(상속할 클래스 이름)\n",
        "- 클래스 FourCal를 상속하는 \n",
        "class MoreFourCal\n",
        "FourCal 클래스에 a^b (a의 b제곱)을 구할 수 있는 기능을 추가"
      ]
    },
    {
      "cell_type": "code",
      "metadata": {
        "id": "QwSM6Pq9UBy-",
        "colab_type": "code",
        "colab": {
          "base_uri": "https://localhost:8080/",
          "height": 35
        },
        "outputId": "e653077a-1f3f-4289-dfa3-b117dd7aa68b"
      },
      "source": [
        "class MoreFourCal(FourCal):\n",
        "    pass\n",
        "\n",
        "\n",
        "a = MoreFourCal(4, 2)\n",
        "a.add(), a.mul()\n",
        "\n",
        "\n",
        "class MoreFourCal(FourCal):\n",
        "    def pow(self):\n",
        "        result = self.first ** self.second\n",
        "        return result\n",
        "    \n",
        "\n",
        "a = MoreFourCal(4, 2)\n",
        "a.add(), a.mul()\n",
        "\n",
        "a.pow()\n",
        "\n",
        "# 상속은 MoreFourCal 클래스처럼 기존 클래스(FourCal)는 \n",
        "# 그대로 놔둔 채 클래스의 기능을 확장시킬 때 주로 사용."
      ],
      "execution_count": 26,
      "outputs": [
        {
          "output_type": "execute_result",
          "data": {
            "text/plain": [
              "16"
            ]
          },
          "metadata": {
            "tags": []
          },
          "execution_count": 26
        }
      ]
    },
    {
      "cell_type": "markdown",
      "metadata": {
        "id": "Z_N0tNT1UHoe",
        "colab_type": "text"
      },
      "source": [
        "### 메서드 오버라이딩\n",
        "기존의 함수(메소드)를 수정/보완하여 재정의"
      ]
    },
    {
      "cell_type": "code",
      "metadata": {
        "id": "7dVbxZR4ULaf",
        "colab_type": "code",
        "colab": {}
      },
      "source": [
        "a = FourCal(4, 0)\n",
        "a.div()  # ZeroDivisionError:"
      ],
      "execution_count": 0,
      "outputs": []
    },
    {
      "cell_type": "markdown",
      "metadata": {
        "id": "uvWyDJimTxEG",
        "colab_type": "text"
      },
      "source": [
        "### 메서드 오버라이딩 (Overriding)"
      ]
    },
    {
      "cell_type": "code",
      "metadata": {
        "id": "JkVAZplhTsVQ",
        "colab_type": "code",
        "colab": {}
      },
      "source": [
        "class SafeFourCal(FourCal):\n",
        "    def div(self):\n",
        "        if self.second == 0:  # 나누는 값이 0인 경우 0을 리턴하도록 수정\n",
        "            print(\"분모는 0을 사용할 수 없다.\")\n",
        "            return 0\n",
        "        else:\n",
        "            return self.first / self.second\n",
        "    \n",
        "\n",
        "\n",
        "a = SafeFourCal(4, 0)\n",
        "a.div()  # 메서드 오버라이딩 사용"
      ],
      "execution_count": 0,
      "outputs": []
    },
    {
      "cell_type": "markdown",
      "metadata": {
        "id": "Np4st3cCUSlp",
        "colab_type": "text"
      },
      "source": [
        "### 클래스 변수\n",
        ">객체변수와 클래스변수의 차이?\n",
        "- 객체변수   :   객체.변수\n",
        "- 클래스변수 : 클래스.변수"
      ]
    },
    {
      "cell_type": "code",
      "metadata": {
        "id": "xtyGhV-XUaY0",
        "colab_type": "code",
        "colab": {}
      },
      "source": [
        "class Family:\n",
        "    lastname = \"김\"   # 클래스변수"
      ],
      "execution_count": 0,
      "outputs": []
    },
    {
      "cell_type": "markdown",
      "metadata": {
        "id": "jYD1q4A0UbfM",
        "colab_type": "text"
      },
      "source": [
        "### 클래스이름.클래스 변수로 사용"
      ]
    },
    {
      "cell_type": "code",
      "metadata": {
        "id": "qqqNBCJgURkp",
        "colab_type": "code",
        "colab": {}
      },
      "source": [
        "Family.lastname"
      ],
      "execution_count": 0,
      "outputs": []
    },
    {
      "cell_type": "markdown",
      "metadata": {
        "id": "siygxqvYUd3V",
        "colab_type": "text"
      },
      "source": [
        "### 객체변수로 접근"
      ]
    },
    {
      "cell_type": "code",
      "metadata": {
        "id": "jZrPUbmvUitI",
        "colab_type": "code",
        "colab": {}
      },
      "source": [
        "a = Family()\n",
        "b = Family()\n",
        "\n",
        "print(a.lastname)\n",
        "print(b.lastname)\n",
        "id(a.lastname), id(b.lastname)\n"
      ],
      "execution_count": 0,
      "outputs": []
    },
    {
      "cell_type": "markdown",
      "metadata": {
        "id": "_Dm9bxHWUlvg",
        "colab_type": "text"
      },
      "source": [
        "### 클래스변수를 변경하면?"
      ]
    },
    {
      "cell_type": "code",
      "metadata": {
        "id": "oJY-W4SPUoox",
        "colab_type": "code",
        "colab": {}
      },
      "source": [
        "Family.lastname = \"박\"\n",
        "\n",
        "print(a.lastname)\n",
        "print(b.lastname)\n",
        "id(a.lastname), id(b.lastname), id(Family.lastname)\n",
        "# 클래스 변수가 공유됨을 확인."
      ],
      "execution_count": 0,
      "outputs": []
    },
    {
      "cell_type": "markdown",
      "metadata": {
        "id": "TJQODottUqLR",
        "colab_type": "text"
      },
      "source": [
        "###  객체변수를 변경하면?"
      ]
    },
    {
      "cell_type": "code",
      "metadata": {
        "id": "AbJ1jKB9Usd6",
        "colab_type": "code",
        "colab": {}
      },
      "source": [
        "a.lastname = \"이\"\n",
        "a.lastname, b.lastname, Family.lastname\n",
        "id(a.lastname), id(b.lastname), id(Family.lastname)\n",
        "\n",
        "# 실무 프로그래밍에는 클래스 변수보다는 객체변수를 많이 사용."
      ],
      "execution_count": 0,
      "outputs": []
    }
  ]
}