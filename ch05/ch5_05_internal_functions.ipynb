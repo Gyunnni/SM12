{
  "nbformat": 4,
  "nbformat_minor": 0,
  "metadata": {
    "colab": {
      "name": "ch5_05_internal_functions.ipynb",
      "provenance": [],
      "include_colab_link": true
    },
    "kernelspec": {
      "name": "python3",
      "display_name": "Python 3"
    }
  },
  "cells": [
    {
      "cell_type": "markdown",
      "metadata": {
        "id": "view-in-github",
        "colab_type": "text"
      },
      "source": [
        "<a href=\"https://colab.research.google.com/github/Gyunnni/SM12/blob/master/ch05/ch5_05_internal_functions.ipynb\" target=\"_parent\"><img src=\"https://colab.research.google.com/assets/colab-badge.svg\" alt=\"Open In Colab\"/></a>"
      ]
    },
    {
      "cell_type": "markdown",
      "metadata": {
        "id": "doujc6g5VHEP",
        "colab_type": "text"
      },
      "source": [
        "##ch5_05_internal_functions\n",
        "\n",
        "### 내장함수\n",
        "\n",
        "파이썬 내장 함수는 미리 준비된 내부 모듈\n",
        "\n",
        "외부 모듈과 달리 import가 필요하지 않다."
      ]
    },
    {
      "cell_type": "markdown",
      "metadata": {
        "id": "835hAA9AVr_E",
        "colab_type": "text"
      },
      "source": [
        "### abs()\n",
        "\n",
        "abs(x)는 어떤 숫자를 입력받았을 때,\n",
        "\n",
        "그 숫자의 절댓값을 돌려주는 함수"
      ]
    },
    {
      "cell_type": "code",
      "metadata": {
        "id": "kJUCxwuYVbBO",
        "colab_type": "code",
        "colab": {
          "base_uri": "https://localhost:8080/",
          "height": 70
        },
        "outputId": "11b0e79f-c6ae-4a1d-841b-a7813637c3ae"
      },
      "source": [
        "print(abs(3))\n",
        "print(abs(-3))\n",
        "print(abs(-1.2))"
      ],
      "execution_count": 1,
      "outputs": [
        {
          "output_type": "stream",
          "text": [
            "3\n",
            "3\n",
            "1.2\n"
          ],
          "name": "stdout"
        }
      ]
    },
    {
      "cell_type": "markdown",
      "metadata": {
        "id": "ct2pnB9LWMON",
        "colab_type": "text"
      },
      "source": [
        "### all()\n",
        "\n",
        " all(x)는 반복 가능한(iterable) 자료형 x를 입력 인수로 받으며\n",
        "\n",
        "이 x가 모두 참이면 True, 거짓이 하나라도 있으면 False를 돌려준다."
      ]
    },
    {
      "cell_type": "code",
      "metadata": {
        "id": "r6UTi11kVBEh",
        "colab_type": "code",
        "colab": {
          "base_uri": "https://localhost:8080/",
          "height": 52
        },
        "outputId": "f83ce8bb-4c64-4e9b-f8b2-c122e142c2da"
      },
      "source": [
        "print(all([1, 2, 3]))\n",
        "print(all([0, 1, 2, 3]))"
      ],
      "execution_count": 2,
      "outputs": [
        {
          "output_type": "stream",
          "text": [
            "True\n",
            "False\n"
          ],
          "name": "stdout"
        }
      ]
    },
    {
      "cell_type": "code",
      "metadata": {
        "id": "4AaORodWWj3f",
        "colab_type": "code",
        "colab": {
          "base_uri": "https://localhost:8080/",
          "height": 34
        },
        "outputId": "ff4f4ae7-9e38-48ce-f2c6-959a910b9b9d"
      },
      "source": [
        "# 참고\n",
        "bool([0, 1, 2, 3]), bool([0]), bool((0)), bool((0,))"
      ],
      "execution_count": 3,
      "outputs": [
        {
          "output_type": "execute_result",
          "data": {
            "text/plain": [
              "(True, True, False, True)"
            ]
          },
          "metadata": {
            "tags": []
          },
          "execution_count": 3
        }
      ]
    },
    {
      "cell_type": "markdown",
      "metadata": {
        "id": "uJopxvecW22T",
        "colab_type": "text"
      },
      "source": [
        "### any()\n",
        "\n",
        "any(x)는 x 중 하나라도 참이 있으면 True를 돌려주고,\n",
        "\n",
        "x가 모두 거짓일 때에만 False를 돌려준다. all(x)의 반대이다."
      ]
    },
    {
      "cell_type": "code",
      "metadata": {
        "id": "wYVnGEpbW0l-",
        "colab_type": "code",
        "colab": {
          "base_uri": "https://localhost:8080/",
          "height": 52
        },
        "outputId": "96c8136d-8045-4915-ce7a-87664d6ddf66"
      },
      "source": [
        "print(any([0, 1, 2, 3]))\n",
        "\n",
        "print(any([0, \"\"]))"
      ],
      "execution_count": 4,
      "outputs": [
        {
          "output_type": "stream",
          "text": [
            "True\n",
            "False\n"
          ],
          "name": "stdout"
        }
      ]
    },
    {
      "cell_type": "markdown",
      "metadata": {
        "id": "Cy9--EuWXEe3",
        "colab_type": "text"
      },
      "source": [
        "### chr()\n",
        "\n",
        "chr(i)는 아스키(ASCII) 코드 값을 입력받아\n",
        "\n",
        "그 코드에 해당하는 문자를 출력하는 함수이다."
      ]
    },
    {
      "cell_type": "code",
      "metadata": {
        "id": "Sjc4Q251XB4W",
        "colab_type": "code",
        "colab": {
          "base_uri": "https://localhost:8080/",
          "height": 52
        },
        "outputId": "10d83513-2d6b-4fd3-ec18-304236641733"
      },
      "source": [
        "print(chr(97))\n",
        "print(chr(48))"
      ],
      "execution_count": 5,
      "outputs": [
        {
          "output_type": "stream",
          "text": [
            "a\n",
            "0\n"
          ],
          "name": "stdout"
        }
      ]
    },
    {
      "cell_type": "markdown",
      "metadata": {
        "id": "1LdEppCSXUSd",
        "colab_type": "text"
      },
      "source": [
        "### dir()\n",
        "\n",
        "dir은 객체가 자체적으로 가지고 있는 변수나 함수를 보여 준다."
      ]
    },
    {
      "cell_type": "code",
      "metadata": {
        "id": "3aimsaiZXRvw",
        "colab_type": "code",
        "colab": {
          "base_uri": "https://localhost:8080/",
          "height": 834
        },
        "outputId": "d12e191d-f396-4ebc-a316-090d8d1d56d1"
      },
      "source": [
        "dir([1, 2, 3])  # list object\n",
        "\n"
      ],
      "execution_count": 6,
      "outputs": [
        {
          "output_type": "execute_result",
          "data": {
            "text/plain": [
              "['__add__',\n",
              " '__class__',\n",
              " '__contains__',\n",
              " '__delattr__',\n",
              " '__delitem__',\n",
              " '__dir__',\n",
              " '__doc__',\n",
              " '__eq__',\n",
              " '__format__',\n",
              " '__ge__',\n",
              " '__getattribute__',\n",
              " '__getitem__',\n",
              " '__gt__',\n",
              " '__hash__',\n",
              " '__iadd__',\n",
              " '__imul__',\n",
              " '__init__',\n",
              " '__init_subclass__',\n",
              " '__iter__',\n",
              " '__le__',\n",
              " '__len__',\n",
              " '__lt__',\n",
              " '__mul__',\n",
              " '__ne__',\n",
              " '__new__',\n",
              " '__reduce__',\n",
              " '__reduce_ex__',\n",
              " '__repr__',\n",
              " '__reversed__',\n",
              " '__rmul__',\n",
              " '__setattr__',\n",
              " '__setitem__',\n",
              " '__sizeof__',\n",
              " '__str__',\n",
              " '__subclasshook__',\n",
              " 'append',\n",
              " 'clear',\n",
              " 'copy',\n",
              " 'count',\n",
              " 'extend',\n",
              " 'index',\n",
              " 'insert',\n",
              " 'pop',\n",
              " 'remove',\n",
              " 'reverse',\n",
              " 'sort']"
            ]
          },
          "metadata": {
            "tags": []
          },
          "execution_count": 6
        }
      ]
    },
    {
      "cell_type": "code",
      "metadata": {
        "id": "LzDx4SbmXc51",
        "colab_type": "code",
        "colab": {
          "base_uri": "https://localhost:8080/",
          "height": 727
        },
        "outputId": "df7f4fde-25c5-4f60-bc4d-8d140cbe8c5f"
      },
      "source": [
        "\n",
        "dir({\"1\": \"a\"})  # dict object\n"
      ],
      "execution_count": 7,
      "outputs": [
        {
          "output_type": "execute_result",
          "data": {
            "text/plain": [
              "['__class__',\n",
              " '__contains__',\n",
              " '__delattr__',\n",
              " '__delitem__',\n",
              " '__dir__',\n",
              " '__doc__',\n",
              " '__eq__',\n",
              " '__format__',\n",
              " '__ge__',\n",
              " '__getattribute__',\n",
              " '__getitem__',\n",
              " '__gt__',\n",
              " '__hash__',\n",
              " '__init__',\n",
              " '__init_subclass__',\n",
              " '__iter__',\n",
              " '__le__',\n",
              " '__len__',\n",
              " '__lt__',\n",
              " '__ne__',\n",
              " '__new__',\n",
              " '__reduce__',\n",
              " '__reduce_ex__',\n",
              " '__repr__',\n",
              " '__setattr__',\n",
              " '__setitem__',\n",
              " '__sizeof__',\n",
              " '__str__',\n",
              " '__subclasshook__',\n",
              " 'clear',\n",
              " 'copy',\n",
              " 'fromkeys',\n",
              " 'get',\n",
              " 'items',\n",
              " 'keys',\n",
              " 'pop',\n",
              " 'popitem',\n",
              " 'setdefault',\n",
              " 'update',\n",
              " 'values']"
            ]
          },
          "metadata": {
            "tags": []
          },
          "execution_count": 7
        }
      ]
    },
    {
      "cell_type": "code",
      "metadata": {
        "id": "9FL_10ooXf55",
        "colab_type": "code",
        "colab": {
          "base_uri": "https://localhost:8080/",
          "height": 34
        },
        "outputId": "08102431-dbd6-4ff0-e5bb-56b387a8c159"
      },
      "source": [
        "type({\"1\": \"a\"})"
      ],
      "execution_count": 8,
      "outputs": [
        {
          "output_type": "execute_result",
          "data": {
            "text/plain": [
              "dict"
            ]
          },
          "metadata": {
            "tags": []
          },
          "execution_count": 8
        }
      ]
    },
    {
      "cell_type": "markdown",
      "metadata": {
        "id": "7zzaVOv4XnR7",
        "colab_type": "text"
      },
      "source": [
        "### divmod()\n",
        "\n",
        "divmod(a, b)는 2개의 숫자를 입력으로 받는다.\n",
        "\n",
        "그리고 a를 b로 나눈 몫과 나머지를 튜플 형태로 돌려주는 함수"
      ]
    },
    {
      "cell_type": "code",
      "metadata": {
        "id": "jNeNUESvXbg1",
        "colab_type": "code",
        "colab": {
          "base_uri": "https://localhost:8080/",
          "height": 34
        },
        "outputId": "0eb6b4e7-90d3-4414-cdcd-32fc205b3155"
      },
      "source": [
        "divmod(7, 3)  # 결과값을 tuple로 반환"
      ],
      "execution_count": 9,
      "outputs": [
        {
          "output_type": "execute_result",
          "data": {
            "text/plain": [
              "(2, 1)"
            ]
          },
          "metadata": {
            "tags": []
          },
          "execution_count": 9
        }
      ]
    },
    {
      "cell_type": "markdown",
      "metadata": {
        "id": "9Y_b9zrGXwSg",
        "colab_type": "text"
      },
      "source": [
        "### enumerate()\n",
        "\n",
        "enumerate는 \"열거하다\"라는 뜻이다.\n",
        "\n",
        "이 함수는 순서가 있는 자료형(리스트, 튜플, 문자열)을 입력으로\n",
        "\n",
        "받아 인덱스 값을 포함하는 enumerate 객체를 돌려준다."
      ]
    },
    {
      "cell_type": "code",
      "metadata": {
        "id": "PkGx2maRXuD6",
        "colab_type": "code",
        "colab": {
          "base_uri": "https://localhost:8080/",
          "height": 70
        },
        "outputId": "0acb6efa-e064-4bb6-fed3-f7bab4e2a5a0"
      },
      "source": [
        "for i, name in enumerate([\"body\", \"foo\", \"bar\"]):\n",
        "    print(i, name)"
      ],
      "execution_count": 10,
      "outputs": [
        {
          "output_type": "stream",
          "text": [
            "0 body\n",
            "1 foo\n",
            "2 bar\n"
          ],
          "name": "stdout"
        }
      ]
    },
    {
      "cell_type": "markdown",
      "metadata": {
        "id": "tYVzFrKqX4mZ",
        "colab_type": "text"
      },
      "source": [
        "### eval()\n",
        "\n",
        "eval(expression )은 실행 가능한 문자열(1+2, 'hi' + 'a' 같은 것)을\n",
        "\n",
        "입력으로 받아 문자열을 실행한 결괏값을 돌려주는 함수"
      ]
    },
    {
      "cell_type": "code",
      "metadata": {
        "id": "3ZOdlAffX3F-",
        "colab_type": "code",
        "colab": {
          "base_uri": "https://localhost:8080/",
          "height": 70
        },
        "outputId": "0e58cfb7-297a-45be-9ab7-e8f7bef6ce15"
      },
      "source": [
        "print(eval(\"1+2\"))\n",
        "print(eval(\"'hi' + 'a'\"))\n",
        "print(eval(\"divmod(4, 3)\"))\n"
      ],
      "execution_count": 11,
      "outputs": [
        {
          "output_type": "stream",
          "text": [
            "3\n",
            "hia\n",
            "(1, 1)\n"
          ],
          "name": "stdout"
        }
      ]
    },
    {
      "cell_type": "markdown",
      "metadata": {
        "id": "w4LUAEn4YYMM",
        "colab_type": "text"
      },
      "source": [
        "### filter()\n",
        "\n",
        "filter 함수는 첫 번째 인수로 함수 이름을,\n",
        "\n",
        "두 번째 인수로 그 함수에 차례로 들어갈 반복 가능한 자료형을 받는다.\n",
        "\n",
        "그리고 두 번째 인수인 반복 가능한 자료형 요소가 첫 번째 인수인\n",
        "\n",
        "함수에 입력되었을 때 반환 값이 참인 것만 묶어서(걸러 내서) 돌려준다."
      ]
    },
    {
      "cell_type": "code",
      "metadata": {
        "id": "KovIw3sKYJO0",
        "colab_type": "code",
        "colab": {}
      },
      "source": [
        "# positive.py\n",
        "def positive(l):\n",
        "    result = []\n",
        "    for i in l:\n",
        "        if i > 0:\n",
        "            result.append(i)\n",
        "    return result"
      ],
      "execution_count": 0,
      "outputs": []
    },
    {
      "cell_type": "code",
      "metadata": {
        "id": "se1-ws5uY6M2",
        "colab_type": "code",
        "colab": {
          "base_uri": "https://localhost:8080/",
          "height": 34
        },
        "outputId": "21dc59f2-9cb0-4f09-a9a5-c8e078acba76"
      },
      "source": [
        "print(positive([1, -3, 2, 0, -5, 6]))"
      ],
      "execution_count": 13,
      "outputs": [
        {
          "output_type": "stream",
          "text": [
            "[1, 2, 6]\n"
          ],
          "name": "stdout"
        }
      ]
    },
    {
      "cell_type": "code",
      "metadata": {
        "id": "qMcx_ffKZEYr",
        "colab_type": "code",
        "colab": {
          "base_uri": "https://localhost:8080/",
          "height": 34
        },
        "outputId": "0a1eb6ae-091b-43c8-dfce-a5ef0c116895"
      },
      "source": [
        "# filter() 함수 이용\n",
        "# filter1.py\n",
        "def positive(x):\n",
        "    return x > 0\n",
        "\n",
        "\n",
        "list(filter(positive, [1, -3, 2, 0, -5, 6]))"
      ],
      "execution_count": 14,
      "outputs": [
        {
          "output_type": "execute_result",
          "data": {
            "text/plain": [
              "[1, 2, 6]"
            ]
          },
          "metadata": {
            "tags": []
          },
          "execution_count": 14
        }
      ]
    },
    {
      "cell_type": "code",
      "metadata": {
        "id": "ioFP2N92ZOo8",
        "colab_type": "code",
        "colab": {
          "base_uri": "https://localhost:8080/",
          "height": 34
        },
        "outputId": "374572a2-bce7-4d93-c2ff-976f2b1785a2"
      },
      "source": [
        "# lambda를 사용하면 더욱 간편하게 코드를 작성할 수 있다.\n",
        "\n",
        "list(filter(lambda x: x > 0, [1, -3, 2, 0, -5, 6]))"
      ],
      "execution_count": 15,
      "outputs": [
        {
          "output_type": "execute_result",
          "data": {
            "text/plain": [
              "[1, 2, 6]"
            ]
          },
          "metadata": {
            "tags": []
          },
          "execution_count": 15
        }
      ]
    },
    {
      "cell_type": "markdown",
      "metadata": {
        "id": "1N6YnzIdZXG6",
        "colab_type": "text"
      },
      "source": [
        "### hex()\n",
        "\n",
        " hex(x)는 정수 값을 입력받아 16진수(hexadecimal)로\n",
        "\n",
        "변환하여 돌려주는 함수"
      ]
    },
    {
      "cell_type": "code",
      "metadata": {
        "id": "i5NbmresZRxx",
        "colab_type": "code",
        "colab": {
          "base_uri": "https://localhost:8080/",
          "height": 52
        },
        "outputId": "0d7030f3-45c7-4e00-cc74-d129d85111b0"
      },
      "source": [
        "print(hex(10))\n",
        "print(hex(234))\n"
      ],
      "execution_count": 16,
      "outputs": [
        {
          "output_type": "stream",
          "text": [
            "0xa\n",
            "0xea\n"
          ],
          "name": "stdout"
        }
      ]
    },
    {
      "cell_type": "markdown",
      "metadata": {
        "id": "DIPAN8SqZm0-",
        "colab_type": "text"
      },
      "source": [
        "### id()\n",
        "\n",
        "d(object)는 객체를 입력받아 객체의 고유 주소 값(레퍼런스)을 돌려주는 함수"
      ]
    },
    {
      "cell_type": "code",
      "metadata": {
        "id": "3zj2X54MZknA",
        "colab_type": "code",
        "colab": {
          "base_uri": "https://localhost:8080/",
          "height": 52
        },
        "outputId": "1aed9911-2acc-4b1a-e76c-a455807d89c6"
      },
      "source": [
        "a = 3\n",
        "print(id(3))\n",
        "print(id(a))"
      ],
      "execution_count": 17,
      "outputs": [
        {
          "output_type": "stream",
          "text": [
            "10914560\n",
            "10914560\n"
          ],
          "name": "stdout"
        }
      ]
    },
    {
      "cell_type": "code",
      "metadata": {
        "id": "rPQmTCTLZ5ad",
        "colab_type": "code",
        "colab": {
          "base_uri": "https://localhost:8080/",
          "height": 52
        },
        "outputId": "6206165e-c4e0-43c0-f046-a2526e3bd99b"
      },
      "source": [
        "b = a\n",
        "print(id(b))\n",
        "print(id(4))  # different address\n"
      ],
      "execution_count": 18,
      "outputs": [
        {
          "output_type": "stream",
          "text": [
            "10914560\n",
            "10914592\n"
          ],
          "name": "stdout"
        }
      ]
    },
    {
      "cell_type": "markdown",
      "metadata": {
        "id": "ixPvkC-naHmC",
        "colab_type": "text"
      },
      "source": [
        "### input()\n",
        "\n",
        "input([prompt])은 사용자 입력을 받는 함수이다.\n",
        "\n",
        " 매개변수로 문자열을 주면, 그 문자열은 프롬프트가 된다."
      ]
    },
    {
      "cell_type": "code",
      "metadata": {
        "id": "0RtOq5UiaFT7",
        "colab_type": "code",
        "colab": {
          "base_uri": "https://localhost:8080/",
          "height": 70
        },
        "outputId": "a8ba71b5-c0a4-459a-a411-2021ca18a75e"
      },
      "source": [
        "a = input()\n",
        "b = input(\"Enter: \")\n",
        "b"
      ],
      "execution_count": 19,
      "outputs": [
        {
          "output_type": "stream",
          "text": [
            "dd\n",
            "Enter: dd\n"
          ],
          "name": "stdout"
        },
        {
          "output_type": "execute_result",
          "data": {
            "text/plain": [
              "'dd'"
            ]
          },
          "metadata": {
            "tags": []
          },
          "execution_count": 19
        }
      ]
    },
    {
      "cell_type": "markdown",
      "metadata": {
        "id": "i4IeRVwIaRF0",
        "colab_type": "text"
      },
      "source": [
        "### int()\n",
        "\n",
        "int(x)는 문자열 형태의 숫자나 소수점이 있는 숫자 등을\n",
        "\n",
        "정수 형태로 돌려주는 함수"
      ]
    },
    {
      "cell_type": "code",
      "metadata": {
        "id": "QHzY11VeaNI3",
        "colab_type": "code",
        "colab": {
          "base_uri": "https://localhost:8080/",
          "height": 70
        },
        "outputId": "d6e42812-6878-4f86-eea7-61c72e59f03b"
      },
      "source": [
        "print(int(3))\n",
        "print(int(\"3\"))\n",
        "print(int(3.14))"
      ],
      "execution_count": 21,
      "outputs": [
        {
          "output_type": "stream",
          "text": [
            "3\n",
            "3\n",
            "3\n"
          ],
          "name": "stdout"
        }
      ]
    },
    {
      "cell_type": "markdown",
      "metadata": {
        "id": "7Xyw2DoDajua",
        "colab_type": "text"
      },
      "source": [
        " int(x, radix)는 radix 진수로 표현된 문자열 x를 10진수로 변환"
      ]
    },
    {
      "cell_type": "code",
      "metadata": {
        "id": "DSQH7nQPab0s",
        "colab_type": "code",
        "colab": {
          "base_uri": "https://localhost:8080/",
          "height": 34
        },
        "outputId": "472b60f8-26f5-4b27-d5b6-6069a39738e5"
      },
      "source": [
        "int(\"11\", 2)"
      ],
      "execution_count": 22,
      "outputs": [
        {
          "output_type": "execute_result",
          "data": {
            "text/plain": [
              "3"
            ]
          },
          "metadata": {
            "tags": []
          },
          "execution_count": 22
        }
      ]
    },
    {
      "cell_type": "code",
      "metadata": {
        "id": "uXe4bx3NamCv",
        "colab_type": "code",
        "colab": {
          "base_uri": "https://localhost:8080/",
          "height": 170
        },
        "outputId": "85bec98a-5679-4974-c630-9cec517d06a9"
      },
      "source": [
        "int(11, 2)  # TypeError:"
      ],
      "execution_count": 23,
      "outputs": [
        {
          "output_type": "error",
          "ename": "TypeError",
          "evalue": "ignored",
          "traceback": [
            "\u001b[0;31m---------------------------------------------------------------------------\u001b[0m",
            "\u001b[0;31mTypeError\u001b[0m                                 Traceback (most recent call last)",
            "\u001b[0;32m<ipython-input-23-e9a958b8e78e>\u001b[0m in \u001b[0;36m<module>\u001b[0;34m()\u001b[0m\n\u001b[0;32m----> 1\u001b[0;31m \u001b[0mint\u001b[0m\u001b[0;34m(\u001b[0m\u001b[0;36m11\u001b[0m\u001b[0;34m,\u001b[0m \u001b[0;36m2\u001b[0m\u001b[0;34m)\u001b[0m  \u001b[0;31m# TypeError:\u001b[0m\u001b[0;34m\u001b[0m\u001b[0;34m\u001b[0m\u001b[0m\n\u001b[0m",
            "\u001b[0;31mTypeError\u001b[0m: int() can't convert non-string with explicit base"
          ]
        }
      ]
    },
    {
      "cell_type": "code",
      "metadata": {
        "id": "T3cBnQtsanw-",
        "colab_type": "code",
        "colab": {
          "base_uri": "https://localhost:8080/",
          "height": 34
        },
        "outputId": "5825e662-aab3-42a3-b05c-2d09c5f3e7ff"
      },
      "source": [
        "int(\"F\", 16)"
      ],
      "execution_count": 24,
      "outputs": [
        {
          "output_type": "execute_result",
          "data": {
            "text/plain": [
              "15"
            ]
          },
          "metadata": {
            "tags": []
          },
          "execution_count": 24
        }
      ]
    },
    {
      "cell_type": "markdown",
      "metadata": {
        "id": "Qex_PlvQasgG",
        "colab_type": "text"
      },
      "source": [
        "### isinstance()\n",
        "\n",
        " isinstance(object, class )는 첫 번째 인수로 인스턴스,\n",
        "\n",
        "두 번째 인수로 클래스 이름을 받는다.\n",
        "\n",
        "입력으로 받은 인스턴스가 그 클래스의 인스턴스인지를 판단하여\n",
        "\n",
        "참이면 True, 거짓이면 False를 돌려준다."
      ]
    },
    {
      "cell_type": "code",
      "metadata": {
        "id": "rbXr-i74ap2H",
        "colab_type": "code",
        "colab": {
          "base_uri": "https://localhost:8080/",
          "height": 34
        },
        "outputId": "8bf5809f-9e9d-4e2d-d26f-d553544a01b7"
      },
      "source": [
        "class Person:\n",
        "    pass\n",
        "\n",
        "\n",
        "a = Person()\n",
        "isinstance(a, Person)\n",
        "\n"
      ],
      "execution_count": 27,
      "outputs": [
        {
          "output_type": "execute_result",
          "data": {
            "text/plain": [
              "True"
            ]
          },
          "metadata": {
            "tags": []
          },
          "execution_count": 27
        }
      ]
    },
    {
      "cell_type": "code",
      "metadata": {
        "id": "PbPlrfKDa28F",
        "colab_type": "code",
        "colab": {
          "base_uri": "https://localhost:8080/",
          "height": 34
        },
        "outputId": "a08462be-2951-4864-f240-8716f9c3cbfe"
      },
      "source": [
        "b = 3\n",
        "isinstance(b, Person)\n"
      ],
      "execution_count": 26,
      "outputs": [
        {
          "output_type": "execute_result",
          "data": {
            "text/plain": [
              "False"
            ]
          },
          "metadata": {
            "tags": []
          },
          "execution_count": 26
        }
      ]
    },
    {
      "cell_type": "markdown",
      "metadata": {
        "id": "Op6A9cNha7hj",
        "colab_type": "text"
      },
      "source": [
        "### len()\n",
        "\n",
        "len(s)은 입력값 s의 길이(요소의 전체 개수)를 돌려주는 함수이다."
      ]
    },
    {
      "cell_type": "code",
      "metadata": {
        "id": "pHWH0QXJa4vA",
        "colab_type": "code",
        "colab": {
          "base_uri": "https://localhost:8080/",
          "height": 87
        },
        "outputId": "f067e46d-3f5b-4295-b045-393e2d8992b4"
      },
      "source": [
        "print(len(\"python\"))\n",
        "print(len([1, 2, 3]))\n",
        "print(len((1, \"a\")))\n",
        "print(len({a: 3}))"
      ],
      "execution_count": 28,
      "outputs": [
        {
          "output_type": "stream",
          "text": [
            "6\n",
            "3\n",
            "2\n",
            "1\n"
          ],
          "name": "stdout"
        }
      ]
    },
    {
      "cell_type": "markdown",
      "metadata": {
        "id": "I0jXoc4mblQY",
        "colab_type": "text"
      },
      "source": [
        "### list()\n",
        "\n",
        " list(s)는 반복 가능한 자료형 s를 입력받아\n",
        "\n",
        "리스트로 만들어 돌려주는 함수"
      ]
    },
    {
      "cell_type": "code",
      "metadata": {
        "id": "8ygPB2_AbhP-",
        "colab_type": "code",
        "colab": {
          "base_uri": "https://localhost:8080/",
          "height": 52
        },
        "outputId": "8a9287dc-4949-45a6-f5ac-4583fb5cfc6a"
      },
      "source": [
        "print(list(\"python\"))\n",
        "print(list((1, 2, 3)))"
      ],
      "execution_count": 30,
      "outputs": [
        {
          "output_type": "stream",
          "text": [
            "['p', 'y', 't', 'h', 'o', 'n']\n",
            "[1, 2, 3]\n"
          ],
          "name": "stdout"
        }
      ]
    },
    {
      "cell_type": "markdown",
      "metadata": {
        "id": "BW4a7JZccbYs",
        "colab_type": "text"
      },
      "source": [
        "### map()\n",
        "\n",
        " map(f, iterable)은 함수(f)와 반복 가능한(iterable) 자료형을 입력으로 받는다.\n",
        "\n",
        "map은 입력받은 자료형의 각 요소를 함수 f가 수행한 결과를\n",
        "\n",
        "묶어서 돌려주는 함수"
      ]
    },
    {
      "cell_type": "code",
      "metadata": {
        "id": "GVWlcDdMcUoM",
        "colab_type": "code",
        "colab": {
          "base_uri": "https://localhost:8080/",
          "height": 34
        },
        "outputId": "b6f31b1b-5a78-48bd-d32a-7fc98d2f261a"
      },
      "source": [
        "# two_times.py\n",
        "def two_times(numberList):\n",
        "    result = []\n",
        "    for number in numberList:\n",
        "        result.append(number * 2)\n",
        "    return result\n",
        "\n",
        "\n",
        "result = two_times([1, 2, 3, 4])\n",
        "print(result)"
      ],
      "execution_count": 31,
      "outputs": [
        {
          "output_type": "stream",
          "text": [
            "[2, 4, 6, 8]\n"
          ],
          "name": "stdout"
        }
      ]
    },
    {
      "cell_type": "code",
      "metadata": {
        "id": "mcv3u-AGctGE",
        "colab_type": "code",
        "colab": {
          "base_uri": "https://localhost:8080/",
          "height": 34
        },
        "outputId": "d3df2f9d-b414-4d18-a859-2a2cfab61799"
      },
      "source": [
        "# map 함수를 사용\n",
        "def two_times(x):\n",
        "    return x * 2\n",
        "\n",
        "\n",
        "list(map(two_times, [1, 2, 3, 4]))"
      ],
      "execution_count": 32,
      "outputs": [
        {
          "output_type": "execute_result",
          "data": {
            "text/plain": [
              "[2, 4, 6, 8]"
            ]
          },
          "metadata": {
            "tags": []
          },
          "execution_count": 32
        }
      ]
    },
    {
      "cell_type": "code",
      "metadata": {
        "id": "vGq_lLfucwqn",
        "colab_type": "code",
        "colab": {
          "base_uri": "https://localhost:8080/",
          "height": 34
        },
        "outputId": "1edc3f0a-a313-4c5d-bed2-fe65a7bbcfc3"
      },
      "source": [
        "# lambda를 사용\n",
        "list(map(lambda a: a * 2, [1, 2, 3, 4]))"
      ],
      "execution_count": 34,
      "outputs": [
        {
          "output_type": "execute_result",
          "data": {
            "text/plain": [
              "[2, 4, 6, 8]"
            ]
          },
          "metadata": {
            "tags": []
          },
          "execution_count": 34
        }
      ]
    },
    {
      "cell_type": "markdown",
      "metadata": {
        "id": "zDO16l0Oc3LF",
        "colab_type": "text"
      },
      "source": [
        "### max()\n",
        "\n",
        "max(iterable)는 인수로 반복 가능한 자료형을 입력받아\n",
        "\n",
        "그 최댓값을 돌려주는 함수"
      ]
    },
    {
      "cell_type": "code",
      "metadata": {
        "id": "vYJO54tUcyfv",
        "colab_type": "code",
        "colab": {
          "base_uri": "https://localhost:8080/",
          "height": 87
        },
        "outputId": "d2b11ff1-161b-4c6b-9f5e-e771339a98d3"
      },
      "source": [
        "print(max([1, 2, 3]))\n",
        "print(max(\"python\"))\n",
        "print(max(list(range(10))))\n",
        "print(max(range(10)))"
      ],
      "execution_count": 35,
      "outputs": [
        {
          "output_type": "stream",
          "text": [
            "3\n",
            "y\n",
            "9\n",
            "9\n"
          ],
          "name": "stdout"
        }
      ]
    },
    {
      "cell_type": "markdown",
      "metadata": {
        "id": "1qpKb3b6dHel",
        "colab_type": "text"
      },
      "source": [
        "### min()\n",
        "\n",
        "min(iterable)은 max 함수와 반대로, 인수로 반복 가능한\n",
        "\n",
        "자료형을 입력받아 그 최솟값을 돌려주는 함수"
      ]
    },
    {
      "cell_type": "code",
      "metadata": {
        "id": "ccxPcZUKdF72",
        "colab_type": "code",
        "colab": {
          "base_uri": "https://localhost:8080/",
          "height": 70
        },
        "outputId": "8c015ada-31a8-4e1a-bc02-90ea880282f9"
      },
      "source": [
        "print(min([1, 2, 3]))\n",
        "print(min(\"python\"))\n",
        "print(min(range(10)))"
      ],
      "execution_count": 36,
      "outputs": [
        {
          "output_type": "stream",
          "text": [
            "1\n",
            "h\n",
            "0\n"
          ],
          "name": "stdout"
        }
      ]
    },
    {
      "cell_type": "markdown",
      "metadata": {
        "id": "aw9y-N4_dXFH",
        "colab_type": "text"
      },
      "source": [
        "### oct()\n",
        " oct(x)는 정수 형태의 숫자를 8진수 문자열로 바꾸어 돌려주는 함수"
      ]
    },
    {
      "cell_type": "code",
      "metadata": {
        "id": "GsyoqZPCdVVu",
        "colab_type": "code",
        "colab": {
          "base_uri": "https://localhost:8080/",
          "height": 52
        },
        "outputId": "1bc45a79-5e1e-415b-d75e-a92a2ec64fbd"
      },
      "source": [
        "print(oct(9))\n",
        "print(oct(12345))\n",
        "\n"
      ],
      "execution_count": 37,
      "outputs": [
        {
          "output_type": "stream",
          "text": [
            "0o11\n",
            "0o30071\n"
          ],
          "name": "stdout"
        }
      ]
    },
    {
      "cell_type": "markdown",
      "metadata": {
        "id": "5F4Gc3mjdirS",
        "colab_type": "text"
      },
      "source": [
        "### ord()\n",
        "\n",
        "ord(c)는 문자의 아스키 코드 값을 돌려주는 함수\n",
        "\n",
        "※ ord 함수는 chr 함수와 반대이다."
      ]
    },
    {
      "cell_type": "code",
      "metadata": {
        "id": "5-w6WNrhdg8v",
        "colab_type": "code",
        "colab": {
          "base_uri": "https://localhost:8080/",
          "height": 52
        },
        "outputId": "c3355cd4-6d4a-46cb-f10a-a150c564e099"
      },
      "source": [
        "print(ord(\"a\"))  # chr(97)\n",
        "print(ord(\"0\"))"
      ],
      "execution_count": 38,
      "outputs": [
        {
          "output_type": "stream",
          "text": [
            "97\n",
            "48\n"
          ],
          "name": "stdout"
        }
      ]
    },
    {
      "cell_type": "markdown",
      "metadata": {
        "id": "i2QmhYjYdyDQ",
        "colab_type": "text"
      },
      "source": [
        "### pow()\n",
        "\n",
        "pow(x, y)는 x의 y 제곱한 결괏값을 돌려주는 함수"
      ]
    },
    {
      "cell_type": "code",
      "metadata": {
        "id": "VLA95PG9dvpX",
        "colab_type": "code",
        "colab": {
          "base_uri": "https://localhost:8080/",
          "height": 52
        },
        "outputId": "4156e554-051e-4c70-9282-500424e5a06c"
      },
      "source": [
        "print(pow(2, 4))  # 2**4\n",
        "print(pow(3, 4))  # 3**4"
      ],
      "execution_count": 39,
      "outputs": [
        {
          "output_type": "stream",
          "text": [
            "16\n",
            "81\n"
          ],
          "name": "stdout"
        }
      ]
    },
    {
      "cell_type": "markdown",
      "metadata": {
        "id": "KPNjAVRkeg7v",
        "colab_type": "text"
      },
      "source": [
        "### range()\n",
        "\n",
        "range([start,] stop [,step] )는 for문과 함께 자주 사용하는 함수\n",
        " \n",
        " 이 함수는 입력받은 숫자에 해당하는 범위 값을 반복 가능한 객체로\n",
        "\n",
        "만들어 돌려준다."
      ]
    },
    {
      "cell_type": "code",
      "metadata": {
        "id": "5l5eoghweSaL",
        "colab_type": "code",
        "colab": {
          "base_uri": "https://localhost:8080/",
          "height": 34
        },
        "outputId": "d564e4c4-030d-4451-bd3a-c0d0cf2b4daf"
      },
      "source": [
        "# 인수가 하나일 경우\n",
        "list(range(5))"
      ],
      "execution_count": 40,
      "outputs": [
        {
          "output_type": "execute_result",
          "data": {
            "text/plain": [
              "[0, 1, 2, 3, 4]"
            ]
          },
          "metadata": {
            "tags": []
          },
          "execution_count": 40
        }
      ]
    },
    {
      "cell_type": "code",
      "metadata": {
        "id": "eIsSFjMHenx4",
        "colab_type": "code",
        "colab": {
          "base_uri": "https://localhost:8080/",
          "height": 34
        },
        "outputId": "4ec2415e-5264-44c0-cd45-6a8d9683b41c"
      },
      "source": [
        "# 인수가 2개일 경우\n",
        "list(range(5, 10))"
      ],
      "execution_count": 41,
      "outputs": [
        {
          "output_type": "execute_result",
          "data": {
            "text/plain": [
              "[5, 6, 7, 8, 9]"
            ]
          },
          "metadata": {
            "tags": []
          },
          "execution_count": 41
        }
      ]
    },
    {
      "cell_type": "code",
      "metadata": {
        "id": "zv5rJ8mGeqTj",
        "colab_type": "code",
        "colab": {
          "base_uri": "https://localhost:8080/",
          "height": 52
        },
        "outputId": "95e681b6-d655-43a4-beda-907f6140fff9"
      },
      "source": [
        "# 인수가 3개일 경우\n",
        "print(list(range(1, 10, 2)))\n",
        "print(list(range(0, -10, -1)))"
      ],
      "execution_count": 43,
      "outputs": [
        {
          "output_type": "stream",
          "text": [
            "[1, 3, 5, 7, 9]\n",
            "[0, -1, -2, -3, -4, -5, -6, -7, -8, -9]\n"
          ],
          "name": "stdout"
        }
      ]
    },
    {
      "cell_type": "markdown",
      "metadata": {
        "id": "g4vQ2D1ee5mR",
        "colab_type": "text"
      },
      "source": [
        "### round()\n",
        "\n",
        "round(number[, ndigits]) 함수는 숫자를 입력받아 반올림해 주는 함수\n",
        "\n",
        "※ [, ndigits]는 ndigits가 있을 수도 있고 없을 수도 있다는 의미이다."
      ]
    },
    {
      "cell_type": "code",
      "metadata": {
        "id": "AZWxEFD_er9s",
        "colab_type": "code",
        "colab": {
          "base_uri": "https://localhost:8080/",
          "height": 52
        },
        "outputId": "f769d958-05a7-4cbe-9923-cb93ef2b8df7"
      },
      "source": [
        "print(round(4.6))\n",
        "print(round(4.2))"
      ],
      "execution_count": 44,
      "outputs": [
        {
          "output_type": "stream",
          "text": [
            "5\n",
            "4\n"
          ],
          "name": "stdout"
        }
      ]
    },
    {
      "cell_type": "code",
      "metadata": {
        "id": "PJSmNwx9fDtN",
        "colab_type": "code",
        "colab": {
          "base_uri": "https://localhost:8080/",
          "height": 34
        },
        "outputId": "ae3d777b-46c2-4b42-ef4e-792520d6530e"
      },
      "source": [
        "# 소수점 2자리까지만 반올림\n",
        "round(5.678, 2)\n"
      ],
      "execution_count": 45,
      "outputs": [
        {
          "output_type": "execute_result",
          "data": {
            "text/plain": [
              "5.68"
            ]
          },
          "metadata": {
            "tags": []
          },
          "execution_count": 45
        }
      ]
    },
    {
      "cell_type": "markdown",
      "metadata": {
        "id": "ynogR0fafIWF",
        "colab_type": "text"
      },
      "source": [
        "### sorted()\n",
        "\n",
        "sorted(iterable) 함수는 입력값을 정렬한 후\n",
        "\n",
        "그 결과를 리스트로 돌려주는 함수\n",
        "\n",
        "'reverse' 속성으로 정렬순서 반전"
      ]
    },
    {
      "cell_type": "code",
      "metadata": {
        "id": "OZD_FqCEfFi6",
        "colab_type": "code",
        "colab": {
          "base_uri": "https://localhost:8080/",
          "height": 123
        },
        "outputId": "cd770d16-67ba-4c76-e857-5f8199389ea8"
      },
      "source": [
        "print(sorted([3, 1, 2]))\n",
        "print(sorted([3, 1, 2], reverse=True))\n",
        "\n",
        "print(sorted([\"a\", \"c\", \"b\"]))\n",
        "print(sorted([\"a\", \"c\", \"b\"], reverse=True))\n",
        "\n",
        "print(sorted(\"zero\"))\n",
        "print(sorted((3, 2, 1)))  # list로 반환!!!"
      ],
      "execution_count": 51,
      "outputs": [
        {
          "output_type": "stream",
          "text": [
            "[1, 2, 3]\n",
            "[3, 2, 1]\n",
            "['a', 'b', 'c']\n",
            "['c', 'b', 'a']\n",
            "['e', 'o', 'r', 'z']\n",
            "[1, 2, 3]\n"
          ],
          "name": "stdout"
        }
      ]
    },
    {
      "cell_type": "markdown",
      "metadata": {
        "id": "2kwKZheef70O",
        "colab_type": "text"
      },
      "source": [
        "### str()\n",
        "\n",
        "str(object)은 문자열 형태로 객체를 변환하여 돌려주는 함수"
      ]
    },
    {
      "cell_type": "code",
      "metadata": {
        "id": "J2UMeXCgfm52",
        "colab_type": "code",
        "colab": {
          "base_uri": "https://localhost:8080/",
          "height": 70
        },
        "outputId": "1d2812d2-03a9-4398-f4cb-f825388faab6"
      },
      "source": [
        "print(str(3))\n",
        "print(str(100))\n",
        "print(str(\"hello\".upper()))\n"
      ],
      "execution_count": 52,
      "outputs": [
        {
          "output_type": "stream",
          "text": [
            "3\n",
            "100\n",
            "HELLO\n"
          ],
          "name": "stdout"
        }
      ]
    },
    {
      "cell_type": "markdown",
      "metadata": {
        "id": "gzXjfhdwgHT5",
        "colab_type": "text"
      },
      "source": [
        "### sum()\n",
        "\n",
        "sum(iterable) 은 입력받은 리스트나 튜플의\n",
        "\n",
        "모든 요소의 합을 돌려주는 함수"
      ]
    },
    {
      "cell_type": "code",
      "metadata": {
        "id": "4FCvO_lvgE_2",
        "colab_type": "code",
        "colab": {
          "base_uri": "https://localhost:8080/",
          "height": 52
        },
        "outputId": "361a2428-a6bd-4cb4-ec1c-8641ee774acf"
      },
      "source": [
        "print(sum([1, 2, 3]))\n",
        "print(sum((4, 5, 6)))\n"
      ],
      "execution_count": 53,
      "outputs": [
        {
          "output_type": "stream",
          "text": [
            "6\n",
            "15\n"
          ],
          "name": "stdout"
        }
      ]
    },
    {
      "cell_type": "markdown",
      "metadata": {
        "id": "uwy87fymgWnD",
        "colab_type": "text"
      },
      "source": [
        "### tuple()\n",
        "\n",
        "tuple(iterable)은 반복 가능한 자료형을 입력받아\n",
        "\n",
        "튜플 형태로 바꾸어 돌려주는 함수"
      ]
    },
    {
      "cell_type": "code",
      "metadata": {
        "id": "0Kj5Y9algTyq",
        "colab_type": "code",
        "colab": {
          "base_uri": "https://localhost:8080/",
          "height": 52
        },
        "outputId": "27f71273-31e4-439b-9ecc-89aae515020f"
      },
      "source": [
        "print(tuple(\"abc\"))\n",
        "print(tuple([1, 2, 3]))"
      ],
      "execution_count": 54,
      "outputs": [
        {
          "output_type": "stream",
          "text": [
            "('a', 'b', 'c')\n",
            "(1, 2, 3)\n"
          ],
          "name": "stdout"
        }
      ]
    },
    {
      "cell_type": "markdown",
      "metadata": {
        "id": "82fKFJkmgt9X",
        "colab_type": "text"
      },
      "source": [
        "### type()\n",
        "\n",
        "type(object)은 입력값의 자료형이 무엇인지 알려 주는 함수"
      ]
    },
    {
      "cell_type": "code",
      "metadata": {
        "id": "gqfLIXvVgoRP",
        "colab_type": "code",
        "colab": {
          "base_uri": "https://localhost:8080/",
          "height": 87
        },
        "outputId": "942eb78e-c43b-47cb-d038-2c50d8f27831"
      },
      "source": [
        "print(type(\"abc\"))\n",
        "print(type([]))\n",
        "print(type({a: 4}))\n",
        "print(type(open(\"test\", \"w\")))"
      ],
      "execution_count": 55,
      "outputs": [
        {
          "output_type": "stream",
          "text": [
            "<class 'str'>\n",
            "<class 'list'>\n",
            "<class 'dict'>\n",
            "<class '_io.TextIOWrapper'>\n"
          ],
          "name": "stdout"
        }
      ]
    },
    {
      "cell_type": "markdown",
      "metadata": {
        "id": "ZkP4NmP4hWrG",
        "colab_type": "text"
      },
      "source": [
        "### zip()\n",
        "\n",
        "zip(*iterable)은 동일한 개수로 이루어진 자료형을\n",
        "\n",
        "묶어 주는 역할을 하는 함수"
      ]
    },
    {
      "cell_type": "code",
      "metadata": {
        "id": "ak3FHLLPhUVH",
        "colab_type": "code",
        "colab": {
          "base_uri": "https://localhost:8080/",
          "height": 87
        },
        "outputId": "6817e4db-3c3c-44a0-d1f3-71d6a336122b"
      },
      "source": [
        "print(list(zip([1, 2, 3], [4, 5, 6])))\n",
        "print(list(zip([1, 2, 3], [4, 5, 6], [7, 8, 9])))\n",
        "print(list(zip(\"abc\", \"def\")))\n",
        "print(list(zip([1, 2, 3], \"def\")))"
      ],
      "execution_count": 56,
      "outputs": [
        {
          "output_type": "stream",
          "text": [
            "[(1, 4), (2, 5), (3, 6)]\n",
            "[(1, 4, 7), (2, 5, 8), (3, 6, 9)]\n",
            "[('a', 'd'), ('b', 'e'), ('c', 'f')]\n",
            "[(1, 'd'), (2, 'e'), (3, 'f')]\n"
          ],
          "name": "stdout"
        }
      ]
    },
    {
      "cell_type": "code",
      "metadata": {
        "id": "znnEpsvWhnFL",
        "colab_type": "code",
        "colab": {}
      },
      "source": [
        ""
      ],
      "execution_count": 0,
      "outputs": []
    }
  ]
}