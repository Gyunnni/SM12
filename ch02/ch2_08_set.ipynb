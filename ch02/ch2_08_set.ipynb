{
  "nbformat": 4,
  "nbformat_minor": 0,
  "metadata": {
    "colab": {
      "name": "ch2_08_set.ipynb",
      "provenance": [],
      "collapsed_sections": [],
      "include_colab_link": true
    },
    "kernelspec": {
      "name": "python3",
      "display_name": "Python 3"
    }
  },
  "cells": [
    {
      "cell_type": "markdown",
      "metadata": {
        "id": "view-in-github",
        "colab_type": "text"
      },
      "source": [
        "<a href=\"https://colab.research.google.com/github/Gyunnni/SM12/blob/master/ch02/ch2_08_set.ipynb\" target=\"_parent\"><img src=\"https://colab.research.google.com/assets/colab-badge.svg\" alt=\"Open In Colab\"/></a>"
      ]
    },
    {
      "cell_type": "markdown",
      "metadata": {
        "id": "h3SyaqsrpbyL",
        "colab_type": "text"
      },
      "source": [
        "# ch2_08_set.py"
      ]
    },
    {
      "cell_type": "markdown",
      "metadata": {
        "id": "2yh0osRNpofs",
        "colab_type": "text"
      },
      "source": [
        "\n",
        "##집합: 집합(Set)이란?\n",
        "### 집합에 관련된 것을 쉽게 처리하기 위해 만든 자료형\n",
        "### 중복된 값을 허용하지 않는다.\n",
        "### set 키워드를 사용해서 집합자료형을 만든다.\n"
      ]
    },
    {
      "cell_type": "code",
      "metadata": {
        "id": "4PthBCMjpC9B",
        "colab_type": "code",
        "outputId": "e2b8cc4a-1416-48d6-ef38-6042d6a7bf59",
        "colab": {
          "base_uri": "https://localhost:8080/",
          "height": 71
        }
      },
      "source": [
        "\n",
        "s1 = set([1, 2, 3])\n",
        "print(s1)\n",
        "s1n = set([1, 2, 3, 2])\n",
        "print(s1n)\n",
        "s2 = set(\"Hello\")\n",
        "print(s2)\n"
      ],
      "execution_count": 0,
      "outputs": [
        {
          "output_type": "stream",
          "text": [
            "{1, 2, 3}\n",
            "{1, 2, 3}\n",
            "{'e', 'o', 'H', 'l'}\n"
          ],
          "name": "stdout"
        }
      ]
    },
    {
      "cell_type": "markdown",
      "metadata": {
        "id": "x37MFcJDp2yT",
        "colab_type": "text"
      },
      "source": [
        "\n",
        "## 집합 자료형의 특징\n",
        "### 1. 중복을 허용하지 않는다.\n",
        "### 2. 순서가 없다(Unordered).\n",
        "### *** set 자료형은 순서가 없기(unordered) 때문에 인덱싱으로 값을 얻을 수 없다.\n"
      ]
    },
    {
      "cell_type": "code",
      "metadata": {
        "id": "_P14K_4MpFJu",
        "colab_type": "code",
        "outputId": "5315ddeb-902a-461a-ab3d-60005ed828e3",
        "colab": {
          "base_uri": "https://localhost:8080/",
          "height": 208
        }
      },
      "source": [
        "\n",
        "s1 = set([1,2,3])\n",
        "s1[0]"
      ],
      "execution_count": 0,
      "outputs": [
        {
          "output_type": "error",
          "ename": "TypeError",
          "evalue": "ignored",
          "traceback": [
            "\u001b[0;31m---------------------------------------------------------------------------\u001b[0m",
            "\u001b[0;31mTypeError\u001b[0m                                 Traceback (most recent call last)",
            "\u001b[0;32m<ipython-input-4-d09e9509dc08>\u001b[0m in \u001b[0;36m<module>\u001b[0;34m()\u001b[0m\n\u001b[1;32m      1\u001b[0m \u001b[0;34m\u001b[0m\u001b[0m\n\u001b[1;32m      2\u001b[0m \u001b[0ms1\u001b[0m \u001b[0;34m=\u001b[0m \u001b[0mset\u001b[0m\u001b[0;34m(\u001b[0m\u001b[0;34m[\u001b[0m\u001b[0;36m1\u001b[0m\u001b[0;34m,\u001b[0m\u001b[0;36m2\u001b[0m\u001b[0;34m,\u001b[0m\u001b[0;36m3\u001b[0m\u001b[0;34m]\u001b[0m\u001b[0;34m)\u001b[0m\u001b[0;34m\u001b[0m\u001b[0;34m\u001b[0m\u001b[0m\n\u001b[0;32m----> 3\u001b[0;31m \u001b[0ms1\u001b[0m\u001b[0;34m[\u001b[0m\u001b[0;36m0\u001b[0m\u001b[0;34m]\u001b[0m\u001b[0;34m\u001b[0m\u001b[0;34m\u001b[0m\u001b[0m\n\u001b[0m",
            "\u001b[0;31mTypeError\u001b[0m: 'set' object does not support indexing"
          ]
        }
      ]
    },
    {
      "cell_type": "code",
      "metadata": {
        "id": "1Wf4NAzFqORk",
        "colab_type": "code",
        "outputId": "4aa699ab-b252-4506-897c-e27ff38e9804",
        "colab": {
          "base_uri": "https://localhost:8080/",
          "height": 53
        }
      },
      "source": [
        "l1=list(s1)\n",
        "print(l1)\n",
        "l1[0]\n",
        "#"
      ],
      "execution_count": 0,
      "outputs": [
        {
          "output_type": "stream",
          "text": [
            "[1, 2, 3]\n"
          ],
          "name": "stdout"
        },
        {
          "output_type": "execute_result",
          "data": {
            "text/plain": [
              "1"
            ]
          },
          "metadata": {
            "tags": []
          },
          "execution_count": 7
        }
      ]
    },
    {
      "cell_type": "code",
      "metadata": {
        "id": "3zjF3c0oqakj",
        "colab_type": "code",
        "outputId": "1f9a2c44-f661-4ad6-9436-f0e22a889e3a",
        "colab": {
          "base_uri": "https://localhost:8080/",
          "height": 53
        }
      },
      "source": [
        "\n",
        "t1=tuple(s1)\n",
        "print(t1)\n",
        "t1[0]\n",
        "#"
      ],
      "execution_count": 0,
      "outputs": [
        {
          "output_type": "stream",
          "text": [
            "(1, 2, 3)\n"
          ],
          "name": "stdout"
        },
        {
          "output_type": "execute_result",
          "data": {
            "text/plain": [
              "1"
            ]
          },
          "metadata": {
            "tags": []
          },
          "execution_count": 8
        }
      ]
    },
    {
      "cell_type": "markdown",
      "metadata": {
        "id": "bFr5IgXhqjcD",
        "colab_type": "text"
      },
      "source": [
        "\n",
        "## 교집합, 합집합, 차집합 구하기\n"
      ]
    },
    {
      "cell_type": "code",
      "metadata": {
        "id": "zIhFKZUZpGle",
        "colab_type": "code",
        "colab": {}
      },
      "source": [
        "\n",
        "s1 = set([1, 2, 3, 4, 5, 6])\n",
        "s2 = set([4, 5, 6, 7, 8, 9])"
      ],
      "execution_count": 0,
      "outputs": []
    },
    {
      "cell_type": "markdown",
      "metadata": {
        "id": "0fk5GuThqrt9",
        "colab_type": "text"
      },
      "source": [
        "\n",
        "## 1. 교집합\n"
      ]
    },
    {
      "cell_type": "code",
      "metadata": {
        "id": "fbmIu-1PpICX",
        "colab_type": "code",
        "outputId": "c585c807-ddba-4606-a0a0-09b10328ad9f",
        "colab": {
          "base_uri": "https://localhost:8080/",
          "height": 35
        }
      },
      "source": [
        "s1 & s2\n",
        "s1.intersection(s2)\n",
        "# "
      ],
      "execution_count": 0,
      "outputs": [
        {
          "output_type": "execute_result",
          "data": {
            "text/plain": [
              "{4, 5, 6}"
            ]
          },
          "metadata": {
            "tags": []
          },
          "execution_count": 10
        }
      ]
    },
    {
      "cell_type": "markdown",
      "metadata": {
        "id": "z-h1ZJIxqvEH",
        "colab_type": "text"
      },
      "source": [
        "\n",
        "## 2. 합집합\n"
      ]
    },
    {
      "cell_type": "code",
      "metadata": {
        "id": "-m1T2_CZpJe1",
        "colab_type": "code",
        "outputId": "f183acea-a535-4e76-d070-4f22c11f7e77",
        "colab": {
          "base_uri": "https://localhost:8080/",
          "height": 35
        }
      },
      "source": [
        "\n",
        "s1 | s2\n",
        "s1.union(s2)\n",
        "# "
      ],
      "execution_count": 0,
      "outputs": [
        {
          "output_type": "execute_result",
          "data": {
            "text/plain": [
              "{1, 2, 3, 4, 5, 6, 7, 8, 9}"
            ]
          },
          "metadata": {
            "tags": []
          },
          "execution_count": 11
        }
      ]
    },
    {
      "cell_type": "markdown",
      "metadata": {
        "id": "ehMJ-fn8q37h",
        "colab_type": "text"
      },
      "source": [
        "\n",
        "## 3. 차집합\n"
      ]
    },
    {
      "cell_type": "code",
      "metadata": {
        "id": "pkzWrC2fpK2e",
        "colab_type": "code",
        "outputId": "c50bf0c0-bbc4-4b19-eb93-9411c56285dc",
        "colab": {
          "base_uri": "https://localhost:8080/",
          "height": 53
        }
      },
      "source": [
        "\n",
        "s1 - s2\n",
        "s2 - s1\n",
        "print(s1.difference(s2))\n",
        "s2.difference(s1)\n",
        "\n",
        "#"
      ],
      "execution_count": 0,
      "outputs": [
        {
          "output_type": "stream",
          "text": [
            "{1, 2, 3}\n"
          ],
          "name": "stdout"
        },
        {
          "output_type": "execute_result",
          "data": {
            "text/plain": [
              "{7, 8, 9}"
            ]
          },
          "metadata": {
            "tags": []
          },
          "execution_count": 13
        }
      ]
    },
    {
      "cell_type": "markdown",
      "metadata": {
        "id": "rFMJtVPKq-d0",
        "colab_type": "text"
      },
      "source": [
        "## 집합 (set): 관련 내장 함수들"
      ]
    },
    {
      "cell_type": "markdown",
      "metadata": {
        "id": "I11FCix1rCd9",
        "colab_type": "text"
      },
      "source": [
        "\n",
        "### 값 1개 추가하기(add)\n"
      ]
    },
    {
      "cell_type": "code",
      "metadata": {
        "id": "MJyyC5fLpM_q",
        "colab_type": "code",
        "outputId": "4c177ced-5de0-4445-9108-2be4a14f7fc6",
        "colab": {
          "base_uri": "https://localhost:8080/",
          "height": 35
        }
      },
      "source": [
        "\n",
        "s1 = set([1, 2, 3])\n",
        "s1.add(4)\n",
        "s1\n",
        "#"
      ],
      "execution_count": 0,
      "outputs": [
        {
          "output_type": "execute_result",
          "data": {
            "text/plain": [
              "{1, 2, 3, 4}"
            ]
          },
          "metadata": {
            "tags": []
          },
          "execution_count": 14
        }
      ]
    },
    {
      "cell_type": "markdown",
      "metadata": {
        "id": "TusUy0L9rF1n",
        "colab_type": "text"
      },
      "source": [
        "\n",
        "### 값 여러 개 추가하기(update)"
      ]
    },
    {
      "cell_type": "code",
      "metadata": {
        "id": "9XH3wnuIpOU3",
        "colab_type": "code",
        "outputId": "61f4ac26-1043-438e-f056-207b52579cf0",
        "colab": {
          "base_uri": "https://localhost:8080/",
          "height": 53
        }
      },
      "source": [
        "\n",
        "s1 = set([1, 2, 3])\n",
        "s1.update([4,5,6])\n",
        "print(s1)\n",
        "s1.add(5)\n",
        "s1"
      ],
      "execution_count": 0,
      "outputs": [
        {
          "output_type": "stream",
          "text": [
            "{1, 2, 3, 4, 5, 6}\n"
          ],
          "name": "stdout"
        },
        {
          "output_type": "execute_result",
          "data": {
            "text/plain": [
              "{1, 2, 3, 4, 5, 6}"
            ]
          },
          "metadata": {
            "tags": []
          },
          "execution_count": 16
        }
      ]
    },
    {
      "cell_type": "markdown",
      "metadata": {
        "id": "Qt7OhkKGrNch",
        "colab_type": "text"
      },
      "source": [
        "\n",
        "### 특정 값 제거하기(remove)\n"
      ]
    },
    {
      "cell_type": "code",
      "metadata": {
        "id": "0FTuzhqSpQj_",
        "colab_type": "code",
        "outputId": "84a43c15-a51f-405b-e409-55a94a2112fa",
        "colab": {
          "base_uri": "https://localhost:8080/",
          "height": 35
        }
      },
      "source": [
        "\n",
        "s1 = set([1, 2, 3])\n",
        "s1.remove(2)\n",
        "s1"
      ],
      "execution_count": 0,
      "outputs": [
        {
          "output_type": "execute_result",
          "data": {
            "text/plain": [
              "{1, 3}"
            ]
          },
          "metadata": {
            "tags": []
          },
          "execution_count": 17
        }
      ]
    },
    {
      "cell_type": "markdown",
      "metadata": {
        "id": "OJL4zf0GrRkR",
        "colab_type": "text"
      },
      "source": [
        "\n",
        "#################################################\n",
        "### frozenset()  # immutable set\n",
        "#################################################"
      ]
    },
    {
      "cell_type": "code",
      "metadata": {
        "id": "IxjnuegrpWSZ",
        "colab_type": "code",
        "colab": {}
      },
      "source": [
        "\n",
        "small_primes = frozenset([2, 3, 5, 7])\n",
        "bigger_primes = frozenset([5, 7, 11])\n",
        "\n"
      ],
      "execution_count": 0,
      "outputs": []
    },
    {
      "cell_type": "code",
      "metadata": {
        "id": "pFVSvPkUrZeL",
        "colab_type": "code",
        "outputId": "e799946a-8a35-4c12-ce23-235b29c6ca17",
        "colab": {
          "base_uri": "https://localhost:8080/",
          "height": 172
        }
      },
      "source": [
        "small_primes.add(11)  # we cannot add to a frozenset -> AttributeError"
      ],
      "execution_count": 0,
      "outputs": [
        {
          "output_type": "error",
          "ename": "AttributeError",
          "evalue": "ignored",
          "traceback": [
            "\u001b[0;31m---------------------------------------------------------------------------\u001b[0m",
            "\u001b[0;31mAttributeError\u001b[0m                            Traceback (most recent call last)",
            "\u001b[0;32m<ipython-input-19-2e014c5e8b7d>\u001b[0m in \u001b[0;36m<module>\u001b[0;34m()\u001b[0m\n\u001b[0;32m----> 1\u001b[0;31m \u001b[0msmall_primes\u001b[0m\u001b[0;34m.\u001b[0m\u001b[0madd\u001b[0m\u001b[0;34m(\u001b[0m\u001b[0;36m11\u001b[0m\u001b[0;34m)\u001b[0m  \u001b[0;31m# we cannot add to a frozenset -> AttributeError\u001b[0m\u001b[0;34m\u001b[0m\u001b[0;34m\u001b[0m\u001b[0m\n\u001b[0m",
            "\u001b[0;31mAttributeError\u001b[0m: 'frozenset' object has no attribute 'add'"
          ]
        }
      ]
    },
    {
      "cell_type": "code",
      "metadata": {
        "id": "EH7kQfjqrbPo",
        "colab_type": "code",
        "outputId": "fbd390b7-1d4a-4197-82d9-11621a37c83a",
        "colab": {
          "base_uri": "https://localhost:8080/",
          "height": 190
        }
      },
      "source": [
        "\n",
        "small_primes.remove(2)  # neither we can remove -> AttributeError\n"
      ],
      "execution_count": 0,
      "outputs": [
        {
          "output_type": "error",
          "ename": "AttributeError",
          "evalue": "ignored",
          "traceback": [
            "\u001b[0;31m---------------------------------------------------------------------------\u001b[0m",
            "\u001b[0;31mAttributeError\u001b[0m                            Traceback (most recent call last)",
            "\u001b[0;32m<ipython-input-20-aeebc4974609>\u001b[0m in \u001b[0;36m<module>\u001b[0;34m()\u001b[0m\n\u001b[1;32m      1\u001b[0m \u001b[0;34m\u001b[0m\u001b[0m\n\u001b[0;32m----> 2\u001b[0;31m \u001b[0msmall_primes\u001b[0m\u001b[0;34m.\u001b[0m\u001b[0mremove\u001b[0m\u001b[0;34m(\u001b[0m\u001b[0;36m2\u001b[0m\u001b[0;34m)\u001b[0m  \u001b[0;31m# neither we can remove -> AttributeError\u001b[0m\u001b[0;34m\u001b[0m\u001b[0;34m\u001b[0m\u001b[0m\n\u001b[0m",
            "\u001b[0;31mAttributeError\u001b[0m: 'frozenset' object has no attribute 'remove'"
          ]
        }
      ]
    },
    {
      "cell_type": "code",
      "metadata": {
        "id": "sQ_Nli4ErcCq",
        "colab_type": "code",
        "outputId": "27b1aa8e-b827-4650-d1e4-21d2dd4685ff",
        "colab": {
          "base_uri": "https://localhost:8080/",
          "height": 35
        }
      },
      "source": [
        "small_primes & bigger_primes  # intersect, union, etc. allowed"
      ],
      "execution_count": 0,
      "outputs": [
        {
          "output_type": "execute_result",
          "data": {
            "text/plain": [
              "frozenset({5, 7})"
            ]
          },
          "metadata": {
            "tags": []
          },
          "execution_count": 22
        }
      ]
    },
    {
      "cell_type": "markdown",
      "metadata": {
        "id": "rU4-hdBYrZB7",
        "colab_type": "text"
      },
      "source": [
        "\n",
        "Author: redwoods\n",
        "파이썬 코드: ch2_08_set.py\n",
        "\"\"\""
      ]
    },
    {
      "cell_type": "code",
      "metadata": {
        "id": "zeUYsuVwrkP3",
        "colab_type": "code",
        "colab": {}
      },
      "source": [
        ""
      ],
      "execution_count": 0,
      "outputs": []
    }
  ]
}