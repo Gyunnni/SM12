{
  "nbformat": 4,
  "nbformat_minor": 0,
  "metadata": {
    "colab": {
      "name": "ch2_07_dictionary.ipynb",
      "provenance": [],
      "collapsed_sections": [],
      "include_colab_link": true
    },
    "kernelspec": {
      "name": "python3",
      "display_name": "Python 3"
    }
  },
  "cells": [
    {
      "cell_type": "markdown",
      "metadata": {
        "id": "view-in-github",
        "colab_type": "text"
      },
      "source": [
        "<a href=\"https://colab.research.google.com/github/Gyunnni/SM12/blob/master/ch02/ch2_07_dictionary.ipynb\" target=\"_parent\"><img src=\"https://colab.research.google.com/assets/colab-badge.svg\" alt=\"Open In Colab\"/></a>"
      ]
    },
    {
      "cell_type": "markdown",
      "metadata": {
        "id": "ugn32YUHgc3C",
        "colab_type": "text"
      },
      "source": [
        "# ch2_07_dictionary.py"
      ]
    },
    {
      "cell_type": "markdown",
      "metadata": {
        "id": "sDi3zh9Xgl39",
        "colab_type": "text"
      },
      "source": [
        "##딕셔너리: 딕셔너리(Dictionary)란?\n",
        "###딕셔너리란 대응 관계를 나타내는 자료형.\n",
        "###연관 배열(Associative array) 또는 해시(Hash)\n",
        "###딕셔너리는 Key와 Value를 한 쌍으로 갖는 자료형"
      ]
    },
    {
      "cell_type": "markdown",
      "metadata": {
        "id": "GSHC61-Lg0pq",
        "colab_type": "text"
      },
      "source": [
        "\n",
        "##기본 딕셔너리의 모습\n",
        "### {Key1:Value1, Key2:Value2, Key3:Value3, ...}\n",
        "### Key와 Value의 쌍 여러 개가 { }로 둘러싸여 있다.\n",
        "### 각각의 요소는 Key : Value 형태로 이루어져 있고 쉼표(,)로 구분\n"
      ]
    },
    {
      "cell_type": "markdown",
      "metadata": {
        "id": "fq35f_kfhDYf",
        "colab_type": "text"
      },
      "source": [
        "##ex)dic = {\"name\": \"pey\", \"phone\": \"0119993323\", \"birth\": \"1118\"}\n",
        "### Key는 각각 'name', 'phone', 'birth'\n",
        "### 각 Key에 해당하는 Value는 'pey', '0119993323', '1118'"
      ]
    },
    {
      "cell_type": "markdown",
      "metadata": {
        "id": "KnCvRZmUhMhq",
        "colab_type": "text"
      },
      "source": [
        "## 여러 가지 딕셔너리"
      ]
    },
    {
      "cell_type": "code",
      "metadata": {
        "id": "5SI3OXgLguwu",
        "colab_type": "code",
        "outputId": "788ef889-facc-413c-fe62-002af1de0193",
        "colab": {
          "base_uri": "https://localhost:8080/",
          "height": 70
        }
      },
      "source": [
        "a = {1: \"hi\"}\n",
        "print(a[1])\n",
        "a = {\"a\": [1, 2, 3]}  # value에는 복합 자료형도 사용된다.\n",
        "print(len(a))\n",
        "#a[a]  # TypeError\n",
        "print(a[\"a\"])"
      ],
      "execution_count": 0,
      "outputs": [
        {
          "output_type": "stream",
          "text": [
            "hi\n",
            "1\n",
            "[1, 2, 3]\n"
          ],
          "name": "stdout"
        }
      ]
    },
    {
      "cell_type": "markdown",
      "metadata": {
        "id": "fuxgL3DqhZqu",
        "colab_type": "text"
      },
      "source": [
        " ## 딕셔너리 쌍 추가하기"
      ]
    },
    {
      "cell_type": "code",
      "metadata": {
        "id": "INxg5nfthZBN",
        "colab_type": "code",
        "outputId": "b45408cd-7ee0-451b-adf5-1b54cbad3d50",
        "colab": {
          "base_uri": "https://localhost:8080/",
          "height": 52
        }
      },
      "source": [
        "\n",
        "#\n",
        "a = {1: \"a\"}\n",
        "a[2] = \"b\"\n",
        "a[\"name\"] = \"pey\"\n",
        "print(a)\n",
        "a[3] = [1, 2, 3]\n",
        "a"
      ],
      "execution_count": 0,
      "outputs": [
        {
          "output_type": "stream",
          "text": [
            "{1: 'a', 2: 'b', 'name': 'pey'}\n"
          ],
          "name": "stdout"
        },
        {
          "output_type": "execute_result",
          "data": {
            "text/plain": [
              "{1: 'a', 2: 'b', 3: [1, 2, 3], 'name': 'pey'}"
            ]
          },
          "metadata": {
            "tags": []
          },
          "execution_count": 4
        }
      ]
    },
    {
      "cell_type": "markdown",
      "metadata": {
        "id": "EJvYmYONiuET",
        "colab_type": "text"
      },
      "source": [
        "## 딕셔너리 쌍 삭제하기\n"
      ]
    },
    {
      "cell_type": "code",
      "metadata": {
        "id": "BZOROA0EirIE",
        "colab_type": "code",
        "outputId": "049c81f8-d813-4a7d-c548-f929b2608bee",
        "colab": {
          "base_uri": "https://localhost:8080/",
          "height": 34
        }
      },
      "source": [
        "del a[1]\n",
        "a"
      ],
      "execution_count": 0,
      "outputs": [
        {
          "output_type": "execute_result",
          "data": {
            "text/plain": [
              "{2: 'b', 3: [1, 2, 3], 'name': 'pey'}"
            ]
          },
          "metadata": {
            "tags": []
          },
          "execution_count": 5
        }
      ]
    },
    {
      "cell_type": "markdown",
      "metadata": {
        "id": "ZNB64cEjjNku",
        "colab_type": "text"
      },
      "source": [
        "##딕셔너리: 사용 방법"
      ]
    },
    {
      "cell_type": "code",
      "metadata": {
        "id": "mLMAogPnjB5p",
        "colab_type": "code",
        "outputId": "7a28d8fa-6ce9-4a8e-df11-7809a540c4e7",
        "colab": {
          "base_uri": "https://localhost:8080/",
          "height": 52
        }
      },
      "source": [
        "d = {\"김연아\": \"피겨스케이팅\", \"류현진\": \"야구\", \"손흥민\": \"축구\", \"귀도\": \"파이썬\"}\n",
        "print(d)\n",
        "d[\"손흥민\"]"
      ],
      "execution_count": 0,
      "outputs": [
        {
          "output_type": "stream",
          "text": [
            "{'김연아': '피겨스케이팅', '류현진': '야구', '손흥민': '축구', '귀도': '파이썬'}\n"
          ],
          "name": "stdout"
        },
        {
          "output_type": "execute_result",
          "data": {
            "text/plain": [
              "'축구'"
            ]
          },
          "metadata": {
            "tags": []
          },
          "execution_count": 6
        }
      ]
    },
    {
      "cell_type": "markdown",
      "metadata": {
        "id": "UL0oTzGtjci3",
        "colab_type": "text"
      },
      "source": [
        "### 딕셔너리에서 Key 사용해 Value 얻기"
      ]
    },
    {
      "cell_type": "code",
      "metadata": {
        "id": "-kl3_tJrjZw1",
        "colab_type": "code",
        "outputId": "e70a43a2-5b25-40c4-f75b-cf85c9be574c",
        "colab": {
          "base_uri": "https://localhost:8080/",
          "height": 123
        }
      },
      "source": [
        "grade = {\"pey\": 10, \"julliet\": 99}\n",
        "print(grade[\"pey\"])\n",
        "print(grade[\"julliet\"])\n",
        "#\n",
        "a = {1: \"a\", 2: \"b\"}\n",
        "print(a[1])  # 1은 key\n",
        "#\n",
        "a = {\"a\": 1, \"b\": 2}\n",
        "print(a[\"b\"])\n",
        "# a[b]  # TypeError\n",
        "#\n",
        "dic = {\"name\": \"pey\", \"phone\": \"0109993323\", \"birth\": \"1118\"}\n",
        "print(dic[\"birth\"])\n",
        "(dic[\"phone\"])\n",
        "#\n"
      ],
      "execution_count": 0,
      "outputs": [
        {
          "output_type": "stream",
          "text": [
            "10\n",
            "99\n",
            "a\n",
            "2\n",
            "1118\n"
          ],
          "name": "stdout"
        },
        {
          "output_type": "execute_result",
          "data": {
            "text/plain": [
              "'0109993323'"
            ]
          },
          "metadata": {
            "tags": []
          },
          "execution_count": 7
        }
      ]
    },
    {
      "cell_type": "markdown",
      "metadata": {
        "id": "hjJ9DQd1j9X3",
        "colab_type": "text"
      },
      "source": [
        "## 딕셔너리 만들 때 주의할 사항\n",
        "### 딕셔너리에서 Key는 고유한 값이므로 중복되는 Key 값을 설정해 놓으면\n",
        "### 하나를 제외한 나머지 것들이 모두 무시된다"
      ]
    },
    {
      "cell_type": "code",
      "metadata": {
        "id": "MAf2dL4xhksF",
        "colab_type": "code",
        "outputId": "b89b0f31-dd0c-4369-953c-72d6e0eb2ecb",
        "colab": {
          "base_uri": "https://localhost:8080/",
          "height": 34
        }
      },
      "source": [
        "a = {1: \"a\", 1: \"b\"}\n",
        "a[1]"
      ],
      "execution_count": 0,
      "outputs": [
        {
          "output_type": "execute_result",
          "data": {
            "text/plain": [
              "'b'"
            ]
          },
          "metadata": {
            "tags": []
          },
          "execution_count": 9
        }
      ]
    },
    {
      "cell_type": "markdown",
      "metadata": {
        "id": "iwZwWLDQkQKb",
        "colab_type": "text"
      },
      "source": [
        "##딕셔너리: 관련 내장 함수들"
      ]
    },
    {
      "cell_type": "markdown",
      "metadata": {
        "id": "BoAC2pc5kVNN",
        "colab_type": "text"
      },
      "source": [
        "\n",
        "### Key 리스트 만들기(keys)"
      ]
    },
    {
      "cell_type": "code",
      "metadata": {
        "id": "yEGr792SkT4E",
        "colab_type": "code",
        "outputId": "c02318a3-3fa4-4905-9dbe-b9f69918a855",
        "colab": {
          "base_uri": "https://localhost:8080/",
          "height": 34
        }
      },
      "source": [
        "a = {\"name\": \"pey\", \"phone\": \"0119993323\", \"birth\": \"1118\"}\n",
        "a.keys()\n",
        "list(a.keys())"
      ],
      "execution_count": 0,
      "outputs": [
        {
          "output_type": "execute_result",
          "data": {
            "text/plain": [
              "['name', 'phone', 'birth']"
            ]
          },
          "metadata": {
            "tags": []
          },
          "execution_count": 13
        }
      ]
    },
    {
      "cell_type": "markdown",
      "metadata": {
        "id": "0vGCUb0NlAET",
        "colab_type": "text"
      },
      "source": [
        "## 기본적인 반복(iterate) 구문(예: for문)을 실행"
      ]
    },
    {
      "cell_type": "code",
      "metadata": {
        "id": "fM359Fvkk-17",
        "colab_type": "code",
        "outputId": "7c21c449-45f1-4c50-bf77-eaeacd373e89",
        "colab": {
          "base_uri": "https://localhost:8080/",
          "height": 70
        }
      },
      "source": [
        "for k in a.keys():\n",
        "    print(k)"
      ],
      "execution_count": 0,
      "outputs": [
        {
          "output_type": "stream",
          "text": [
            "name\n",
            "phone\n",
            "birth\n"
          ],
          "name": "stdout"
        }
      ]
    },
    {
      "cell_type": "markdown",
      "metadata": {
        "id": "iF4piDc5lI2e",
        "colab_type": "text"
      },
      "source": [
        "## Value 리스트 만들기(values)\n"
      ]
    },
    {
      "cell_type": "code",
      "metadata": {
        "id": "W70rJRI7hsak",
        "colab_type": "code",
        "outputId": "f647e7f2-1bc6-46a6-f0e9-f68e2a6ac6a7",
        "colab": {
          "base_uri": "https://localhost:8080/",
          "height": 34
        }
      },
      "source": [
        "a.values()"
      ],
      "execution_count": 0,
      "outputs": [
        {
          "output_type": "execute_result",
          "data": {
            "text/plain": [
              "dict_values(['pey', '0119993323', '1118'])"
            ]
          },
          "metadata": {
            "tags": []
          },
          "execution_count": 17
        }
      ]
    },
    {
      "cell_type": "markdown",
      "metadata": {
        "id": "ioiyfEJqlZuU",
        "colab_type": "text"
      },
      "source": [
        "## Key, Value 쌍 얻기(items)"
      ]
    },
    {
      "cell_type": "code",
      "metadata": {
        "id": "n3iRd8S8lYaD",
        "colab_type": "code",
        "outputId": "bef127e0-82d9-4a45-f039-e3f1a2110d87",
        "colab": {
          "base_uri": "https://localhost:8080/",
          "height": 34
        }
      },
      "source": [
        "a.items()  # Key와 Value의 쌍을 튜플로 묶은 값을 dict_items 객체로 돌려준다."
      ],
      "execution_count": 0,
      "outputs": [
        {
          "output_type": "execute_result",
          "data": {
            "text/plain": [
              "dict_items([])"
            ]
          },
          "metadata": {
            "tags": []
          },
          "execution_count": 21
        }
      ]
    },
    {
      "cell_type": "markdown",
      "metadata": {
        "id": "ebRlIL_7lrvZ",
        "colab_type": "text"
      },
      "source": [
        "## Key: Value 쌍 모두 지우기(clear)"
      ]
    },
    {
      "cell_type": "code",
      "metadata": {
        "id": "4oBbrbibhxfA",
        "colab_type": "code",
        "outputId": "58ff4e3f-f906-4bd7-de7f-ec05086ac7ae",
        "colab": {
          "base_uri": "https://localhost:8080/",
          "height": 34
        }
      },
      "source": [
        "a.clear()\n",
        "a"
      ],
      "execution_count": 0,
      "outputs": [
        {
          "output_type": "execute_result",
          "data": {
            "text/plain": [
              "{}"
            ]
          },
          "metadata": {
            "tags": []
          },
          "execution_count": 20
        }
      ]
    },
    {
      "cell_type": "markdown",
      "metadata": {
        "id": "AhiOP6nLl091",
        "colab_type": "text"
      },
      "source": [
        "## Key로 Value얻기(get)"
      ]
    },
    {
      "cell_type": "code",
      "metadata": {
        "id": "JWE2aqualxcp",
        "colab_type": "code",
        "outputId": "1a4f2e5e-e8af-4253-bce9-2746c951f67f",
        "colab": {
          "base_uri": "https://localhost:8080/",
          "height": 52
        }
      },
      "source": [
        "a = {\"name\": \"pey\", \"phone\": \"0119993323\", \"birth\": \"1118\"}\n",
        "print(a.get(\"name\"))  # a['name']\n",
        "a.get(\"phone\")  # a['phone']\n",
        "\n",
        "# print(a[\"nokey\"])  # KeyError\n",
        "#\n",
        "# get(x, '디폴트 값')\n",
        "#"
      ],
      "execution_count": 0,
      "outputs": [
        {
          "output_type": "stream",
          "text": [
            "pey\n"
          ],
          "name": "stdout"
        },
        {
          "output_type": "execute_result",
          "data": {
            "text/plain": [
              "'0119993323'"
            ]
          },
          "metadata": {
            "tags": []
          },
          "execution_count": 27
        }
      ]
    },
    {
      "cell_type": "code",
      "metadata": {
        "id": "fXykkb6ymCEu",
        "colab_type": "code",
        "outputId": "8b97d305-0393-4051-8154-9d85b5fe507d",
        "colab": {
          "base_uri": "https://localhost:8080/",
          "height": 34
        }
      },
      "source": [
        "# 딕셔너리 안에 찾으려는 Key 값이 없을 경우\n",
        "# 미리 정해 둔 디폴트 값을 대신 가져오게 설정.\n",
        "#\n",
        "a.get(\"foo\", \"bar\")\n"
      ],
      "execution_count": 0,
      "outputs": [
        {
          "output_type": "execute_result",
          "data": {
            "text/plain": [
              "'pey'"
            ]
          },
          "metadata": {
            "tags": []
          },
          "execution_count": 30
        }
      ]
    },
    {
      "cell_type": "code",
      "metadata": {
        "id": "si24DVU8nC1B",
        "colab_type": "code",
        "outputId": "309f43e9-0665-4824-91aa-737a5fa43b8b",
        "colab": {
          "base_uri": "https://localhost:8080/",
          "height": 34
        }
      },
      "source": [
        "a.get(\"name\", \"bar\")"
      ],
      "execution_count": 0,
      "outputs": [
        {
          "output_type": "execute_result",
          "data": {
            "text/plain": [
              "'pey'"
            ]
          },
          "metadata": {
            "tags": []
          },
          "execution_count": 31
        }
      ]
    },
    {
      "cell_type": "markdown",
      "metadata": {
        "id": "0v97rzU9mVNI",
        "colab_type": "text"
      },
      "source": [
        "## 해당 Key가 딕셔너리 안에 있는지 조사하기(in)"
      ]
    },
    {
      "cell_type": "code",
      "metadata": {
        "id": "_5iGnrhTnG1J",
        "colab_type": "code",
        "outputId": "9ff408f1-4ecc-451c-cb00-c4d2d014d981",
        "colab": {
          "base_uri": "https://localhost:8080/",
          "height": 34
        }
      },
      "source": [
        "a = {\"name\": \"pey\", \"phone\": \"0119993323\", \"birth\": \"1118\"}\n",
        "\"name\" in a\n",
        "\"foo\" in a"
      ],
      "execution_count": 0,
      "outputs": [
        {
          "output_type": "execute_result",
          "data": {
            "text/plain": [
              "False"
            ]
          },
          "metadata": {
            "tags": []
          },
          "execution_count": 32
        }
      ]
    },
    {
      "cell_type": "code",
      "metadata": {
        "id": "TF5ZTz6fnHoD",
        "colab_type": "code",
        "colab": {}
      },
      "source": [
        ""
      ],
      "execution_count": 0,
      "outputs": []
    }
  ]
}