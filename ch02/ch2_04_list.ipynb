{
  "nbformat": 4,
  "nbformat_minor": 0,
  "metadata": {
    "colab": {
      "name": "ch2_04_list.ipynb",
      "provenance": [],
      "include_colab_link": true
    },
    "kernelspec": {
      "name": "python3",
      "display_name": "Python 3"
    }
  },
  "cells": [
    {
      "cell_type": "markdown",
      "metadata": {
        "id": "view-in-github",
        "colab_type": "text"
      },
      "source": [
        "<a href=\"https://colab.research.google.com/github/Gyunnni/SM12/blob/master/ch02/ch2_04_list.ipynb\" target=\"_parent\"><img src=\"https://colab.research.google.com/assets/colab-badge.svg\" alt=\"Open In Colab\"/></a>"
      ]
    },
    {
      "cell_type": "markdown",
      "metadata": {
        "id": "pt07yr-1Swe0",
        "colab_type": "text"
      },
      "source": [
        "#ch2_04_list.py\n"
      ]
    },
    {
      "cell_type": "markdown",
      "metadata": {
        "id": "zoJVGQPRTJ81",
        "colab_type": "text"
      },
      "source": [
        "## 여러 가지 리스트"
      ]
    },
    {
      "cell_type": "code",
      "metadata": {
        "id": "8pDg2sLpSsw6",
        "colab_type": "code",
        "outputId": "7d0c6894-2e8f-4750-c52d-dcba617febe9",
        "colab": {
          "base_uri": "https://localhost:8080/",
          "height": 145
        }
      },
      "source": [
        "print(\"리스트: list 란?\")\n",
        "odd = [1, 3, 5, 7, 9]\n",
        "\n",
        "a = []  # list 초기화\n",
        "b = [1, 2, 3]\n",
        "c = ['Life', 'is', 'too', 'short']\n",
        "d = [1, 2, 'Life', 'is']\n",
        "e = [1, 2, ['Life', 'is']]\n",
        "print(odd)\n",
        "print(b)\n",
        "print(c)\n",
        "print(d)\n",
        "print(e)\n",
        "a = list()\n",
        "print(a)   # []"
      ],
      "execution_count": 0,
      "outputs": [
        {
          "output_type": "stream",
          "text": [
            "리스트: list 란?\n",
            "[1, 3, 5, 7, 9]\n",
            "[1, 2, 3]\n",
            "['Life', 'is', 'too', 'short']\n",
            "[1, 2, 'Life', 'is']\n",
            "[1, 2, ['Life', 'is']]\n",
            "[]\n"
          ],
          "name": "stdout"
        }
      ]
    },
    {
      "cell_type": "markdown",
      "metadata": {
        "id": "xTXXjZ-zTaha",
        "colab_type": "text"
      },
      "source": [
        "##리스트: 리스트의 인덱싱과 슬라이싱"
      ]
    },
    {
      "cell_type": "code",
      "metadata": {
        "id": "glCNW1bbTW08",
        "colab_type": "code",
        "outputId": "e5e61cb1-8559-4011-fc9b-91fe30505c81",
        "colab": {
          "base_uri": "https://localhost:8080/",
          "height": 90
        }
      },
      "source": [
        "a = [1, 2, 3]\n",
        "print(a)\n",
        "print(a[0])\n",
        "#print(a[3]) --> 없으므로 오류가 발생!\n",
        "print(a[0]+a[2])\n",
        "print(a[-1])"
      ],
      "execution_count": 0,
      "outputs": [
        {
          "output_type": "stream",
          "text": [
            "[1, 2, 3]\n",
            "1\n",
            "4\n",
            "3\n"
          ],
          "name": "stdout"
        }
      ]
    },
    {
      "cell_type": "code",
      "metadata": {
        "id": "rkHisMRdWmGJ",
        "colab_type": "code",
        "outputId": "1df990c7-b4e2-4cca-ff96-7a82f71fb9e7",
        "colab": {
          "base_uri": "https://localhost:8080/",
          "height": 108
        }
      },
      "source": [
        "a = [1, 2, 3, ['a', 'b', 'c']]\n",
        "print(a[0])\n",
        "print(a[3])\n",
        "print(a[-1])\n",
        "# chaek this: a[0] + a[-1] -> TypeError\n",
        "# Indexing inner list\n",
        "print(a[-1][0])\n",
        "print(a[-1][-1])"
      ],
      "execution_count": 0,
      "outputs": [
        {
          "output_type": "stream",
          "text": [
            "1\n",
            "['a', 'b', 'c']\n",
            "['a', 'b', 'c']\n",
            "a\n",
            "c\n"
          ],
          "name": "stdout"
        }
      ]
    },
    {
      "cell_type": "markdown",
      "metadata": {
        "id": "bXvoB9D_TkTl",
        "colab_type": "text"
      },
      "source": [
        "## Indexing of triple list\n",
        "## 삼중 리스트에서 인덱싱하기"
      ]
    },
    {
      "cell_type": "code",
      "metadata": {
        "id": "B8L--GG_Tin3",
        "colab_type": "code",
        "outputId": "16108270-b6ad-475d-d69a-2c9216cc6a8a",
        "colab": {
          "base_uri": "https://localhost:8080/",
          "height": 72
        }
      },
      "source": [
        "a = [1, 2, ['a', 'b', ['Life', 'is']]]\n",
        "print(a[2])\n",
        "print(a[2][-1])\n",
        "print(a[2][-1][0])   # 'Life'\n",
        "#"
      ],
      "execution_count": 0,
      "outputs": [
        {
          "output_type": "stream",
          "text": [
            "['a', 'b', ['Life', 'is']]\n",
            "['Life', 'is']\n",
            "Life\n"
          ],
          "name": "stdout"
        }
      ]
    },
    {
      "cell_type": "markdown",
      "metadata": {
        "id": "aelxhtfdTx_q",
        "colab_type": "text"
      },
      "source": [
        "## 리스트의 슬라이싱"
      ]
    },
    {
      "cell_type": "code",
      "metadata": {
        "id": "9wVneYfATvl0",
        "colab_type": "code",
        "outputId": "641394fc-6f44-4b8b-cfd5-09fc35648858",
        "colab": {
          "base_uri": "https://localhost:8080/",
          "height": 108
        }
      },
      "source": [
        "a = [1, 2, 3, 4, 5]\n",
        "print(a[0:2])\n",
        "a = \"12345\"\n",
        "print(a[0:2])\n",
        "#\n",
        "a = [1, 2, 3, 4, 5]\n",
        "print(a[0:2])\n",
        "print(a[2:])\n",
        "print(a[0:4:2])  # a[start:end:step]"
      ],
      "execution_count": 0,
      "outputs": [
        {
          "output_type": "stream",
          "text": [
            "[1, 2]\n",
            "12\n",
            "[1, 2]\n",
            "[3, 4, 5]\n",
            "[1, 3]\n"
          ],
          "name": "stdout"
        }
      ]
    },
    {
      "cell_type": "markdown",
      "metadata": {
        "id": "eOGk53yzT3Fb",
        "colab_type": "text"
      },
      "source": [
        "## 중첩된 리스트에서 슬라이싱하기"
      ]
    },
    {
      "cell_type": "code",
      "metadata": {
        "id": "RxCjdlFrT2D5",
        "colab_type": "code",
        "outputId": "51e257fd-e90c-4926-f3ff-9e6489d1a063",
        "colab": {
          "base_uri": "https://localhost:8080/",
          "height": 54
        }
      },
      "source": [
        "a = [1, 2, 3, ['a', 'b', 'c'], 4, 5]\n",
        "print(a[2:5])\n",
        "print(a[3][:2])"
      ],
      "execution_count": 0,
      "outputs": [
        {
          "output_type": "stream",
          "text": [
            "[3, ['a', 'b', 'c'], 4]\n",
            "['a', 'b']\n"
          ],
          "name": "stdout"
        }
      ]
    },
    {
      "cell_type": "markdown",
      "metadata": {
        "id": "AhKkP-A3T8mG",
        "colab_type": "text"
      },
      "source": [
        "## 리스트: 인덱싱, 슬라이싱 연습"
      ]
    },
    {
      "cell_type": "code",
      "metadata": {
        "id": "U4HanFe5T79g",
        "colab_type": "code",
        "outputId": "ad4908bd-a7c2-4279-8981-2133176f9f7f",
        "colab": {
          "base_uri": "https://localhost:8080/",
          "height": 181
        }
      },
      "source": [
        "x = [1, 2, 3, 4, 5, 6, 7, 8, 9]\n",
        "print(x[0:3])\n",
        "print(x[3:])\n",
        "print(x[:6])\n",
        "print(x[0:6:2])  # x[:6:2]\n",
        "print(x[-1])\n",
        "print(x[-3])\n",
        "print(x[:-3])\n",
        "print(x[::-1])\n",
        "print(x[-3::-1])"
      ],
      "execution_count": 0,
      "outputs": [
        {
          "output_type": "stream",
          "text": [
            "[1, 2, 3]\n",
            "[4, 5, 6, 7, 8, 9]\n",
            "[1, 2, 3, 4, 5, 6]\n",
            "[1, 3, 5]\n",
            "9\n",
            "7\n",
            "[1, 2, 3, 4, 5, 6]\n",
            "[9, 8, 7, 6, 5, 4, 3, 2, 1]\n",
            "[7, 6, 5, 4, 3, 2, 1]\n"
          ],
          "name": "stdout"
        }
      ]
    },
    {
      "cell_type": "markdown",
      "metadata": {
        "id": "DORDk3dQUEig",
        "colab_type": "text"
      },
      "source": [
        "##리스트: 리스트 연산하기"
      ]
    },
    {
      "cell_type": "markdown",
      "metadata": {
        "id": "NEj4HmZIUSzN",
        "colab_type": "text"
      },
      "source": [
        "### 리스트 더하기(+)"
      ]
    },
    {
      "cell_type": "code",
      "metadata": {
        "id": "D807Zh0gUD4a",
        "colab_type": "code",
        "outputId": "3d381448-df04-4028-b4b0-d6bfafddfe10",
        "colab": {
          "base_uri": "https://localhost:8080/",
          "height": 35
        }
      },
      "source": [
        "a = [1, 2, 3]\n",
        "b = [4, 5, 6]\n",
        "print(a + b)"
      ],
      "execution_count": 0,
      "outputs": [
        {
          "output_type": "stream",
          "text": [
            "[1, 2, 3, 4, 5, 6]\n"
          ],
          "name": "stdout"
        }
      ]
    },
    {
      "cell_type": "markdown",
      "metadata": {
        "id": "1pxXGi3JUZ94",
        "colab_type": "text"
      },
      "source": [
        "### 리스트 반복하기(*)"
      ]
    },
    {
      "cell_type": "code",
      "metadata": {
        "id": "17ILzZX7UZUV",
        "colab_type": "code",
        "outputId": "32b29c3e-2285-46f2-89de-fc075df793f5",
        "colab": {
          "base_uri": "https://localhost:8080/",
          "height": 35
        }
      },
      "source": [
        "a * 3"
      ],
      "execution_count": 0,
      "outputs": [
        {
          "output_type": "execute_result",
          "data": {
            "text/plain": [
              "[1, 2, 3, 1, 2, 3, 1, 2, 3]"
            ]
          },
          "metadata": {
            "tags": []
          },
          "execution_count": 16
        }
      ]
    },
    {
      "cell_type": "markdown",
      "metadata": {
        "id": "NWKtt7DFUiID",
        "colab_type": "text"
      },
      "source": [
        "## 리스트 길이구하기"
      ]
    },
    {
      "cell_type": "code",
      "metadata": {
        "id": "IGRcn_AsUg13",
        "colab_type": "code",
        "outputId": "fa3aebcf-1923-46f7-bce9-82375c5285c4",
        "colab": {
          "base_uri": "https://localhost:8080/",
          "height": 35
        }
      },
      "source": [
        "len(a)"
      ],
      "execution_count": 0,
      "outputs": [
        {
          "output_type": "execute_result",
          "data": {
            "text/plain": [
              "3"
            ]
          },
          "metadata": {
            "tags": []
          },
          "execution_count": 17
        }
      ]
    },
    {
      "cell_type": "markdown",
      "metadata": {
        "id": "c8RKlmm9UrK9",
        "colab_type": "text"
      },
      "source": [
        "## 초보자가 범하기 쉬운 리스트 연산 오류"
      ]
    },
    {
      "cell_type": "code",
      "metadata": {
        "id": "LFpxrEw_UpyK",
        "colab_type": "code",
        "outputId": "14109aee-2659-49b4-e45d-e055d2ba766c",
        "colab": {
          "base_uri": "https://localhost:8080/",
          "height": 35
        }
      },
      "source": [
        "a = [1, 2, 3]\n",
        "#print(a[2] + \"hi\")배열과 문자열은 더하지 못하므로 오류 발생!\n",
        "str(a[2]) + \"hi\""
      ],
      "execution_count": 0,
      "outputs": [
        {
          "output_type": "execute_result",
          "data": {
            "text/plain": [
              "'3hi'"
            ]
          },
          "metadata": {
            "tags": []
          },
          "execution_count": 18
        }
      ]
    },
    {
      "cell_type": "markdown",
      "metadata": {
        "id": "jQ8Y9f5YU3sy",
        "colab_type": "text"
      },
      "source": [
        "## 리스트의 수정과 삭제"
      ]
    },
    {
      "cell_type": "code",
      "metadata": {
        "id": "5snuCq6kU11q",
        "colab_type": "code",
        "outputId": "e18583ba-71b3-4fd3-9eb8-437a9c42a716",
        "colab": {
          "base_uri": "https://localhost:8080/",
          "height": 35
        }
      },
      "source": [
        "a = [1, 2, 3]\n",
        "a[2] = 4  # list is mutable!!!\n",
        "a"
      ],
      "execution_count": 0,
      "outputs": [
        {
          "output_type": "execute_result",
          "data": {
            "text/plain": [
              "[1, 2, 4]"
            ]
          },
          "metadata": {
            "tags": []
          },
          "execution_count": 19
        }
      ]
    },
    {
      "cell_type": "markdown",
      "metadata": {
        "id": "DiBgC_pXU7pL",
        "colab_type": "text"
      },
      "source": [
        "## del 함수 사용해 리스트 요소 삭제하기"
      ]
    },
    {
      "cell_type": "code",
      "metadata": {
        "id": "Is-cI8FDU7Jg",
        "colab_type": "code",
        "outputId": "0685465c-5f65-49a0-9f7c-6fc09d521394",
        "colab": {
          "base_uri": "https://localhost:8080/",
          "height": 72
        }
      },
      "source": [
        "a = [1, 2, 3]\n",
        "del a[1]\n",
        "print(a)\n",
        "a = [1, 2, 3, 4, 5]\n",
        "del a[2:]\n",
        "print(a)\n",
        "\n",
        "\"\"\"\n",
        "Author: redwoods\n",
        "파이썬 코드: ch2_04_list.py\n",
        "\"\"\""
      ],
      "execution_count": 0,
      "outputs": [
        {
          "output_type": "stream",
          "text": [
            "[1, 3]\n",
            "[1, 2]\n"
          ],
          "name": "stdout"
        },
        {
          "output_type": "execute_result",
          "data": {
            "text/plain": [
              "'\\nAuthor: redwoods\\n파이썬 코드: ch2_04_list.py\\n'"
            ]
          },
          "metadata": {
            "tags": []
          },
          "execution_count": 20
        }
      ]
    },
    {
      "cell_type": "code",
      "metadata": {
        "id": "401mADISXnR3",
        "colab_type": "code",
        "colab": {}
      },
      "source": [
        ""
      ],
      "execution_count": 0,
      "outputs": []
    }
  ]
}