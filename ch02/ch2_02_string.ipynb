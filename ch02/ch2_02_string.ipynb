{
  "nbformat": 4,
  "nbformat_minor": 0,
  "metadata": {
    "colab": {
      "name": "ch2_02_string.ipynb",
      "provenance": [],
      "collapsed_sections": [],
      "include_colab_link": true
    },
    "kernelspec": {
      "name": "python3",
      "display_name": "Python 3"
    }
  },
  "cells": [
    {
      "cell_type": "markdown",
      "metadata": {
        "id": "view-in-github",
        "colab_type": "text"
      },
      "source": [
        "<a href=\"https://colab.research.google.com/github/Gyunnni/SM12/blob/master/ch02/ch2_02_string.ipynb\" target=\"_parent\"><img src=\"https://colab.research.google.com/assets/colab-badge.svg\" alt=\"Open In Colab\"/></a>"
      ]
    },
    {
      "cell_type": "markdown",
      "metadata": {
        "id": "ze5l-elWnw88",
        "colab_type": "text"
      },
      "source": [
        "# **파이썬: 문자열 활용**"
      ]
    },
    {
      "cell_type": "code",
      "metadata": {
        "id": "ExTcrFA0n7XH",
        "colab_type": "code",
        "outputId": "d9c9b40e-aba9-4439-ea59-eab541e86eeb",
        "colab": {
          "base_uri": "https://localhost:8080/",
          "height": 52
        }
      },
      "source": [
        "print(\"문자열: '\")\n",
        "food = \"Python's favorite food is perl\"\n",
        "food"
      ],
      "execution_count": 0,
      "outputs": [
        {
          "output_type": "stream",
          "text": [
            "문자열: '\n"
          ],
          "name": "stdout"
        },
        {
          "output_type": "execute_result",
          "data": {
            "text/plain": [
              "\"Python's favorite food is perl\""
            ]
          },
          "metadata": {
            "tags": []
          },
          "execution_count": 1
        }
      ]
    },
    {
      "cell_type": "code",
      "metadata": {
        "id": "FmQm7T8cn6Y-",
        "colab_type": "code",
        "outputId": "8605dbb2-299d-4e5c-97be-bc8870a35dfa",
        "colab": {
          "base_uri": "https://localhost:8080/",
          "height": 134
        }
      },
      "source": [
        "food = 'Python's favorite food is perl'  # 헷갈려서 SyntaxError가 뜬다."
      ],
      "execution_count": 0,
      "outputs": [
        {
          "output_type": "error",
          "ename": "SyntaxError",
          "evalue": "ignored",
          "traceback": [
            "\u001b[0;36m  File \u001b[0;32m\"<ipython-input-2-9a1d7fae7f09>\"\u001b[0;36m, line \u001b[0;32m1\u001b[0m\n\u001b[0;31m    food = 'Python's favorite food is perl'  # 헷갈려서 SyntaxError가 뜬다.\u001b[0m\n\u001b[0m                   ^\u001b[0m\n\u001b[0;31mSyntaxError\u001b[0m\u001b[0;31m:\u001b[0m invalid syntax\n"
          ]
        }
      ]
    },
    {
      "cell_type": "code",
      "metadata": {
        "id": "52W5QQVNoHbl",
        "colab_type": "code",
        "outputId": "3eee8279-fbe5-4d8b-9a25-468d0f50ca8f",
        "colab": {
          "base_uri": "https://localhost:8080/",
          "height": 34
        }
      },
      "source": [
        "say = '\"Python is very easy.\" he says.'\n",
        "#' '가\" \"안에 있거나 \" \"가 ' '안에 있어야 한다.\n",
        "#\\특수 문자를 쓸 때 같이 쓴다.\n",
        "food = 'Python\\'s favorite food is perl'\n",
        "say = \"\\\"Python is very easy.\\\" he says.\"\n",
        "#''는 \"\"로 \"\"는 ''로 바꿔준다.\n",
        "food,say"
      ],
      "execution_count": 0,
      "outputs": [
        {
          "output_type": "execute_result",
          "data": {
            "text/plain": [
              "(\"Python's favorite food is perl\", '\"Python is very easy.\" he says.')"
            ]
          },
          "metadata": {
            "tags": []
          },
          "execution_count": 6
        }
      ]
    },
    {
      "cell_type": "markdown",
      "metadata": {
        "id": "CMd8aErVpCz3",
        "colab_type": "text"
      },
      "source": [
        "#이스케이프 코드(제어 코드)"
      ]
    },
    {
      "cell_type": "code",
      "metadata": {
        "id": "abnPHavOoP0S",
        "colab_type": "code",
        "outputId": "852f6b1a-f349-4e9f-dde8-d10edf3dc9d3",
        "colab": {
          "base_uri": "https://localhost:8080/",
          "height": 70
        }
      },
      "source": [
        "print(\"문자열: 이스케이프 코드 이용\")\n",
        "multiline = \"Life is too short\\nYou need python\"\n",
        "multiline\n",
        "print(multiline)\n",
        "#You need python만 출력된다."
      ],
      "execution_count": 0,
      "outputs": [
        {
          "output_type": "stream",
          "text": [
            "문자열: 이스케이프 코드 이용\n",
            "Life is too short\n",
            "You need python\n"
          ],
          "name": "stdout"
        }
      ]
    },
    {
      "cell_type": "markdown",
      "metadata": {
        "id": "NMgQvvXgpVze",
        "colab_type": "text"
      },
      "source": [
        "#여러줄 문자열 처리"
      ]
    },
    {
      "cell_type": "code",
      "metadata": {
        "id": "1NdZVrUnpLtO",
        "colab_type": "code",
        "outputId": "85042cd3-a11d-4044-acd9-1149dceea66d",
        "colab": {
          "base_uri": "https://localhost:8080/",
          "height": 87
        }
      },
      "source": [
        "multiline = '''\n",
        "... Life is too short\n",
        "... You need python\n",
        "... '''\n",
        "multiline\n",
        "print(multiline)"
      ],
      "execution_count": 0,
      "outputs": [
        {
          "output_type": "stream",
          "text": [
            "\n",
            "Life is too short\n",
            "You need python\n",
            "\n"
          ],
          "name": "stdout"
        }
      ]
    },
    {
      "cell_type": "code",
      "metadata": {
        "id": "QuTx2vstpcXR",
        "colab_type": "code",
        "outputId": "edf6b450-2e55-4168-848d-890b8f0a632f",
        "colab": {
          "base_uri": "https://localhost:8080/",
          "height": 70
        }
      },
      "source": [
        "print(\"문자열 연산: 더하기\")\n",
        "head = \"Python\"\n",
        "tail = \" is fun!\"\n",
        "plus = head + tail\n",
        "\n",
        "print(\"문자열 연산: 곱하기\")\n",
        "a = \"python\"\n",
        "mod = a * 2\n",
        "\n",
        "plus,mod"
      ],
      "execution_count": 0,
      "outputs": [
        {
          "output_type": "stream",
          "text": [
            "문자열 연산: 더하기\n",
            "문자열 연산: 곱하기\n"
          ],
          "name": "stdout"
        },
        {
          "output_type": "execute_result",
          "data": {
            "text/plain": [
              "('Python is fun!', 'pythonpython')"
            ]
          },
          "metadata": {
            "tags": []
          },
          "execution_count": 11
        }
      ]
    },
    {
      "cell_type": "markdown",
      "metadata": {
        "id": "AB0bCdfAp2Y5",
        "colab_type": "text"
      },
      "source": [
        "multistring.py"
      ]
    },
    {
      "cell_type": "code",
      "metadata": {
        "id": "JJKSvUx2pkoo",
        "colab_type": "code",
        "outputId": "81f25de2-72c2-4484-d41e-522e352f29fd",
        "colab": {
          "base_uri": "https://localhost:8080/",
          "height": 70
        }
      },
      "source": [
        "print(\"=\" * 50)\n",
        "print(\"I am now coding Python!\")\n",
        "print(\"=\" * 50)"
      ],
      "execution_count": 0,
      "outputs": [
        {
          "output_type": "stream",
          "text": [
            "==================================================\n",
            "I am now coding Python!\n",
            "==================================================\n"
          ],
          "name": "stdout"
        }
      ]
    },
    {
      "cell_type": "markdown",
      "metadata": {
        "id": "oumagsftp8OU",
        "colab_type": "text"
      },
      "source": [
        "#내장함수: len(),길이 구하는 함수"
      ]
    },
    {
      "cell_type": "code",
      "metadata": {
        "id": "z-mhB6Uep5ul",
        "colab_type": "code",
        "outputId": "4c8a6d95-1f41-404b-f0df-a474923f2754",
        "colab": {
          "base_uri": "https://localhost:8080/",
          "height": 52
        }
      },
      "source": [
        "print(\"문자열 연산: 길이 구하기 - len()\")\n",
        "a = \"Life is too short\"\n",
        "len(a)"
      ],
      "execution_count": 0,
      "outputs": [
        {
          "output_type": "stream",
          "text": [
            "문자열 연산: 길이 구하기 - len()\n"
          ],
          "name": "stdout"
        },
        {
          "output_type": "execute_result",
          "data": {
            "text/plain": [
              "17"
            ]
          },
          "metadata": {
            "tags": []
          },
          "execution_count": 13
        }
      ]
    },
    {
      "cell_type": "markdown",
      "metadata": {
        "id": "6Vg8bOulqFVF",
        "colab_type": "text"
      },
      "source": [
        "#문자열 인덱싱과 슬라이싱"
      ]
    },
    {
      "cell_type": "code",
      "metadata": {
        "id": "vp1LxBn_qBex",
        "colab_type": "code",
        "outputId": "d405b7ba-1433-47b0-9214-4c0c43ac5544",
        "colab": {
          "base_uri": "https://localhost:8080/",
          "height": 52
        }
      },
      "source": [
        "print(\"문자열: 인덱싱이란?\")\n",
        "a = \"Life is too short, You need Python\"\n",
        "a[3],a[15]\n",
        "#데이터 처리 시 가장 중요하다.\n",
        "# \"파이썬은 0부터 숫자를 센다.\""
      ],
      "execution_count": 0,
      "outputs": [
        {
          "output_type": "stream",
          "text": [
            "문자열: 인덱싱이란?\n"
          ],
          "name": "stdout"
        },
        {
          "output_type": "execute_result",
          "data": {
            "text/plain": [
              "('e', 'r')"
            ]
          },
          "metadata": {
            "tags": []
          },
          "execution_count": 15
        }
      ]
    },
    {
      "cell_type": "code",
      "metadata": {
        "id": "hIwLPQl0qZUc",
        "colab_type": "code",
        "outputId": "9530c56e-f674-4c6b-db35-8f29ad89a6fd",
        "colab": {
          "base_uri": "https://localhost:8080/",
          "height": 52
        }
      },
      "source": [
        "print(\"문자열: 인덱싱 활용\")\n",
        "\n",
        "a = \"Life is too short, You need Python\"\n",
        "a[0],a[12],a[-1],a[-2],a[-5],a[-12]\n",
        "#-n은 맨 끝에서 센다."
      ],
      "execution_count": 0,
      "outputs": [
        {
          "output_type": "stream",
          "text": [
            "문자열: 인덱싱 활용\n"
          ],
          "name": "stdout"
        },
        {
          "output_type": "execute_result",
          "data": {
            "text/plain": [
              "('L', 's', 'n', 'o', 'y', ' ')"
            ]
          },
          "metadata": {
            "tags": []
          },
          "execution_count": 17
        }
      ]
    },
    {
      "cell_type": "markdown",
      "metadata": {
        "id": "OTMX_YbYqqaa",
        "colab_type": "text"
      },
      "source": [
        "#문자열: 슬라이싱"
      ]
    },
    {
      "cell_type": "code",
      "metadata": {
        "id": "MIyG_VdvqLOP",
        "colab_type": "code",
        "outputId": "ab5ee22d-5e24-4455-e3eb-de1d877a59d2",
        "colab": {
          "base_uri": "https://localhost:8080/",
          "height": 194
        }
      },
      "source": [
        "print(\"문자열: 슬라이싱이란?\")\n",
        "a = \"Life is too short, You need Python\"\n",
        "# Life 를 뽑아낼려면 어떻게?\n",
        "b = a[0] + a[1] + a[2] + a[3]  # 문자열 뎌하기 연산\n",
        "b\n",
        "\n",
        "# : 의 사용\n",
        "a[0:4],a[0:5],a[5:7],a[12:17],a[:4],a[19:],a[:17],a[:],a[19:-7]\n",
        "#slcing"
      ],
      "execution_count": 0,
      "outputs": [
        {
          "output_type": "stream",
          "text": [
            "문자열: 슬라이싱이란?\n"
          ],
          "name": "stdout"
        },
        {
          "output_type": "execute_result",
          "data": {
            "text/plain": [
              "('Life',\n",
              " 'Life ',\n",
              " 'is',\n",
              " 'short',\n",
              " 'Life',\n",
              " 'You need Python',\n",
              " 'Life is too short',\n",
              " 'Life is too short, You need Python',\n",
              " 'You need')"
            ]
          },
          "metadata": {
            "tags": []
          },
          "execution_count": 20
        }
      ]
    },
    {
      "cell_type": "markdown",
      "metadata": {
        "id": "yA1CTyyHrQs_",
        "colab_type": "text"
      },
      "source": [
        "#문자열:슬라이싱 응용"
      ]
    },
    {
      "cell_type": "code",
      "metadata": {
        "id": "2LIVri8CrUIx",
        "colab_type": "code",
        "outputId": "809d2b6f-f714-45da-d31e-1189a0168bac",
        "colab": {
          "base_uri": "https://localhost:8080/",
          "height": 52
        }
      },
      "source": [
        "print(\"문자열: 슬라이싱 응용?\")\n",
        "a = \"20190909Sunny\"\n",
        "date = a[:8]\n",
        "weather = a[8:]\n",
        "date,weather"
      ],
      "execution_count": 0,
      "outputs": [
        {
          "output_type": "stream",
          "text": [
            "문자열: 슬라이싱 응용?\n"
          ],
          "name": "stdout"
        },
        {
          "output_type": "execute_result",
          "data": {
            "text/plain": [
              "('20190909', 'Sunny')"
            ]
          },
          "metadata": {
            "tags": []
          },
          "execution_count": 22
        }
      ]
    },
    {
      "cell_type": "code",
      "metadata": {
        "id": "atB6PpQLrbPr",
        "colab_type": "code",
        "outputId": "877c432c-c767-4845-85c2-0ba24574f4a0",
        "colab": {
          "base_uri": "https://localhost:8080/",
          "height": 34
        }
      },
      "source": [
        "a = \"20190917Rainy\"\n",
        "year = a[:4]\n",
        "day = a[4:8]\n",
        "weather = a[8:]\n",
        "year,day,weather"
      ],
      "execution_count": 0,
      "outputs": [
        {
          "output_type": "execute_result",
          "data": {
            "text/plain": [
              "('2019', '0917', 'Rainy')"
            ]
          },
          "metadata": {
            "tags": []
          },
          "execution_count": 23
        }
      ]
    },
    {
      "cell_type": "markdown",
      "metadata": {
        "id": "MCvag9rfrgRc",
        "colab_type": "text"
      },
      "source": [
        "#문자열 바꾸기 - Error"
      ]
    },
    {
      "cell_type": "code",
      "metadata": {
        "id": "-1R1VVRZrjCt",
        "colab_type": "code",
        "outputId": "ae815e1b-93f1-43bc-cb7f-8c334109ece7",
        "colab": {
          "base_uri": "https://localhost:8080/",
          "height": 205
        }
      },
      "source": [
        "a = \"Pithon\"\n",
        "a[1]\n",
        "a[1] = 'y'  # Error (immutable(불변)한 자료형)"
      ],
      "execution_count": 0,
      "outputs": [
        {
          "output_type": "error",
          "ename": "TypeError",
          "evalue": "ignored",
          "traceback": [
            "\u001b[0;31m---------------------------------------------------------------------------\u001b[0m",
            "\u001b[0;31mTypeError\u001b[0m                                 Traceback (most recent call last)",
            "\u001b[0;32m<ipython-input-24-8e04aa1e4ecd>\u001b[0m in \u001b[0;36m<module>\u001b[0;34m()\u001b[0m\n\u001b[1;32m      1\u001b[0m \u001b[0ma\u001b[0m \u001b[0;34m=\u001b[0m \u001b[0;34m\"Pithon\"\u001b[0m\u001b[0;34m\u001b[0m\u001b[0;34m\u001b[0m\u001b[0m\n\u001b[1;32m      2\u001b[0m \u001b[0ma\u001b[0m\u001b[0;34m[\u001b[0m\u001b[0;36m1\u001b[0m\u001b[0;34m]\u001b[0m\u001b[0;34m\u001b[0m\u001b[0;34m\u001b[0m\u001b[0m\n\u001b[0;32m----> 3\u001b[0;31m \u001b[0ma\u001b[0m\u001b[0;34m[\u001b[0m\u001b[0;36m1\u001b[0m\u001b[0;34m]\u001b[0m \u001b[0;34m=\u001b[0m \u001b[0;34m'y'\u001b[0m  \u001b[0;31m# Error (immutable(불변)한 자료형)\u001b[0m\u001b[0;34m\u001b[0m\u001b[0;34m\u001b[0m\u001b[0m\n\u001b[0m",
            "\u001b[0;31mTypeError\u001b[0m: 'str' object does not support item assignment"
          ]
        }
      ]
    },
    {
      "cell_type": "code",
      "metadata": {
        "id": "Neb8HlQBrri4",
        "colab_type": "code",
        "outputId": "a5209ae4-4267-4990-c8dc-b5591271061d",
        "colab": {
          "base_uri": "https://localhost:8080/",
          "height": 34
        }
      },
      "source": [
        "a = \"Pithon\"\n",
        "a[:1]\n",
        "a[2:]\n",
        "a[:1] + 'y' + a[2:]  # Python"
      ],
      "execution_count": 0,
      "outputs": [
        {
          "output_type": "execute_result",
          "data": {
            "text/plain": [
              "'Python'"
            ]
          },
          "metadata": {
            "tags": []
          },
          "execution_count": 25
        }
      ]
    },
    {
      "cell_type": "markdown",
      "metadata": {
        "id": "WxeEvfarrxfy",
        "colab_type": "text"
      },
      "source": [
        "#문자열: 포매팅이란?"
      ]
    },
    {
      "cell_type": "code",
      "metadata": {
        "id": "wH-tjt8bryCh",
        "colab_type": "code",
        "outputId": "51c41cff-b549-47c9-fe23-7bfd233d2fa5",
        "colab": {
          "base_uri": "https://localhost:8080/",
          "height": 34
        }
      },
      "source": [
        "# 1. 숫자 바로 대입\n",
        "\"I eat %d apples.\" % 3\n"
      ],
      "execution_count": 0,
      "outputs": [
        {
          "output_type": "execute_result",
          "data": {
            "text/plain": [
              "'I eat 3 apples.'"
            ]
          },
          "metadata": {
            "tags": []
          },
          "execution_count": 29
        }
      ]
    },
    {
      "cell_type": "code",
      "metadata": {
        "id": "kXAcyqY-r3Ko",
        "colab_type": "code",
        "outputId": "b89aa408-a50c-4df6-a846-e990ecc75f35",
        "colab": {
          "base_uri": "https://localhost:8080/",
          "height": 34
        }
      },
      "source": [
        "# 2. 문자열 바로 대입\n",
        "\"I eat %s apples.\" % \"five\"\n",
        "#문자열의 형식을 지정해준다.\n"
      ],
      "execution_count": 0,
      "outputs": [
        {
          "output_type": "execute_result",
          "data": {
            "text/plain": [
              "'I eat five apples.'"
            ]
          },
          "metadata": {
            "tags": []
          },
          "execution_count": 30
        }
      ]
    },
    {
      "cell_type": "code",
      "metadata": {
        "id": "PoPEm18VsEKd",
        "colab_type": "code",
        "outputId": "90ef13df-2368-4435-c05a-34f68e81bfed",
        "colab": {
          "base_uri": "https://localhost:8080/",
          "height": 34
        }
      },
      "source": [
        "\n",
        "# 3. 숫자 값을 나타내는 변수로 대입\n",
        "number = 3\n",
        "\"I eat %d apples.\" % number"
      ],
      "execution_count": 0,
      "outputs": [
        {
          "output_type": "execute_result",
          "data": {
            "text/plain": [
              "'I eat 3 apples.'"
            ]
          },
          "metadata": {
            "tags": []
          },
          "execution_count": 31
        }
      ]
    },
    {
      "cell_type": "markdown",
      "metadata": {
        "id": "zfAKy8cHsE2d",
        "colab_type": "text"
      },
      "source": [
        "# 4. 2개 이상의 값 넣기\n"
      ]
    },
    {
      "cell_type": "code",
      "metadata": {
        "id": "SyMK3vWusJ_z",
        "colab_type": "code",
        "outputId": "bc3695e2-ef9c-4a2b-b0fa-a5583e715a17",
        "colab": {
          "base_uri": "https://localhost:8080/",
          "height": 205
        }
      },
      "source": [
        "number = 10\n",
        "day = \"three\"\n",
        "\"I ate %d apples. so I was sick for %s days.\" % number  # , day   # Error\n"
      ],
      "execution_count": 0,
      "outputs": [
        {
          "output_type": "error",
          "ename": "TypeError",
          "evalue": "ignored",
          "traceback": [
            "\u001b[0;31m---------------------------------------------------------------------------\u001b[0m",
            "\u001b[0;31mTypeError\u001b[0m                                 Traceback (most recent call last)",
            "\u001b[0;32m<ipython-input-52-cd3a87fc3a07>\u001b[0m in \u001b[0;36m<module>\u001b[0;34m()\u001b[0m\n\u001b[1;32m      1\u001b[0m \u001b[0mnumber\u001b[0m \u001b[0;34m=\u001b[0m \u001b[0;36m10\u001b[0m\u001b[0;34m\u001b[0m\u001b[0;34m\u001b[0m\u001b[0m\n\u001b[1;32m      2\u001b[0m \u001b[0mday\u001b[0m \u001b[0;34m=\u001b[0m \u001b[0;34m\"three\"\u001b[0m\u001b[0;34m\u001b[0m\u001b[0;34m\u001b[0m\u001b[0m\n\u001b[0;32m----> 3\u001b[0;31m \u001b[0;34m\"I ate %d apples. so I was sick for %s days.\"\u001b[0m \u001b[0;34m%\u001b[0m \u001b[0mnumber\u001b[0m  \u001b[0;31m# , day   # Error\u001b[0m\u001b[0;34m\u001b[0m\u001b[0;34m\u001b[0m\u001b[0m\n\u001b[0m",
            "\u001b[0;31mTypeError\u001b[0m: not enough arguments for format string"
          ]
        }
      ]
    },
    {
      "cell_type": "code",
      "metadata": {
        "id": "0z0qxUbbwWrF",
        "colab_type": "code",
        "outputId": "080629e2-ba11-4d53-d945-d1f2e44507e2",
        "colab": {
          "base_uri": "https://localhost:8080/",
          "height": 34
        }
      },
      "source": [
        "\"I ate %d apples. so I was sick for %s days.\" % (number, day)\n",
        "# 소괄호 안에 콤마(,)로 구분하여 각각의 값을 넣어 준다."
      ],
      "execution_count": 0,
      "outputs": [
        {
          "output_type": "execute_result",
          "data": {
            "text/plain": [
              "'I ate 10 apples. so I was sick for three days.'"
            ]
          },
          "metadata": {
            "tags": []
          },
          "execution_count": 53
        }
      ]
    },
    {
      "cell_type": "markdown",
      "metadata": {
        "id": "-r6EUSImsRGl",
        "colab_type": "text"
      },
      "source": [
        "#문자열: 포맷 코드"
      ]
    },
    {
      "cell_type": "code",
      "metadata": {
        "id": "3WqWnQ9BsMwu",
        "colab_type": "code",
        "outputId": "338d70b2-88cc-4606-fc2f-2959a11aae54",
        "colab": {
          "base_uri": "https://localhost:8080/",
          "height": 34
        }
      },
      "source": [
        "# %d, %s, %c, %f, %o, %x, %%\n",
        "# %s, 묵시적 형변환\n",
        "\"I have %s apples\" % 3,\"rate is %s\" % 3.234"
      ],
      "execution_count": 0,
      "outputs": [
        {
          "output_type": "execute_result",
          "data": {
            "text/plain": [
              "('I have 3 apples', 'rate is 3.234')"
            ]
          },
          "metadata": {
            "tags": []
          },
          "execution_count": 36
        }
      ]
    },
    {
      "cell_type": "code",
      "metadata": {
        "id": "WzkMKjavsU_9",
        "colab_type": "code",
        "outputId": "79b4688c-c645-4263-a84e-a2091617dd93",
        "colab": {
          "base_uri": "https://localhost:8080/",
          "height": 187
        }
      },
      "source": [
        "\"Error is %d%.\" % 98\n",
        "#Error"
      ],
      "execution_count": 0,
      "outputs": [
        {
          "output_type": "error",
          "ename": "ValueError",
          "evalue": "ignored",
          "traceback": [
            "\u001b[0;31m---------------------------------------------------------------------------\u001b[0m",
            "\u001b[0;31mValueError\u001b[0m                                Traceback (most recent call last)",
            "\u001b[0;32m<ipython-input-37-f238c3b1eecb>\u001b[0m in \u001b[0;36m<module>\u001b[0;34m()\u001b[0m\n\u001b[0;32m----> 1\u001b[0;31m \u001b[0;34m\"Error is %d%.\"\u001b[0m \u001b[0;34m%\u001b[0m \u001b[0;36m98\u001b[0m\u001b[0;34m\u001b[0m\u001b[0;34m\u001b[0m\u001b[0m\n\u001b[0m\u001b[1;32m      2\u001b[0m \u001b[0;31m#Error\u001b[0m\u001b[0;34m\u001b[0m\u001b[0;34m\u001b[0m\u001b[0;34m\u001b[0m\u001b[0m\n",
            "\u001b[0;31mValueError\u001b[0m: incomplete format"
          ]
        }
      ]
    },
    {
      "cell_type": "code",
      "metadata": {
        "id": "0DKdqUM9scEd",
        "colab_type": "code",
        "outputId": "a14c6be1-71ae-4e15-ac7a-4e6fde3bc2c0",
        "colab": {
          "base_uri": "https://localhost:8080/",
          "height": 34
        }
      },
      "source": [
        "\"Error is %d%%.\" % 98\n",
        "#%%두개를 써서 98%를 나타낸다."
      ],
      "execution_count": 0,
      "outputs": [
        {
          "output_type": "execute_result",
          "data": {
            "text/plain": [
              "'Error is 98%.'"
            ]
          },
          "metadata": {
            "tags": []
          },
          "execution_count": 38
        }
      ]
    },
    {
      "cell_type": "markdown",
      "metadata": {
        "id": "ujlvGtYWsl_b",
        "colab_type": "text"
      },
      "source": [
        "#문자열: 포맷 코드와 숫자 함께 사용하기"
      ]
    },
    {
      "cell_type": "code",
      "metadata": {
        "id": "Jep8AAdTsj3b",
        "colab_type": "code",
        "outputId": "8bdb1dee-c549-4622-b355-931af82448ce",
        "colab": {
          "base_uri": "https://localhost:8080/",
          "height": 34
        }
      },
      "source": [
        "# 1. 정렬과 공백\n",
        "\"%10s\" % \"hi\"\n"
      ],
      "execution_count": 0,
      "outputs": [
        {
          "output_type": "execute_result",
          "data": {
            "text/plain": [
              "'        hi'"
            ]
          },
          "metadata": {
            "tags": []
          },
          "execution_count": 40
        }
      ]
    },
    {
      "cell_type": "code",
      "metadata": {
        "id": "BexOAnz8saAk",
        "colab_type": "code",
        "outputId": "fe9efad7-c02c-4e9b-fade-77923e7f4b67",
        "colab": {
          "base_uri": "https://localhost:8080/",
          "height": 34
        }
      },
      "source": [
        "\"%-10sjane.\" % \"hi\""
      ],
      "execution_count": 0,
      "outputs": [
        {
          "output_type": "execute_result",
          "data": {
            "text/plain": [
              "'hi        jane.'"
            ]
          },
          "metadata": {
            "tags": []
          },
          "execution_count": 41
        }
      ]
    },
    {
      "cell_type": "code",
      "metadata": {
        "id": "-sEXjdsmsrsN",
        "colab_type": "code",
        "outputId": "12e11a4c-70a1-4438-d5ad-b5b367060280",
        "colab": {
          "base_uri": "https://localhost:8080/",
          "height": 52
        }
      },
      "source": [
        "print(\"%0.4f\" % 3.42134234)\n",
        "print(\"%10.4f\" % 3.42134234)"
      ],
      "execution_count": 0,
      "outputs": [
        {
          "output_type": "stream",
          "text": [
            "3.4213\n",
            "    3.4213\n"
          ],
          "name": "stdout"
        }
      ]
    },
    {
      "cell_type": "markdown",
      "metadata": {
        "id": "vYKPNrS7s7Nz",
        "colab_type": "text"
      },
      "source": [
        "#문자열: format 함수를 사용한 포매팅"
      ]
    },
    {
      "cell_type": "code",
      "metadata": {
        "id": "X33Y5jjVs3I4",
        "colab_type": "code",
        "outputId": "e174caf8-0e20-41db-8ba7-af4e741d7446",
        "colab": {
          "base_uri": "https://localhost:8080/",
          "height": 336
        }
      },
      "source": [
        "# 1. 숫자 바로 대입하기\n",
        "print(\"I eat {0} apples\".format(3))\n",
        "\n",
        "#{0} ->하나만 받는다는 의미\n",
        "print(\"I eat {0} {1} apples\".format(3, 4))\n",
        "\n",
        "# 2. 문자열 바로 대입하기\n",
        "print(\"I eat {0} apples\".format(\"five\"))\n",
        "print(\"I eat {0} apples from {1} boxes\".format(\"five\", \"three\"))\n",
        "\n",
        "# 3. 숫자 값을 가진 변수로 대입하기\n",
        "number = 3\n",
        "print(\"I eat {0} apples\".format(number))\n",
        "print(\"I eat {0} apples\".format(number + 1))\n",
        "\n",
        "# 2개 이상의 값 넣기\n",
        "number = 10\n",
        "day = \"three\"\n",
        "print(\"I ate {0} apples. so I was sick for {1} days.\".format(number, day))\n",
        "\n",
        "# 이름으로 넣기\n",
        "print(\"I ate {number} apples. so I was sick for {day} days.\".format(number=10, day=3))\n",
        "#format안에 변수를 지정할 수 있다.\n",
        "\n",
        "# 인덱스와 이름을 혼용해서 넣기\n",
        "print(\"I ate {0} apples. so I was sick for {day} days.\".format(10, day=3))\n",
        "#\n",
        "######################################\n",
        "\n",
        "##10칸을 잡아서 좌측 정렬\n",
        "print(\"{0:<10}\".format(\"hi\"))\n",
        "\n",
        "\n",
        "#10칸을 잡아서 우측 정렬\n",
        "print(\"{0:>10}\".format(\"hi\"))\n",
        "\n",
        "\n",
        "# 가운데 정렬\n",
        "print(\"{0:^10}\".format(\"hi\"))\n",
        "\n",
        "# 공백 채우기\n",
        "print(\"{0:=^10}\".format(\"hi\"))\n",
        "print(\"{0:!<10}\".format(\"hi\"))\n",
        "# 도전하기\n",
        "print(\"{0:<10}{1:>10}\".format(\"hi\",'comsi'))\n",
        "\n",
        "\n",
        "#########################################\n",
        "\n",
        "# 소수점 표현하기\n",
        "y = 3.42134234\n",
        "print(\"{0:0.4f}\".format(y))\n",
        "print(\"{0:10.4f}\".format(y))\n",
        "# { 또는 } 문자 표현하기\n",
        "print(\"{{ and }}\".format())"
      ],
      "execution_count": 0,
      "outputs": [
        {
          "output_type": "stream",
          "text": [
            "I eat 3 apples\n",
            "I eat 3 4 apples\n",
            "I eat five apples\n",
            "I eat five apples from three boxes\n",
            "I eat 3 apples\n",
            "I eat 4 apples\n",
            "I ate 10 apples. so I was sick for three days.\n",
            "I ate 10 apples. so I was sick for 3 days.\n",
            "I ate 10 apples. so I was sick for 3 days.\n",
            "hi        \n",
            "        hi\n",
            "    hi    \n",
            "====hi====\n",
            "hi!!!!!!!!\n",
            "hi             comsi\n",
            "3.4213\n",
            "    3.4213\n",
            "{ and }\n"
          ],
          "name": "stdout"
        }
      ]
    },
    {
      "cell_type": "markdown",
      "metadata": {
        "id": "RlV2Gct-tsBk",
        "colab_type": "text"
      },
      "source": [
        "#f 문자열 포매팅 format() 대체"
      ]
    },
    {
      "cell_type": "code",
      "metadata": {
        "id": "HOgl-ml2tvJ9",
        "colab_type": "code",
        "outputId": "758e9389-8752-4b74-fba0-cd9a7c5c57a1",
        "colab": {
          "base_uri": "https://localhost:8080/",
          "height": 265
        }
      },
      "source": [
        "print(\"문자열: f 문자열 포매팅\")\n",
        "name = \"홍길동\"\n",
        "age = 30\n",
        "print(f\"나의 이름은 {name}입니다. 나이는 {age}입니다.\")\n",
        "\n",
        "\n",
        "age = 30\n",
        "print(f\"나는 내년이면 {age+1}살이 된다.\")\n",
        "\n",
        "# 딕셔너리는 f 문자열 포매팅에서 다음과 같이 사용\n",
        "d = {\"name\": \"홍길동\", \"age\": 30}\n",
        "print(f'나의 이름은 {d[\"name\"]}입니다. 나이는 {d[\"age\"]}입니다.')\n",
        "\n",
        "\n"
      ],
      "execution_count": 0,
      "outputs": [
        {
          "output_type": "stream",
          "text": [
            "문자열: f 문자열 포매팅\n",
            "나의 이름은 홍길동입니다. 나이는 30입니다.\n",
            "나는 내년이면 31살이 된다.\n",
            "나의 이름은 홍길동입니다. 나이는 30입니다.\n",
            "hi        \n",
            "        hi\n",
            "    hi    \n",
            "3.4213\n",
            "    3.4213\n",
            "{ and }\n",
            "문자열: 관련 내장 함수들\n",
            "2\n",
            "14\n",
            "-1\n"
          ],
          "name": "stdout"
        }
      ]
    },
    {
      "cell_type": "markdown",
      "metadata": {
        "id": "2REUpy33vriJ",
        "colab_type": "text"
      },
      "source": [
        "# 정렬"
      ]
    },
    {
      "cell_type": "code",
      "metadata": {
        "id": "LULw5CcPvqPc",
        "colab_type": "code",
        "colab": {}
      },
      "source": [
        "\n",
        "print(f'{\"hi\":<10}')  # 왼쪽 정렬\n",
        "print(f'{\"hi\":>10}')  # 오른쪽 정렬\n",
        "print(f'{\"hi\":^10}') # 가운데 정렬\n"
      ],
      "execution_count": 0,
      "outputs": []
    },
    {
      "cell_type": "markdown",
      "metadata": {
        "id": "LJ_fTkHVwgFw",
        "colab_type": "text"
      },
      "source": [
        "#공백 채우기"
      ]
    },
    {
      "cell_type": "code",
      "metadata": {
        "id": "NiK9obUSwcV1",
        "colab_type": "code",
        "colab": {}
      },
      "source": [
        "\n",
        "y = 3.42134234\n",
        "print(f\"{y:0.4f}\")  # 소수점 4자리까지만 표현\n",
        "print(f\"{y:10.4f}\")  # 소수점 4자리까지 표현하고 총 자리수를 10으로 맞춤\n",
        "# { } 문자를 표시\n",
        "print(f\"{{ and }}\")\n",
        "\n",
        "##############################################\n",
        "print(\"문자열: 관련 내장 함수들\")\n",
        "# 문자 개수 세기(count)\n",
        "a = \"hobby\"\n",
        "print(a.count(\"b\"))\n",
        "\n",
        "\n",
        "# 위치 알려주기1(find)\n",
        "a = \"Python is the best choice\"\n",
        "print(a.find(\"b\"))\n",
        "print(a.find(\"k\"))\n",
        "# what value? -1\n"
      ],
      "execution_count": 0,
      "outputs": []
    },
    {
      "cell_type": "markdown",
      "metadata": {
        "id": "91L9kZg0vZjp",
        "colab_type": "text"
      },
      "source": [
        "#위치 알려주기2(index)"
      ]
    },
    {
      "cell_type": "code",
      "metadata": {
        "id": "XjTOkCt_tppI",
        "colab_type": "code",
        "outputId": "7f8aa7ed-3b70-4849-f33e-635bcc8fab29",
        "colab": {
          "base_uri": "https://localhost:8080/",
          "height": 241
        }
      },
      "source": [
        "\n",
        "a = \"Life is too short\"\n",
        "print(a.index(\"t\"))\n",
        "print(a.index(\"k\"))\n",
        "#index는 해당 문자가 없으면 Error가 발생한다.\n"
      ],
      "execution_count": 0,
      "outputs": [
        {
          "output_type": "stream",
          "text": [
            "8\n"
          ],
          "name": "stdout"
        },
        {
          "output_type": "error",
          "ename": "ValueError",
          "evalue": "ignored",
          "traceback": [
            "\u001b[0;31m---------------------------------------------------------------------------\u001b[0m",
            "\u001b[0;31mValueError\u001b[0m                                Traceback (most recent call last)",
            "\u001b[0;32m<ipython-input-49-4d32d829f219>\u001b[0m in \u001b[0;36m<module>\u001b[0;34m()\u001b[0m\n\u001b[1;32m      1\u001b[0m \u001b[0ma\u001b[0m \u001b[0;34m=\u001b[0m \u001b[0;34m\"Life is too short\"\u001b[0m\u001b[0;34m\u001b[0m\u001b[0;34m\u001b[0m\u001b[0m\n\u001b[1;32m      2\u001b[0m \u001b[0mprint\u001b[0m\u001b[0;34m(\u001b[0m\u001b[0ma\u001b[0m\u001b[0;34m.\u001b[0m\u001b[0mindex\u001b[0m\u001b[0;34m(\u001b[0m\u001b[0;34m\"t\"\u001b[0m\u001b[0;34m)\u001b[0m\u001b[0;34m)\u001b[0m\u001b[0;34m\u001b[0m\u001b[0;34m\u001b[0m\u001b[0m\n\u001b[0;32m----> 3\u001b[0;31m \u001b[0mprint\u001b[0m\u001b[0;34m(\u001b[0m\u001b[0ma\u001b[0m\u001b[0;34m.\u001b[0m\u001b[0mindex\u001b[0m\u001b[0;34m(\u001b[0m\u001b[0;34m\"k\"\u001b[0m\u001b[0;34m)\u001b[0m\u001b[0;34m)\u001b[0m\u001b[0;34m\u001b[0m\u001b[0;34m\u001b[0m\u001b[0m\n\u001b[0m\u001b[1;32m      4\u001b[0m \u001b[0;31m#index는 해당 문자가 없으면 Error가 발생한다.\u001b[0m\u001b[0;34m\u001b[0m\u001b[0;34m\u001b[0m\u001b[0;34m\u001b[0m\u001b[0m\n",
            "\u001b[0;31mValueError\u001b[0m: substring not found"
          ]
        }
      ]
    },
    {
      "cell_type": "code",
      "metadata": {
        "id": "rvWdK0T-u-AR",
        "colab_type": "code",
        "outputId": "40de5533-bfe4-4b1f-da8d-929dd3b41866",
        "colab": {
          "base_uri": "https://localhost:8080/",
          "height": 230
        }
      },
      "source": [
        "\n",
        "# 문자열 삽입(join)\n",
        "print(\",\".join(\"abcd\"))\n",
        "#'a,b,c,d'\n",
        "print(\",\".join([\"a\", \"b\", \"c\", \"d\"]))\n",
        "#'a,b,c,d'\n",
        "# 소문자를 대문자로 바꾸기(upper)\n",
        "a = \"hi\"\n",
        "print(a.upper())\n",
        "# 대문자를 소문자로 바꾸기(lower)\n",
        "a = \"IoT\"\n",
        "print(a.lower())\n",
        "# 왼쪽 공백 지우기(lstrip)\n",
        "a = \" hi \"\n",
        "print(a.lstrip())\n",
        "# 오른쪽 공백 지우기(rstrip)\n",
        "print(a.rstrip())\n",
        "# 양쪽 공백 지우기(strip)\n",
        "print(a.strip())\n",
        "\n",
        "# 문자열 바꾸기(replace)\n",
        "a = \"Life is too short\"\n",
        "print(a.replace(\"Life\", \"Your leg\"))\n",
        "\n",
        "# 문자열 나누기(split) -> 리스트로 변환하여 반환\n",
        "a = \"Life is too short\"\n",
        "print(a.split())\n",
        "b = \"a:b:c:d\"\n",
        "print(b.split(\":\"))\n",
        "\n",
        "#### 도전하기 #####\n",
        "# format 함수 또는 f 문자열 포매팅을 이용해서 '!!!python!!!' 문자열을 출력해보시오.\n",
        "print(\"{0:!^12}\".format(\"python\"))\n",
        "#'!!!python!!!'\n",
        "print(f'{\"python\":!^12}')\n",
        "#중간고사!!!!!!!!!!!!!!!!!!!!!!!!!!!!!!!!!!!!!!!!"
      ],
      "execution_count": 0,
      "outputs": [
        {
          "output_type": "stream",
          "text": [
            "a,b,c,d\n",
            "a,b,c,d\n",
            "HI\n",
            "iot\n",
            "hi \n",
            " hi\n",
            "hi\n",
            "Your leg is too short\n",
            "['Life', 'is', 'too', 'short']\n",
            "['a', 'b', 'c', 'd']\n",
            "!!!python!!!\n",
            "!!!python!!!\n"
          ],
          "name": "stdout"
        }
      ]
    },
    {
      "cell_type": "code",
      "metadata": {
        "id": "ZYWdsH5yvMtD",
        "colab_type": "code",
        "colab": {}
      },
      "source": [
        ""
      ],
      "execution_count": 0,
      "outputs": []
    }
  ]
}