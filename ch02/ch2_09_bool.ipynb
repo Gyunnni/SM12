{
  "nbformat": 4,
  "nbformat_minor": 0,
  "metadata": {
    "colab": {
      "name": "ch2_09_bool.ipynb",
      "provenance": [],
      "collapsed_sections": [],
      "include_colab_link": true
    },
    "kernelspec": {
      "name": "python3",
      "display_name": "Python 3"
    }
  },
  "cells": [
    {
      "cell_type": "markdown",
      "metadata": {
        "id": "view-in-github",
        "colab_type": "text"
      },
      "source": [
        "<a href=\"https://colab.research.google.com/github/Gyunnni/SM12/blob/master/ch02/ch2_09_bool.ipynb\" target=\"_parent\"><img src=\"https://colab.research.google.com/assets/colab-badge.svg\" alt=\"Open In Colab\"/></a>"
      ]
    },
    {
      "cell_type": "markdown",
      "metadata": {
        "id": "8xCytdndr9kt",
        "colab_type": "text"
      },
      "source": [
        "# ch2_09_bool.py"
      ]
    },
    {
      "cell_type": "markdown",
      "metadata": {
        "id": "UCJS3Q1fsCxX",
        "colab_type": "text"
      },
      "source": [
        "##print(\"불: 불 자료형이란?\")\n",
        "### 불(bool) 자료형이란 참(True)과 거짓(False)을 나타내는 자료형이다.\n",
        "### 불 자료형은 다음 2가지 값만을 가질 수 있다.\n",
        "### True - 참\n",
        "### False - 거짓\n",
        "### True나 False는 파이썬의 예약어로 true, false와 같이 사용하지 말고\n",
        "### 첫 문자를 항상 대문자로 사용해야 한다."
      ]
    },
    {
      "cell_type": "code",
      "metadata": {
        "id": "qW8WCCcVrvid",
        "colab_type": "code",
        "outputId": "de3c9e59-98e7-4209-ca04-bb477f351ec2",
        "colab": {
          "base_uri": "https://localhost:8080/",
          "height": 35
        }
      },
      "source": [
        "\n",
        "a = True\n",
        "b = False\n",
        "print(type(a), type(b))\n",
        "#"
      ],
      "execution_count": 0,
      "outputs": [
        {
          "output_type": "stream",
          "text": [
            "<class 'bool'> <class 'bool'>\n"
          ],
          "name": "stdout"
        }
      ]
    },
    {
      "cell_type": "markdown",
      "metadata": {
        "id": "I9vj3yOwsa2S",
        "colab_type": "text"
      },
      "source": [
        "\n",
        "## 참과 거짓\n"
      ]
    },
    {
      "cell_type": "code",
      "metadata": {
        "id": "4sUlCIldrxRf",
        "colab_type": "code",
        "outputId": "a06e3fff-e669-4a1f-9147-67f377cc3cd1",
        "colab": {
          "base_uri": "https://localhost:8080/",
          "height": 107
        }
      },
      "source": [
        "\n",
        "print(1 == 1)\n",
        "print(2 > 1)\n",
        "print(2 < 1)\n",
        "print(True + 1)\n",
        "print(False + 1)"
      ],
      "execution_count": 0,
      "outputs": [
        {
          "output_type": "stream",
          "text": [
            "True\n",
            "True\n",
            "False\n",
            "2\n",
            "1\n"
          ],
          "name": "stdout"
        }
      ]
    },
    {
      "cell_type": "markdown",
      "metadata": {
        "id": "8VBIvQDEsm4u",
        "colab_type": "text"
      },
      "source": [
        "\n",
        "## 자료형의 참과 거짓\n"
      ]
    },
    {
      "cell_type": "code",
      "metadata": {
        "id": "fxq1OaueryyK",
        "colab_type": "code",
        "outputId": "849cc715-5951-49a8-97e6-487ba2c07484",
        "colab": {
          "base_uri": "https://localhost:8080/",
          "height": 179
        }
      },
      "source": [
        "print(bool(\"python\"))\n",
        "print(bool(\"\"))\n",
        "print(bool([1, 2, 3]))\n",
        "print(bool([]))\n",
        "print(bool(()))\n",
        "print(bool({}))\n",
        "print(bool(1))\n",
        "print(bool(0))\n",
        "print(bool(None))"
      ],
      "execution_count": 0,
      "outputs": [
        {
          "output_type": "stream",
          "text": [
            "True\n",
            "False\n",
            "True\n",
            "False\n",
            "False\n",
            "False\n",
            "True\n",
            "False\n",
            "False\n"
          ],
          "name": "stdout"
        }
      ]
    },
    {
      "cell_type": "markdown",
      "metadata": {
        "id": "qFDpXjYUs4Fj",
        "colab_type": "text"
      },
      "source": [
        "\n",
        "## 불 값을 이용한 코드\n"
      ]
    },
    {
      "cell_type": "code",
      "metadata": {
        "id": "gpa_GP2Tr0D7",
        "colab_type": "code",
        "outputId": "1430fd71-d048-446f-a6cc-b041c003d618",
        "colab": {
          "base_uri": "https://localhost:8080/",
          "height": 107
        }
      },
      "source": [
        "\n",
        "a = [1, 2, 3, 4]\n",
        "while a:\n",
        "    print(a.pop())\n",
        "\n",
        "\n",
        "#\n",
        "if []:\n",
        "    print(\"참\")\n",
        "else:\n",
        "    print(\"거짓\")\n"
      ],
      "execution_count": 0,
      "outputs": [
        {
          "output_type": "stream",
          "text": [
            "4\n",
            "3\n",
            "2\n",
            "1\n",
            "거짓\n"
          ],
          "name": "stdout"
        }
      ]
    },
    {
      "cell_type": "markdown",
      "metadata": {
        "id": "3UdI-rjKs-Al",
        "colab_type": "text"
      },
      "source": [
        "\n",
        "############################\n",
        "##  Representation error\n",
        "## double precision representation of floating-point numbers\n",
        "############################"
      ]
    },
    {
      "cell_type": "code",
      "metadata": {
        "id": "GVFX9qLLr337",
        "colab_type": "code",
        "outputId": "09586136-26ab-428b-f9da-f886816433e2",
        "colab": {
          "base_uri": "https://localhost:8080/",
          "height": 35
        }
      },
      "source": [
        "\n",
        "1-0.9\n",
        "# 0.09999999999999998\n",
        "1-0.9==.1\n",
        "# False\n"
      ],
      "execution_count": 0,
      "outputs": [
        {
          "output_type": "execute_result",
          "data": {
            "text/plain": [
              "False"
            ]
          },
          "metadata": {
            "tags": []
          },
          "execution_count": 10
        }
      ]
    },
    {
      "cell_type": "code",
      "metadata": {
        "id": "9Avj4Ds9tHjK",
        "colab_type": "code",
        "outputId": "299b9c71-5281-48ae-8946-4bd976dda7a1",
        "colab": {
          "base_uri": "https://localhost:8080/",
          "height": 53
        }
      },
      "source": [
        "\n",
        "#####\n",
        "import decimal\n",
        "x=decimal.Decimal(3.14)\n",
        "y=decimal.Decimal(2.74)\n",
        "x,y\n"
      ],
      "execution_count": 0,
      "outputs": [
        {
          "output_type": "execute_result",
          "data": {
            "text/plain": [
              "(Decimal('3.140000000000000124344978758017532527446746826171875'),\n",
              " Decimal('2.7400000000000002131628207280300557613372802734375'))"
            ]
          },
          "metadata": {
            "tags": []
          },
          "execution_count": 11
        }
      ]
    },
    {
      "cell_type": "code",
      "metadata": {
        "id": "asRJYXphtQaQ",
        "colab_type": "code",
        "outputId": "fcd0499e-a133-46c2-948a-fc545bac0012",
        "colab": {
          "base_uri": "https://localhost:8080/",
          "height": 35
        }
      },
      "source": [
        "\n",
        "x*y\n",
        "# Decimal('8.603600000000001010036498883')"
      ],
      "execution_count": 0,
      "outputs": [
        {
          "output_type": "execute_result",
          "data": {
            "text/plain": [
              "Decimal('8.604')"
            ]
          },
          "metadata": {
            "tags": []
          },
          "execution_count": 12
        }
      ]
    },
    {
      "cell_type": "code",
      "metadata": {
        "id": "CJzv89m1tTpV",
        "colab_type": "code",
        "outputId": "ef5edafd-bb07-4b27-8a88-f3c695bbe63c",
        "colab": {
          "base_uri": "https://localhost:8080/",
          "height": 35
        }
      },
      "source": [
        "\n",
        "decimal.getcontext().prec=4\n",
        "x*y\n",
        "# Decimal('8.604')"
      ],
      "execution_count": 0,
      "outputs": [
        {
          "output_type": "execute_result",
          "data": {
            "text/plain": [
              "Decimal('8.604')"
            ]
          },
          "metadata": {
            "tags": []
          },
          "execution_count": 13
        }
      ]
    },
    {
      "cell_type": "markdown",
      "metadata": {
        "id": "mAmeJ_hOtazI",
        "colab_type": "text"
      },
      "source": [
        "\n",
        "\"\"\"\n",
        "Author: redwoods\n",
        "파이썬 코드: ch2_09_bool.py\n",
        "\"\"\""
      ]
    }
  ]
}